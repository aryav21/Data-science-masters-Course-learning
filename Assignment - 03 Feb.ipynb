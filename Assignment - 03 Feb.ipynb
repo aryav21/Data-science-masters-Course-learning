{
 "cells": [
  {
   "cell_type": "markdown",
   "id": "c238a3f6-6ecf-45ad-be55-e3c47dd0d016",
   "metadata": {},
   "source": [
    "## ASSIGNMENT 03 Feb"
   ]
  },
  {
   "cell_type": "markdown",
   "id": "6a875ffb-3ab7-4279-8577-82d06b8634fc",
   "metadata": {},
   "source": [
    "### -----------------------------------------------------------------"
   ]
  },
  {
   "cell_type": "markdown",
   "id": "a8f3eb01-1b22-4615-b9d2-f7b368366e65",
   "metadata": {},
   "source": [
    "#### Q1. Which keyword is used to create a function? Create a function to return a list of odd numbers in the\n",
    "#### range of 1 to 25."
   ]
  },
  {
   "cell_type": "markdown",
   "id": "241c7c4b-98c2-4f46-a481-a252e0974e5e",
   "metadata": {},
   "source": [
    "Ans -> 'def' keyword is used to create a function"
   ]
  },
  {
   "cell_type": "code",
   "execution_count": 3,
   "id": "44dc0ff9-9776-4066-a8f3-905a887e3573",
   "metadata": {},
   "outputs": [],
   "source": [
    "def oddNo(n):\n",
    "    ls = []\n",
    "    for i in range(n):\n",
    "        if(i%2!=0):\n",
    "            ls.append(i)\n",
    "    return ls\n",
    "        \n",
    "    "
   ]
  },
  {
   "cell_type": "code",
   "execution_count": 4,
   "id": "932925c3-e20d-46ec-9311-e3ecf9e34184",
   "metadata": {},
   "outputs": [
    {
     "name": "stdout",
     "output_type": "stream",
     "text": [
      "[1, 3, 5, 7, 9, 11, 13, 15, 17, 19, 21, 23]\n"
     ]
    }
   ],
   "source": [
    "print(oddNo(25))"
   ]
  },
  {
   "cell_type": "markdown",
   "id": "335fcfdc-d9e2-4f76-8b8d-25c00fd1c3c0",
   "metadata": {},
   "source": [
    "### -----------------------------------------------------------------"
   ]
  },
  {
   "cell_type": "markdown",
   "id": "64658d25-2c84-42e4-bd36-437e33b526b5",
   "metadata": {},
   "source": [
    "#### Q2. Why *args and **kwargs is used in some functions? Create a function each for *args and **kwargs to\n",
    "#### demonstrate their use."
   ]
  },
  {
   "cell_type": "markdown",
   "id": "9f9ebdbf-0e33-451e-ad0f-2698f0dadb4f",
   "metadata": {},
   "source": [
    "Ans -> **args is used in function as parameter and it helps in taking any number of arguments of any type except key value pair for which **kwargs is used specifically. Passing these as parameter helps in taking any no of arguments."
   ]
  },
  {
   "cell_type": "code",
   "execution_count": 6,
   "id": "077a5b1c-3f51-468a-a442-455fbef47df8",
   "metadata": {},
   "outputs": [],
   "source": [
    "def func2(*args , **kargs):\n",
    "    return args,kargs"
   ]
  },
  {
   "cell_type": "code",
   "execution_count": 7,
   "id": "5d472084-f4c9-4e5e-8629-06e7eec82f35",
   "metadata": {},
   "outputs": [
    {
     "data": {
      "text/plain": [
       "((1, 2, (1, 3), [1, 4], {3, 4}, 'aryav'), {'a': 45, 'name': 'aryav'})"
      ]
     },
     "execution_count": 7,
     "metadata": {},
     "output_type": "execute_result"
    }
   ],
   "source": [
    "func2(1,2,(1,3),[1,4],{3,4},'aryav',a=45,name='aryav')"
   ]
  },
  {
   "cell_type": "markdown",
   "id": "dd6a9db6-8838-49b9-b96a-ab1ef4e196ff",
   "metadata": {},
   "source": [
    "### -----------------------------------------------------------------"
   ]
  },
  {
   "cell_type": "markdown",
   "id": "76e6929b-e2f9-4298-ab4c-2255e9b52dca",
   "metadata": {},
   "source": [
    "#### Q3. What is an iterator in python? Name the method used to initialise the iterator object and the method\n",
    "#### used for iteration. Use these methods to print the first five elements of the given list [2, 4, 6, 8, 10, 12, 14, 16,\n",
    "#### 18, 20]."
   ]
  },
  {
   "cell_type": "markdown",
   "id": "0b5dbba1-e099-44e3-b52a-ae6deb4841bb",
   "metadata": {},
   "source": [
    "Ans -> Iterator in Python is an object that is used to iterate over iterable objects like lists, tuples, dicts, and sets. The iterator object is initialized using the iter() method. It uses the next() method for iteration.\n",
    "\n",
    "iter(): The iter() method is called for the initialization of an iterator. This returns an iterator object.\n",
    "\n",
    "next(): The next method returns the next value for the iterable. When we use a for loop to traverse any iterable object."
   ]
  },
  {
   "cell_type": "code",
   "execution_count": 13,
   "id": "f9c405b3-04ca-4fdb-9561-4931c43e8999",
   "metadata": {},
   "outputs": [
    {
     "name": "stdout",
     "output_type": "stream",
     "text": [
      "2\n",
      "4\n",
      "6\n",
      "8\n",
      "10\n"
     ]
    }
   ],
   "source": [
    "l3 =[2, 4, 6, 8, 10, 12, 14, 16, 18, 20]\n",
    "\n",
    "iterables = iter(l3)\n",
    "\n",
    "for i in range (5):\n",
    "    \n",
    "    print(next(iterables))\n",
    "      \n",
    "\n",
    "\n"
   ]
  },
  {
   "cell_type": "markdown",
   "id": "e64237f1-05f5-4b60-a186-18e52f045ddd",
   "metadata": {},
   "source": [
    "### -----------------------------------------------------------------"
   ]
  },
  {
   "cell_type": "markdown",
   "id": "c1d2cba1-7432-4290-baa8-6f4ca0dc3608",
   "metadata": {},
   "source": [
    "#### Q4. What is a generator function in python? Why yield keyword is used? Give an example of a generator\n",
    "#### function."
   ]
  },
  {
   "cell_type": "markdown",
   "id": "78f7a03e-d04d-40b7-8615-face3e2c0d49",
   "metadata": {},
   "source": [
    "Ans -> In Python, a generator is a function that returns an iterator that produces a sequence of values when iterated over.Generators are useful when we want to produce a large sequence of values, but we don't want to store all of them in memory at once. In Python, similar to defining a normal function, we can define a generator function using the def keyword, but instead of the return statement we use the yield statement.\n",
    "Here, the yield keyword is used to produce a value from the generator.Genratrors are easy to implement,memory efficient"
   ]
  },
  {
   "cell_type": "code",
   "execution_count": 1,
   "id": "0836ae8a-ee86-4937-b1d9-be46e6bbedaf",
   "metadata": {},
   "outputs": [],
   "source": [
    "##Example\n",
    "\n",
    "def evenGenrator(n):\n",
    "    for i in range(1,n):\n",
    "        if(i%2==0):\n",
    "            yield i"
   ]
  },
  {
   "cell_type": "code",
   "execution_count": 3,
   "id": "b2a5acf7-acb2-4ff1-b3c0-339951f8b1ac",
   "metadata": {},
   "outputs": [
    {
     "name": "stdout",
     "output_type": "stream",
     "text": [
      "2\n",
      "4\n",
      "6\n",
      "8\n",
      "10\n",
      "12\n",
      "14\n",
      "16\n",
      "18\n",
      "20\n",
      "22\n",
      "24\n",
      "26\n",
      "28\n"
     ]
    }
   ],
   "source": [
    "for i in evenGenrator(30):\n",
    "    print(i)"
   ]
  },
  {
   "cell_type": "markdown",
   "id": "bd7de5ef-ee7a-480b-a340-c5c4d9b7b567",
   "metadata": {},
   "source": [
    "### -----------------------------------------------------------------"
   ]
  },
  {
   "cell_type": "markdown",
   "id": "9d471c72-79d9-48e5-87e6-7de2e240ca73",
   "metadata": {},
   "source": [
    "#### Q5. Create a generator function for prime numbers less than 1000. Use the next() method to print the\n",
    "#### first 20 prime numbers."
   ]
  },
  {
   "cell_type": "code",
   "execution_count": 19,
   "id": "ba454eb9-cacd-4390-bfdd-a4c770546398",
   "metadata": {},
   "outputs": [],
   "source": [
    "def primeGenrator( ):\n",
    "    yield 2\n",
    "    yield 3\n",
    "    for j in range(4,1000):\n",
    "        for i in range (2,int(j/2)+1):\n",
    "            if(j%i==0):\n",
    "                  break\n",
    "        if(i == j//2):\n",
    "            if(j!=4):\n",
    "                yield j\n",
    "        else:\n",
    "            continue"
   ]
  },
  {
   "cell_type": "code",
   "execution_count": 38,
   "id": "d995b469-2ff5-47f8-9921-b8e6f900d0b2",
   "metadata": {},
   "outputs": [],
   "source": [
    "iterables = primeGenrator()"
   ]
  },
  {
   "cell_type": "code",
   "execution_count": 39,
   "id": "e24aa14e-52bb-484f-adfe-58feb0e842e9",
   "metadata": {},
   "outputs": [
    {
     "name": "stdout",
     "output_type": "stream",
     "text": [
      "2\n",
      "3\n",
      "5\n",
      "7\n",
      "11\n",
      "13\n",
      "17\n",
      "19\n",
      "23\n",
      "29\n",
      "31\n",
      "37\n",
      "41\n",
      "43\n",
      "47\n",
      "53\n",
      "59\n",
      "61\n",
      "67\n",
      "71\n"
     ]
    }
   ],
   "source": [
    "for i in range (20):\n",
    "    print(next(iterables))"
   ]
  }
 ],
 "metadata": {
  "kernelspec": {
   "display_name": "Python 3 (ipykernel)",
   "language": "python",
   "name": "python3"
  },
  "language_info": {
   "codemirror_mode": {
    "name": "ipython",
    "version": 3
   },
   "file_extension": ".py",
   "mimetype": "text/x-python",
   "name": "python",
   "nbconvert_exporter": "python",
   "pygments_lexer": "ipython3",
   "version": "3.10.8"
  }
 },
 "nbformat": 4,
 "nbformat_minor": 5
}
