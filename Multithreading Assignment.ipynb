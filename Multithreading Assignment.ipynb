{
 "cells": [
  {
   "cell_type": "markdown",
   "id": "03a1dcbf-e88c-446f-892f-3b6688ae6b88",
   "metadata": {},
   "source": [
    "## Multithreading Assignment"
   ]
  },
  {
   "cell_type": "markdown",
   "id": "decf45ec-8a6b-49f0-8c2a-bba5c38a3081",
   "metadata": {},
   "source": [
    "### ----------------------------------------------------------------"
   ]
  },
  {
   "cell_type": "markdown",
   "id": "a81162ca-24ff-4fb5-9dcc-d0cd325dc830",
   "metadata": {},
   "source": [
    "#### Q1). What is multithreading in python? Why is it used? Name the module used to handle threads in python"
   ]
  },
  {
   "cell_type": "markdown",
   "id": "249e45cc-b645-46ae-8093-1ad9063c5a66",
   "metadata": {},
   "source": [
    "Ans -> A thread is a unit of execution within a process. Multithreading refers to concurrently executing multiple threads by rapidly switching the control of the CPU between threads (called context switching). Python streamlines the efficient utilization of resources as the threads share the same memory and data space. It also allows the concurrent appearance of multiple tasks and reduces the response time. This improves the performance.Multithreading would be the best choice if you want to fragment your tasks and operations into multiple sub-tasks and then execute them simultaneously.For example - simultaneous execution of  different instances of a function.\n",
    "\n",
    "-Thread method inside the threading moudule is used to handle threads in pyhton."
   ]
  },
  {
   "cell_type": "markdown",
   "id": "7856f92e-0d4c-413c-ad7f-bf67f1844035",
   "metadata": {},
   "source": [
    "### ----------------------------------------------------------------"
   ]
  },
  {
   "cell_type": "markdown",
   "id": "f67672f5-bdb9-4238-b558-1d1dcaa5159b",
   "metadata": {},
   "source": [
    "#### Q2). Why is threading module used? Write the use of the following functions\n",
    "#### 1. activeCount()\n",
    "#### 2. currentThread()\n",
    "#### 3. enumerate()"
   ]
  },
  {
   "cell_type": "markdown",
   "id": "a313c65b-48a2-4611-b30f-a1524d003591",
   "metadata": {},
   "source": [
    "Ans -> Python threading allows you to have different parts of your program run concurrently and can simplify your design. Threads are very useful in modern programming whenever a process has multiple tasks to perform independently of the others. This is particularly true when one of the tasks may block, and it is desired to allow the other tasks to proceed without blocking.\n",
    "\n",
    "\n",
    "\n"
   ]
  },
  {
   "cell_type": "markdown",
   "id": "20dac4a7-c496-4168-a28e-5569c71f1239",
   "metadata": {},
   "source": [
    "1. active_count() is an inbuilt method of the threading module in Python. It is used to return the number of Thread objects that are active at any instant."
   ]
  },
  {
   "cell_type": "code",
   "execution_count": 1,
   "id": "7c3279cc-c864-48c7-b03f-085c45265789",
   "metadata": {},
   "outputs": [],
   "source": [
    "import time\n",
    "import threading\n",
    "\n",
    "def thread_1(i):\n",
    "    time.sleep(2)\n",
    "    print(\"Number of active threads:\", threading.active_count())\n",
    "    print('Value by Thread 1:', i)\n",
    "\n",
    "def thread_2(i):\n",
    "    time.sleep(5)\n",
    "    print(\"Number of active threads:\", threading.active_count())\n",
    "    print('Value by Thread 2:', i)\n",
    "    \n",
    "def thread_3(i):\n",
    "    print(\"Number of active threads:\", threading.active_count())\n",
    "    print(\"Value by Thread 3:\", i)\n",
    "    \n",
    "    "
   ]
  },
  {
   "cell_type": "code",
   "execution_count": 2,
   "id": "8dee7d7a-d52c-449c-b749-235281e25ad1",
   "metadata": {},
   "outputs": [
    {
     "name": "stdout",
     "output_type": "stream",
     "text": [
      "Number of active threads in the starting: 8\n",
      "Number of active threads: 11\n",
      "Value by Thread 3: 3\n",
      "Number of active threads: 10\n",
      "Value by Thread 1: 1\n",
      "Number of active threads: 9\n",
      "Value by Thread 2: 2\n"
     ]
    }
   ],
   "source": [
    "thread1 = threading.Thread(target=thread_1, args=(1,))\n",
    "thread2 = threading.Thread(target=thread_2, args=(2,))\n",
    "thread3 = threading.Thread(target=thread_3, args=(3,))\n",
    "\n",
    "print(\"Number of active threads in the starting:\", threading.active_count())\n",
    "thread1.start()\n",
    "thread2.start()\n",
    "thread3.start()"
   ]
  },
  {
   "cell_type": "raw",
   "id": "6a90e4f2-5152-466b-a8c0-207e2ba40eee",
   "metadata": {},
   "source": []
  },
  {
   "cell_type": "markdown",
   "id": "abb711b5-af4a-4ef0-8cb6-9e965b5d8a78",
   "metadata": {},
   "source": [
    "2. current_thread() is an inbuilt method of the threading module in Python. It is used to return the current Thread object, which corresponds to the caller's thread of control."
   ]
  },
  {
   "cell_type": "code",
   "execution_count": 3,
   "id": "95e267b3-1a23-45d8-8e28-8b9572ec6b3c",
   "metadata": {},
   "outputs": [
    {
     "name": "stdout",
     "output_type": "stream",
     "text": [
      "Active current thread right now: <_MainThread(MainThread, started 140493611923264)>\n",
      "Active current thread right now: <Thread(Thread-10 (thread_3), started 140492977190464)>\n",
      "Value by Thread 3: 3\n",
      "Active current thread right now: <Thread(Thread-8 (thread_1), started 140492985583168)>\n",
      "Value by Thread 1: 1\n",
      "Active current thread right now: <Thread(Thread-9 (thread_2), started 140492993975872)>\n",
      "Value by Thread 2: 2\n"
     ]
    }
   ],
   "source": [
    "import time\n",
    "import threading\n",
    "\n",
    "def thread_1(i):\n",
    "    time.sleep(2)\n",
    "    print(\"Active current thread right now:\", (threading.current_thread()))\n",
    "    print('Value by Thread 1:', i)\n",
    "\n",
    "def thread_2(i):\n",
    "    time.sleep(5)\n",
    "    print(\"Active current thread right now:\", (threading.current_thread()))\n",
    "    print('Value by Thread 2:', i)\n",
    "    \n",
    "def thread_3(i):\n",
    "    print(\"Active current thread right now:\", (threading.current_thread()))\n",
    "    print(\"Value by Thread 3:\", i)\n",
    "    \n",
    "# Creating sample threads \n",
    "thread1 = threading.Thread(target=thread_1, args=(1,))\n",
    "thread2 = threading.Thread(target=thread_2, args=(2,))\n",
    "thread3 = threading.Thread(target=thread_3, args=(3,))\n",
    "\n",
    "print(\"Active current thread right now:\", (threading.current_thread()))\n",
    "# Initially it is the main thread that is active\n",
    "\n",
    "\n",
    "thread1.start()\n",
    "thread2.start()\n",
    "thread3.start()"
   ]
  },
  {
   "cell_type": "raw",
   "id": "12d347bf-9dd7-45b8-8592-649b3cfe97da",
   "metadata": {},
   "source": []
  },
  {
   "cell_type": "markdown",
   "id": "609489ff-7f24-4498-99c4-a9c433850e5a",
   "metadata": {},
   "source": [
    "3. enumerate() is an inbuilt method of the threading module in Python. It is used to return the list of all the Thread class objects which are currently alive. It also includes daemonic threads, the main thread, and dummy thread objects created by current_thread(). It does not count the threads that have terminated or which have not started yet."
   ]
  },
  {
   "cell_type": "code",
   "execution_count": 4,
   "id": "2772d342-7c8c-47db-b572-7e41e0ec1d92",
   "metadata": {},
   "outputs": [
    {
     "name": "stdout",
     "output_type": "stream",
     "text": [
      "Threads alive in the starting: [<_MainThread(MainThread, started 140493611923264)>, <Thread(IOPub, started daemon 140493541393984)>, <Heartbeat(Heartbeat, started daemon 140493533001280)>, <Thread(Thread-3 (_watch_pipe_fd), started daemon 140493507823168)>, <Thread(Thread-4 (_watch_pipe_fd), started daemon 140493499430464)>, <ControlThread(Control, started daemon 140493491037760)>, <HistorySavingThread(IPythonHistorySavingThread, started 140493010761280)>, <ParentPollerUnix(Thread-2, started daemon 140493002368576)>]\n",
      "\n",
      "Threads alive when thread_2 executes\n",
      "<_MainThread(MainThread, started 140493611923264)>\n",
      "<Thread(IOPub, started daemon 140493541393984)>\n",
      "<Heartbeat(Heartbeat, started daemon 140493533001280)>\n",
      "<Thread(Thread-3 (_watch_pipe_fd), started daemon 140493507823168)>\n",
      "<Thread(Thread-4 (_watch_pipe_fd), started daemon 140493499430464)>\n",
      "<ControlThread(Control, started daemon 140493491037760)>\n",
      "<HistorySavingThread(IPythonHistorySavingThread, started 140493010761280)>\n",
      "<ParentPollerUnix(Thread-2, started daemon 140493002368576)>\n",
      "<Thread(Thread-11 (thread_1), started 140492993975872)>\n",
      "<Thread(Thread-12 (thread_2), started 140492985583168)>\n",
      "\n",
      "Threads alive when thread_4 executes\n",
      "<_MainThread(MainThread, started 140493611923264)>\n",
      "<Thread(IOPub, started daemon 140493541393984)>\n",
      "<Heartbeat(Heartbeat, started daemon 140493533001280)>\n",
      "<Thread(Thread-3 (_watch_pipe_fd), started daemon 140493507823168)>\n",
      "<Thread(Thread-4 (_watch_pipe_fd), started daemon 140493499430464)>\n",
      "<ControlThread(Control, started daemon 140493491037760)>\n",
      "<HistorySavingThread(IPythonHistorySavingThread, started 140493010761280)>\n",
      "<ParentPollerUnix(Thread-2, started daemon 140493002368576)>\n",
      "<Thread(Thread-11 (thread_1), started 140492993975872)>\n",
      "<Thread(Thread-13 (thread_3), started 140492985583168)>\n",
      "<Thread(Thread-14 (thread_4), started 140492977190464)>\n",
      "\n",
      "Threads alive when thread_1 executes:\n",
      "<_MainThread(MainThread, started 140493611923264)>\n",
      "<Thread(IOPub, started daemon 140493541393984)>\n",
      "<Heartbeat(Heartbeat, started daemon 140493533001280)>\n",
      "<Thread(Thread-3 (_watch_pipe_fd), started daemon 140493507823168)>\n",
      "<Thread(Thread-4 (_watch_pipe_fd), started daemon 140493499430464)>\n",
      "<ControlThread(Control, started daemon 140493491037760)>\n",
      "<HistorySavingThread(IPythonHistorySavingThread, started 140493010761280)>\n",
      "<ParentPollerUnix(Thread-2, started daemon 140493002368576)>\n",
      "<Thread(Thread-11 (thread_1), started 140492993975872)>\n",
      "\n"
     ]
    }
   ],
   "source": [
    "import time\n",
    "import threading\n",
    "\n",
    "def thread_1(i):\n",
    "    time.sleep(5)\n",
    "    print(\"Threads alive when thread_1 executes:\")\n",
    "    print(*threading.enumerate(), sep = \"\\n\")\n",
    "        \n",
    "    print()\n",
    "\n",
    "def thread_2(i):\n",
    "    print(\"Threads alive when thread_2 executes\")\n",
    "    print(*threading.enumerate(), sep = \"\\n\")\n",
    "    print()\n",
    "    \n",
    "def thread_3(i):\n",
    "    time.sleep(4)\n",
    "    \n",
    "    \n",
    "def thread_4(i):\n",
    "    time.sleep(1)\n",
    "    print(\"Threads alive when thread_4 executes\")\n",
    "    print(*threading.enumerate(), sep = \"\\n\")\n",
    "    print()\n",
    "\n",
    "\n",
    "thread1 = threading.Thread(target=thread_1, args=(10,))\n",
    "thread2 = threading.Thread(target=thread_2, args=(20,))\n",
    "thread3 = threading.Thread(target=thread_3, args=(30,))\n",
    "thread4 = threading.Thread(target=thread_4, args=(50,))\n",
    "\n",
    "print(\"Threads alive in the starting:\", threading.enumerate())\n",
    "print()\n",
    "\n",
    "\n",
    "thread1.start()\n",
    "thread2.start()\n",
    "thread3.start()\n",
    "thread4.start()"
   ]
  },
  {
   "cell_type": "markdown",
   "id": "356af642-8070-48b0-95b3-f7de1ae5a1c7",
   "metadata": {},
   "source": [
    "### ----------------------------------------------------------------"
   ]
  },
  {
   "cell_type": "markdown",
   "id": "b03a394a-ee0c-4d39-bf95-139a4eece141",
   "metadata": {},
   "source": [
    "#### Q3). Explain the following functions\n",
    "#### 1. run()\n",
    "#### 2. start()\n",
    "#### 3. join()\n",
    "#### 4. isAlive()"
   ]
  },
  {
   "cell_type": "markdown",
   "id": "00a68ed8-fcbd-4bb0-9e04-f4932b1f3182",
   "metadata": {},
   "source": [
    "Ans -> \n",
    "1. run() − The run() method is the entry point for a thread.\n",
    "2. start() − The start() method starts a thread by calling the run method.\n",
    "3. join([time]) − The join() waits for threads to terminate.\n",
    "4. isAlive() − The isAlive() method checks whether a thread is still executing."
   ]
  },
  {
   "cell_type": "markdown",
   "id": "1a3166cc-871e-425e-aacb-0a4975e6e085",
   "metadata": {},
   "source": [
    "### ----------------------------------------------------------------"
   ]
  },
  {
   "cell_type": "markdown",
   "id": "3f402862-455b-4909-af7b-ba2aa46de96b",
   "metadata": {},
   "source": [
    "#### Q4). Write a python program to create two threads. Thread one must print the list of squares and thread\n",
    "#### two must print the list of cubes"
   ]
  },
  {
   "cell_type": "code",
   "execution_count": 1,
   "id": "040b3137-40ef-48ed-ac50-c7d331315502",
   "metadata": {},
   "outputs": [],
   "source": [
    "import threading\n",
    "\n",
    "def square(n):\n",
    "    print(n**2)\n",
    "\n",
    "def cube(n):\n",
    "    print(n**3)\n",
    "\n",
    "l = [i for i in range(1,7)]\n"
   ]
  },
  {
   "cell_type": "code",
   "execution_count": 2,
   "id": "6933f867-cd5f-415c-bc9c-3702108e9955",
   "metadata": {},
   "outputs": [],
   "source": [
    "thread1 = [threading.Thread(target = square , args = (n,)) for n in l]\n",
    "thread2 = [threading.Thread(target = cube , args = (n,)) for n in l]"
   ]
  },
  {
   "cell_type": "code",
   "execution_count": 3,
   "id": "6c013ede-581a-4e7e-9cee-4550a0df7e82",
   "metadata": {},
   "outputs": [
    {
     "name": "stdout",
     "output_type": "stream",
     "text": [
      "1\n",
      "4\n",
      "9\n",
      "16\n",
      "25\n",
      "36\n"
     ]
    }
   ],
   "source": [
    "for t in thread1:\n",
    "    t.start()"
   ]
  },
  {
   "cell_type": "code",
   "execution_count": 4,
   "id": "b2dcf101-5e2b-45d5-bada-3491101122bd",
   "metadata": {},
   "outputs": [
    {
     "name": "stdout",
     "output_type": "stream",
     "text": [
      "1\n",
      "8\n",
      "27\n",
      "64\n",
      "125\n",
      "216\n"
     ]
    }
   ],
   "source": [
    "for t in thread2:\n",
    "    t.start()"
   ]
  },
  {
   "cell_type": "markdown",
   "id": "b17be58e-06e4-4e69-a4bc-35f6e5517750",
   "metadata": {},
   "source": [
    "### ----------------------------------------------------------------"
   ]
  },
  {
   "cell_type": "markdown",
   "id": "4f235708-eeea-4798-a799-6dcd7e4ed420",
   "metadata": {},
   "source": [
    "#### Q5). State advantages and disadvantages of multithreading."
   ]
  },
  {
   "cell_type": "markdown",
   "id": "608c392d-c5aa-4931-bbf0-d7fe9ef1d7c5",
   "metadata": {},
   "source": [
    "Ans -> The primary function of multithreading is to simultaneously run or execute multiple tasks. These tasks are represented as threads in a Python program and have a separate execution path. Also, handling of multithreaded Python programs is easy because you can decide the sequence in which execution of Java threads take place.\n",
    "\n",
    "\n",
    "                    -> Advantages of multithreading:\n",
    "    \n",
    " ##### ) Multithreading enables a program to continue running even if a section is blocked,increasing user responsiveness.\n",
    " ##### ) Simplified and streamlined program coding\n",
    " ##### ) Simultaneous and parallelized occurrence of tasks\n",
    " ##### ) Better use of cache storage by utilization of resources\n",
    " ##### ) Threads have a minimal influence on the system's resources. The overhead of creating, maintaining, and managing threads is lower.\n",
    " ##### ) Better use of CPU resource\n",
    "\n",
    "\n",
    "                    -> Disadvantages of multithreading\n",
    "\n",
    "\n",
    "##### ) Complex debugging and testing processes\n",
    "##### ) Overhead switching of context\n",
    "##### ) Increased potential for deadlock occurrence\n",
    "##### ) Increased difficulty level in writing a program\n",
    "##### ) Unpredictable results"
   ]
  },
  {
   "cell_type": "markdown",
   "id": "3c4e6c2d-df15-4e45-82c4-f8212d0981b6",
   "metadata": {},
   "source": [
    "### ----------------------------------------------------------------"
   ]
  },
  {
   "cell_type": "markdown",
   "id": "03fa1c91-6463-4443-b3ac-605414d437ae",
   "metadata": {},
   "source": [
    "#### Q6). Explain deadlocks and race conditions."
   ]
  },
  {
   "cell_type": "markdown",
   "id": "fef1bb21-7cb9-41bd-9f42-4fa0319bf7dc",
   "metadata": {},
   "source": [
    "Ans -> A Lock is an object that acts as a permit. The lock will be assigned to only one thread at a time. The other threads will wait for the lock owner to complete its task and return it.\n",
    "\n",
    " ##### DEADLOCK \n",
    "When two processes are waiting for each other directly or indirectly, it is called deadlock.This usually occurs when two processes are waiting for shared resources acquired by others. For example, If thread T1 acquired resource R1 and it also needs resource R2 for it to accomplish its task. But the resource R2 is acquired by thread T2 which is waiting for resource R1(which is acquired by T1). Neither of them will be able to accomplish its task, as they keep waiting for the other resources they need.All these three processes would keep waiting and will never end. This is called deadlock. For example - In multithreading a Deadlocks normally occurs when a Lock is not released properly or due to problems in the design scheme of a program that does not correctly foresee all the possible deadlock conditions.\n",
    "There are a number of functions for using locks within a program. The acquire() and release() functions, for example, have the task of having the lock acquired and released. But one has to carefully release all the locks acquired by a thread otherwise deadlock occurs.To avoid these cases, the locks can been designed to work as a context manager, within a 'with' statement. With this system, the lock will still be released automatically when the block with ends. In this way we will see that it will not be necessary to call the acquire() and release() functions, but everything will be managed by the context manager.\n",
    "\n",
    " ##### RACE CONDITIONS\n",
    "When two processes are competing with each other try to access a specific asset/resource simultaneously causing data corruption.For example, if two processes/threads are trying to update a shared variable simultaneously, they cause data corruption.It is very common for the race conditions to go unnoticed during testing even after multiple tests and code reviews. But in production, there would be a lot of processes and threads working parallelly and compete for the same resources, and this problem would occur.\n",
    "This could be handled with the help of Lock mechanism as it will be possible to control the competition between the various threads, ensuring that each one of them performs its activities without the unwanted interference of the other threads.For example, each thread must receive the lock, perform read-calculate-write operations and then return the lock to the others. In this way we will have control over the correct sequence of events between the various threads eliminating the race condition."
   ]
  },
  {
   "cell_type": "code",
   "execution_count": 1,
   "id": "56636c66-f025-4f1c-abd1-a5bba9416057",
   "metadata": {},
   "outputs": [],
   "source": [
    "import threading\n",
    "import time\n",
    "\n",
    "shared_var = 0\n",
    "lock_var = threading.Lock()"
   ]
  },
  {
   "cell_type": "code",
   "execution_count": 2,
   "id": "bd256a20-9e93-402b-bc04-fd583f3dfea5",
   "metadata": {},
   "outputs": [],
   "source": [
    "def fun(n):\n",
    "    global shared_var\n",
    "    with lock_var:\n",
    "        shared_var = shared_var +1\n",
    "        print('For value of {} , value of shared_var is {}'.format(n,shared_var))\n",
    "        time.sleep(1)\n",
    "        \n",
    "thread4 = [threading.Thread(target = fun , args = (n,)) for n in range(1,6)]\n",
    "        "
   ]
  },
  {
   "cell_type": "code",
   "execution_count": 3,
   "id": "d60fb5a6-0fa0-40d6-92d3-3b2236c1f290",
   "metadata": {},
   "outputs": [
    {
     "name": "stdout",
     "output_type": "stream",
     "text": [
      "For value of 1 , value of shared_var is 1\n",
      "For value of 2 , value of shared_var is 2\n",
      "For value of 3 , value of shared_var is 3\n",
      "For value of 4 , value of shared_var is 4\n",
      "For value of 5 , value of shared_var is 5\n"
     ]
    }
   ],
   "source": [
    "for t in thread4:\n",
    "    t.start()"
   ]
  }
 ],
 "metadata": {
  "kernelspec": {
   "display_name": "Python 3 (ipykernel)",
   "language": "python",
   "name": "python3"
  },
  "language_info": {
   "codemirror_mode": {
    "name": "ipython",
    "version": 3
   },
   "file_extension": ".py",
   "mimetype": "text/x-python",
   "name": "python",
   "nbconvert_exporter": "python",
   "pygments_lexer": "ipython3",
   "version": "3.10.8"
  }
 },
 "nbformat": 4,
 "nbformat_minor": 5
}
