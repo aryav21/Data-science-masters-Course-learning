{
 "cells": [
  {
   "cell_type": "markdown",
   "id": "1a9c1f40-0f91-49a7-ae09-2495330dd1bb",
   "metadata": {},
   "source": [
    "## Python Basics Assignment"
   ]
  },
  {
   "cell_type": "markdown",
   "id": "e7a07fa8-f013-465a-9d2f-e3db9fa6ac1a",
   "metadata": {},
   "source": [
    "1) Guido van Rossum developed python"
   ]
  },
  {
   "cell_type": "markdown",
   "id": "f85f0256-f88f-4712-ba77-176da7305b04",
   "metadata": {},
   "source": [
    "2) Python is an interpreted programming language, supporting object-oriented, structured, and functional programming."
   ]
  },
  {
   "cell_type": "markdown",
   "id": "eb3f95ac-e392-4311-88f8-e14699274d07",
   "metadata": {},
   "source": [
    "3) Yes , python is case sensetive while dealing with identifiers"
   ]
  },
  {
   "cell_type": "markdown",
   "id": "4551991b-c1fd-4594-954b-3ca4d5e36ce2",
   "metadata": {},
   "source": [
    "4) .py or .ipynb for jupyter"
   ]
  },
  {
   "cell_type": "markdown",
   "id": "60e4dd32-32f2-4327-8fde-132f64376a2a",
   "metadata": {},
   "source": [
    "5) Python code is interpreted"
   ]
  },
  {
   "cell_type": "markdown",
   "id": "4e9b1400-b24c-4e45-8cac-b75aba98375e",
   "metadata": {},
   "source": [
    "6) Indentation is used to define a block of code in python"
   ]
  },
  {
   "cell_type": "markdown",
   "id": "46f3bd06-bc02-46fa-92c7-8c0cb9cf5421",
   "metadata": {},
   "source": [
    "7. '#' is used for single line commenting."
   ]
  },
  {
   "cell_type": "markdown",
   "id": "6db47596-0c9d-43e3-b331-062db97d0046",
   "metadata": {},
   "source": [
    "8) python_version() function "
   ]
  },
  {
   "cell_type": "markdown",
   "id": "76df99cc-eabf-4a69-b5fc-a5913437c5cc",
   "metadata": {},
   "source": [
    "9) Lambda "
   ]
  },
  {
   "cell_type": "markdown",
   "id": "0d73bc78-6f0d-46a1-9497-fd7ca4872202",
   "metadata": {},
   "source": [
    "10) Preferred Installer Program (PIP)"
   ]
  },
  {
   "cell_type": "markdown",
   "id": "90aa5acd-b245-46b5-9a7f-a753c98bf429",
   "metadata": {},
   "source": [
    "11) print() , input() , type() etc are bulit in function in python"
   ]
  },
  {
   "cell_type": "markdown",
   "id": "ce658a78-48fc-4229-9ae9-64c87008577e",
   "metadata": {},
   "source": [
    "12) 79 characters"
   ]
  },
  {
   "cell_type": "markdown",
   "id": "b64e8220-c023-4629-ad54-4badade337fc",
   "metadata": {},
   "source": [
    "13) 1) Presence of large number of Libraries - 137,000 that have various application.\n",
    "    2) Open Source and free.\n",
    "    3) Easy to learn\n",
    "    4) Dynamic typing.\n",
    "    5) Has multitude of application be it in ML , Web dev , AI etc.\n",
    "\n"
   ]
  },
  {
   "cell_type": "markdown",
   "id": "1d4a7a00-dc01-4b60-beb4-019290af3be0",
   "metadata": {},
   "source": [
    "14) Steps to intall python on windows:\n",
    "    1. Download the latest version (or older based on your requirement) from https://www.python.org/downloads/\n",
    "    2. Follow all the steps of the installer.\n",
    "    3. Setting environment variables.\n",
    "         - Right-clicking This PC and going to Properties.\n",
    "         - Clicking on the Advanced system settings in the menu on the left.\n",
    "         - Clicking on the Environment Variables button on the bottom right.\n",
    "         - In the System variables section, selecting the Path variable and clicking on Edit.\n",
    "         - Clicking on New and entering Python’s install directory.\n",
    "         - Now you could access python from cmd or any IDEs\n",
    "    \n",
    "    "
   ]
  },
  {
   "cell_type": "markdown",
   "id": "ea32805f-f2c5-4120-971d-1ae2a0d1f0bd",
   "metadata": {},
   "source": [
    "15) Python has a private heap that stores our program’s objects and data structures. Python memory manager takes care of the    bulk of the memory management work. There are two types of memory allocation in Python, static and dynamic.The stack data structure provides static memory allocation.Statically assigned variables are permanent; this means that they must be allocated in advance and persist for the duration of the program.We cannot reuse the memory allocated in the stack memory.Therefore, memory reusability is not possible. The dynamic memory allocation uses heap data structures in its implementation and these dynamically allocated variables are not permanent and can be changed while a program is running. Additionally, allotted memory can be relinquished and reused. However, it takes longer to complete because dynamic memory allocation occurs during program execution. Furthermore, after utilizing the allocated memory, we must release it. Otherwise, problems such as memory leaks might arise.Python also uses garbage collection to release memory blocks no longer in use."
   ]
  },
  {
   "cell_type": "markdown",
   "id": "0c2225e2-676a-486e-8657-88e5de3b6a95",
   "metadata": {},
   "source": [
    "16) Indentation in Python is necessary as it indicates a block of code and defines a proper flow of execution."
   ]
  }
 ],
 "metadata": {
  "kernelspec": {
   "display_name": "Python 3 (ipykernel)",
   "language": "python",
   "name": "python3"
  },
  "language_info": {
   "codemirror_mode": {
    "name": "ipython",
    "version": 3
   },
   "file_extension": ".py",
   "mimetype": "text/x-python",
   "name": "python",
   "nbconvert_exporter": "python",
   "pygments_lexer": "ipython3",
   "version": "3.10.8"
  }
 },
 "nbformat": 4,
 "nbformat_minor": 5
}
