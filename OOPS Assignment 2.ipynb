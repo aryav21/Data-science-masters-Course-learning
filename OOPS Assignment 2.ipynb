{
 "cells": [
  {
   "cell_type": "markdown",
   "id": "5fcceeb8-4e93-4a09-880a-af8260c92a99",
   "metadata": {},
   "source": [
    "## OOPS Assignment 2"
   ]
  },
  {
   "cell_type": "markdown",
   "id": "0cf573be-ca25-4679-8c33-c4cc594184eb",
   "metadata": {},
   "source": [
    "## ---------------------------------------------------------------------------"
   ]
  },
  {
   "cell_type": "markdown",
   "id": "cbf7df94-8320-4ddc-90cd-37ec854ecbf8",
   "metadata": {},
   "source": [
    "#### Q1, Create a vehicle class with an init method having instance variables as name_of_vehicle, max_speed\n",
    "#### and average_of_vehicle."
   ]
  },
  {
   "cell_type": "code",
   "execution_count": 2,
   "id": "4f562807-b64e-4b9e-9c47-a2e6d48b35ad",
   "metadata": {},
   "outputs": [],
   "source": [
    "class vehicle:\n",
    "    def __init__(self,name_of_vehicle,max_speed,average_of_vehicle):\n",
    "        \n",
    "        self.name_of_vehicle = name_of_vehicle\n",
    "        self.max_speed = max_speed\n",
    "        self.average_of_vehicle = average_of_vehicle\n",
    "        \n",
    "    def display(self):\n",
    "        return self.name_of_vehicle,self.max_speed,self.average_of_vehicle"
   ]
  },
  {
   "cell_type": "code",
   "execution_count": 4,
   "id": "cf557dc6-ec89-4d7c-b88e-f90a2c23e7c4",
   "metadata": {},
   "outputs": [
    {
     "data": {
      "text/plain": [
       "('Jupiter', '90kmph', '55kmpl')"
      ]
     },
     "execution_count": 4,
     "metadata": {},
     "output_type": "execute_result"
    }
   ],
   "source": [
    "scooty = vehicle('Jupiter','90kmph','55kmpl')\n",
    "scooty.display()"
   ]
  },
  {
   "cell_type": "markdown",
   "id": "b1473075-7648-4b55-804b-5ba935052e33",
   "metadata": {},
   "source": [
    "## ---------------------------------------------------------------------------"
   ]
  },
  {
   "cell_type": "markdown",
   "id": "9330bb75-2c52-4dd2-acbd-37bdb7c797a8",
   "metadata": {},
   "source": [
    "#### Q2. Create a child class car from the vehicle class created in Que 1, which will inherit the vehicle class.\n",
    "#### Create a method named seating_capacity which takes capacity as an argument and returns the name of\n",
    "#### the vehicle and its seating capacity."
   ]
  },
  {
   "cell_type": "code",
   "execution_count": 5,
   "id": "9ac2fce8-46df-4002-a22b-d89ae0bd558a",
   "metadata": {},
   "outputs": [],
   "source": [
    "class car(vehicle):\n",
    "    def seating_capacity(self, capacity):\n",
    "        self.seating_capacity = capacity\n",
    "        return self.name_of_vehicle,self.seating_capacity\n",
    "        "
   ]
  },
  {
   "cell_type": "code",
   "execution_count": 8,
   "id": "f80c3d93-e8b0-42f5-9ead-a22763ff2ff8",
   "metadata": {},
   "outputs": [
    {
     "data": {
      "text/plain": [
       "('Alto', 5)"
      ]
     },
     "execution_count": 8,
     "metadata": {},
     "output_type": "execute_result"
    }
   ],
   "source": [
    "hatchback  = car('Alto','130kmph','32kmpl')\n",
    "hatchback.seating_capacity(5)\n"
   ]
  },
  {
   "cell_type": "markdown",
   "id": "d5239cab-c54b-4775-bd44-9b1da124fe39",
   "metadata": {},
   "source": [
    "## ---------------------------------------------------------------------------"
   ]
  },
  {
   "cell_type": "markdown",
   "id": "17d38be2-66ca-4dbf-9b6c-fe5c6aed6491",
   "metadata": {},
   "source": [
    "#### Q3. What is multiple inheritance? Write a python code to demonstrate multiple inheritance."
   ]
  },
  {
   "cell_type": "markdown",
   "id": "e47aa022-5dc3-4cd1-a75c-05b77a4f9c62",
   "metadata": {},
   "source": [
    "Ans -> Multiple inheritance occurs when a child class inherits from multiple parent classes."
   ]
  },
  {
   "cell_type": "code",
   "execution_count": 9,
   "id": "975c23c2-daef-42b3-b110-aff351b96f96",
   "metadata": {},
   "outputs": [
    {
     "name": "stdout",
     "output_type": "stream",
     "text": [
      "Method of A is called\n",
      "Method of B is called\n"
     ]
    }
   ],
   "source": [
    "## Example\n",
    "\n",
    "class A:\n",
    "    def show(self):\n",
    "        print(\"Method of A is called\")\n",
    "\n",
    "class B:\n",
    "    def display(self):\n",
    "        print(\"Method of B is called\")\n",
    "        \n",
    "class C(B,A):\n",
    "    pass\n",
    "\n",
    "obj = C()\n",
    "obj.show()\n",
    "obj.display()\n"
   ]
  },
  {
   "cell_type": "markdown",
   "id": "e10e00c4-c950-46e5-97fb-32dccf829379",
   "metadata": {},
   "source": [
    "## ---------------------------------------------------------------------------"
   ]
  },
  {
   "cell_type": "markdown",
   "id": "e2ac0e1a-4e8e-4654-8f3f-04e1c184529a",
   "metadata": {},
   "source": [
    "#### Q4. What are getter and setter in python? Create a class and create a getter and a setter method in this\n",
    "#### class."
   ]
  },
  {
   "cell_type": "markdown",
   "id": "65a8d05c-700d-4465-91f5-c9c31bffe944",
   "metadata": {},
   "source": [
    "Ans -> Ans -> In object oriented programming, attributes hold the internal state of objects. In many cases, we need to perform operation involving accessing and mutating these attributes. We could either access and mutate these attributes directly if they are public or we would use methods if they are private or protected.\n",
    "Methods used for accessing and modifying private and protected attributes are called setters and getters.\n",
    "\n",
    "    1) Getter: A method that allows you to access an attribute in a given class.\n",
    "    2) Setter: A method that allows you to set or mutate the value of an attribute in a class.\n",
    "    \n",
    "    \n",
    "In OOP, the getter and setter pattern suggests that public attributes should be used only when you’re sure that no one will ever need to attach behavior to them. If an attribute is likely to change its internal implementation, then you should use getter and setter methods.\n",
    "Implementing the getter and setter pattern requires:\n",
    "\n",
    "    1) Making your attributes non-public\n",
    "    2) Writing getter and setter methods for each attribute"
   ]
  },
  {
   "cell_type": "code",
   "execution_count": 2,
   "id": "aa222005-70b4-49ab-84bd-b5233afe4c7a",
   "metadata": {},
   "outputs": [],
   "source": [
    "class pwskills:\n",
    "    \n",
    "    def __init__(self, course_price , course_name):\n",
    "        self.__course_price = course_price\n",
    "        self.course_name = course_name\n",
    "        \n",
    "    \n",
    "    def course_price_getter(self):\n",
    "        return self.__course_price\n",
    "    \n",
    "  \n",
    "    def course_price_setter(self , price):\n",
    "        if price <= 3500:\n",
    "            pass\n",
    "        else :\n",
    "            self.__course_price = price\n",
    "            \n",
    "    \n",
    "    def course_price_deleter(self):\n",
    "        del  self.__course_price\n",
    "    "
   ]
  },
  {
   "cell_type": "code",
   "execution_count": 3,
   "id": "57be5398-dec3-4171-b57c-2b27af259c2a",
   "metadata": {},
   "outputs": [],
   "source": [
    "Aryav = pwskills(4000,'Data science masters')"
   ]
  },
  {
   "cell_type": "code",
   "execution_count": 4,
   "id": "3af0bb02-a820-44d0-b16c-12f0b8b7d28e",
   "metadata": {},
   "outputs": [
    {
     "data": {
      "text/plain": [
       "4000"
      ]
     },
     "execution_count": 4,
     "metadata": {},
     "output_type": "execute_result"
    }
   ],
   "source": [
    "Aryav.course_price_getter()"
   ]
  },
  {
   "cell_type": "code",
   "execution_count": 5,
   "id": "61fdf9de-5b8d-4a49-a00a-65c9f0cad3da",
   "metadata": {},
   "outputs": [],
   "source": [
    "Aryav.course_price_setter(5000)"
   ]
  },
  {
   "cell_type": "markdown",
   "id": "242f2e47-0b58-4d54-af4a-ccb07e4357f9",
   "metadata": {},
   "source": [
    "## ---------------------------------------------------------------------------"
   ]
  },
  {
   "cell_type": "markdown",
   "id": "4781779f-0469-49bd-9050-ae8a8293a7eb",
   "metadata": {},
   "source": [
    "#### Q5.What is method overriding in python? Write a python code to demonstrate method overriding."
   ]
  },
  {
   "cell_type": "markdown",
   "id": "95397a11-c02e-472a-8a27-918c0f529ee5",
   "metadata": {},
   "source": [
    "Ans -> Method overriding is an ability of any object-oriented programming language that allows a subclass or child class to provide a specific implementation of a method that is already provided by one of its super-classes or parent classes. When a method in a subclass has the same name, same parameters or signature and same return type(or sub-type) as a method in its super-class, then the method in the subclass is said to override the method in the super-class\n",
    "The version of a method that is executed will be determined by the object that is used to invoke it. If an object of a parent class is used to invoke the method, then the version in the parent class will be executed, but if an object of the subclass is used to invoke the method, then the version in the child class will be executed."
   ]
  },
  {
   "cell_type": "code",
   "execution_count": 6,
   "id": "b75397df-99d6-4385-8429-b5dbb2816343",
   "metadata": {},
   "outputs": [],
   "source": [
    "class A:\n",
    "    def display(self):\n",
    "        print('In parent class')\n",
    "        \n",
    "class B(A):\n",
    "    def display(self):\n",
    "        print('In child class')"
   ]
  },
  {
   "cell_type": "code",
   "execution_count": 7,
   "id": "860a7671-6299-44c4-aad1-88065c9bafa8",
   "metadata": {},
   "outputs": [
    {
     "name": "stdout",
     "output_type": "stream",
     "text": [
      "In child class\n"
     ]
    }
   ],
   "source": [
    "b = B()\n",
    "b.display()"
   ]
  },
  {
   "cell_type": "markdown",
   "id": "261a77b0-da11-400e-a766-24ffcd6af01c",
   "metadata": {},
   "source": [
    "In order to call parent method of same name inside child class we could use super() function or parent class name which provides us the facility to refer to the parent class explicitly."
   ]
  },
  {
   "cell_type": "code",
   "execution_count": 10,
   "id": "ffa98e10-12dc-4274-b8e3-012acc47b1a4",
   "metadata": {},
   "outputs": [],
   "source": [
    "class A:\n",
    "    def display(self):\n",
    "        print('In parent class')\n",
    "        \n",
    "class B(A):\n",
    "    def display(self):\n",
    "        super().display()         #----------> Super method\n",
    "        A.display(self)           #----------> By parent class name\n",
    "        print('In child class')"
   ]
  },
  {
   "cell_type": "code",
   "execution_count": 11,
   "id": "d0944c4d-f13e-411d-8b32-97ab1971fe97",
   "metadata": {},
   "outputs": [
    {
     "name": "stdout",
     "output_type": "stream",
     "text": [
      "In parent class\n",
      "In parent class\n",
      "In child class\n"
     ]
    }
   ],
   "source": [
    "b1 = B()\n",
    "b1.display()"
   ]
  }
 ],
 "metadata": {
  "kernelspec": {
   "display_name": "Python 3 (ipykernel)",
   "language": "python",
   "name": "python3"
  },
  "language_info": {
   "codemirror_mode": {
    "name": "ipython",
    "version": 3
   },
   "file_extension": ".py",
   "mimetype": "text/x-python",
   "name": "python",
   "nbconvert_exporter": "python",
   "pygments_lexer": "ipython3",
   "version": "3.10.8"
  }
 },
 "nbformat": 4,
 "nbformat_minor": 5
}
