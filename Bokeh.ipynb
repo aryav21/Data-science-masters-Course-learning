{
  "nbformat": 4,
  "nbformat_minor": 0,
  "metadata": {
    "colab": {
      "provenance": [],
      "authorship_tag": "ABX9TyMufwPR673nHUMzGKP5GKca",
      "include_colab_link": true
    },
    "kernelspec": {
      "name": "python3",
      "display_name": "Python 3"
    },
    "language_info": {
      "name": "python"
    }
  },
  "cells": [
    {
      "cell_type": "markdown",
      "metadata": {
        "id": "view-in-github",
        "colab_type": "text"
      },
      "source": [
        "<a href=\"https://colab.research.google.com/github/aryav21/Data-science-masters-Course-learning/blob/main/Bokeh.ipynb\" target=\"_parent\"><img src=\"https://colab.research.google.com/assets/colab-badge.svg\" alt=\"Open In Colab\"/></a>"
      ]
    },
    {
      "cell_type": "markdown",
      "source": [
        "\n",
        "Bokeh Assignment"
      ],
      "metadata": {
        "id": "k5yeunicX-Lj"
      }
    },
    {
      "cell_type": "markdown",
      "source": [
        "Q1. How can you create a Bokeh plot using Python code?"
      ],
      "metadata": {
        "id": "gqZEQ5jOYD0e"
      }
    },
    {
      "cell_type": "code",
      "source": [],
      "metadata": {
        "id": "eF5iUNbyYEuS"
      },
      "execution_count": null,
      "outputs": []
    },
    {
      "cell_type": "markdown",
      "source": [
        "Q2. What are glyphs in Bokeh, and how can you add them to a Bokeh plot? Explain with an example."
      ],
      "metadata": {
        "id": "gPSWvI_OYF4m"
      }
    },
    {
      "cell_type": "code",
      "source": [],
      "metadata": {
        "id": "WkEqMRlmYIqA"
      },
      "execution_count": null,
      "outputs": []
    },
    {
      "cell_type": "markdown",
      "source": [
        "Q3. How can you customize the appearance of a Bokeh plot, including the axes, title, and legend?"
      ],
      "metadata": {
        "id": "5X0ypfUDYJzl"
      }
    },
    {
      "cell_type": "code",
      "source": [],
      "metadata": {
        "id": "IgrASBS_YMYe"
      },
      "execution_count": null,
      "outputs": []
    },
    {
      "cell_type": "markdown",
      "source": [
        "Q4. What is a Bokeh server, and how can you use it to create interactive plots that can be updated in\n",
        "real time?¶"
      ],
      "metadata": {
        "id": "wO7p18yGYOxz"
      }
    },
    {
      "cell_type": "code",
      "source": [],
      "metadata": {
        "id": "iP2ltJR9YPwK"
      },
      "execution_count": null,
      "outputs": []
    },
    {
      "cell_type": "markdown",
      "source": [
        "Q5. How can you embed a Bokeh plot into a web page or dashboard using Flask or Django?\n",
        "​"
      ],
      "metadata": {
        "id": "SosrXrxiYQwi"
      }
    },
    {
      "cell_type": "code",
      "source": [],
      "metadata": {
        "id": "AtpwyVmJYUH5"
      },
      "execution_count": null,
      "outputs": []
    }
  ]
}