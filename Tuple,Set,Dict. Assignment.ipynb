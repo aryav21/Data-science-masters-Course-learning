{
 "cells": [
  {
   "cell_type": "markdown",
   "id": "8a8b5f54-b670-43b1-89b3-a00d8fa82161",
   "metadata": {},
   "source": [
    "## Tuple,Set,Dict. Assignment"
   ]
  },
  {
   "cell_type": "markdown",
   "id": "39eccbc1-09a8-4fb2-a29a-3cac0a5af574",
   "metadata": {},
   "source": [
    "### ----------------------------------------------------"
   ]
  },
  {
   "cell_type": "markdown",
   "id": "0878037d-699b-47c1-bab3-28f7b92a102c",
   "metadata": {},
   "source": [
    "#### Q1. What are the characteristics of the tuples? Is tuple immutable?"
   ]
  },
  {
   "cell_type": "markdown",
   "id": "82805de8-323c-48e3-8c75-c71acf82440b",
   "metadata": {},
   "source": [
    "Ans -> Tuples are a data type in python. These tuples are an ordered collection of elements of different data types. Furthermore, we represent them by writing the elements inside the parenthesis separated by commas.Difference between a tuple and a list is: list is mutable while tuples are immutable i.e we cannot assign a differnt value to an element of tuples. Hence, tuples are not modifiable in nature. Apart from that, operation like slicing and  deletetion can be done but none that modfies the tuple."
   ]
  },
  {
   "cell_type": "markdown",
   "id": "f6ac7867-f816-43a8-9e71-c489d90ea5ec",
   "metadata": {},
   "source": [
    "### ----------------------------------------------------"
   ]
  },
  {
   "cell_type": "markdown",
   "id": "2e779222-e2ff-4fe8-800b-7a16cb348fc1",
   "metadata": {},
   "source": [
    "#### Q2. What are the two tuple methods in python? Give an example of each method. Give a reason why\n",
    "#### tuples have only two in-built methods as compared to Lists."
   ]
  },
  {
   "cell_type": "markdown",
   "id": "536a0f0a-5f88-4616-911c-0fdfdb5bbb34",
   "metadata": {},
   "source": [
    "Ans -> Count and index are the two methods that can be used with tuples"
   ]
  },
  {
   "cell_type": "code",
   "execution_count": 2,
   "id": "dad4cff9-27f7-4669-a84c-eb1705faa6ea",
   "metadata": {},
   "outputs": [],
   "source": [
    "t = ('Aryav' ,  1 ,True , 2 , 0 , [1,2,3])"
   ]
  },
  {
   "cell_type": "code",
   "execution_count": 4,
   "id": "58122ba1-0018-4ff3-9102-1dd3177dd114",
   "metadata": {},
   "outputs": [
    {
     "data": {
      "text/plain": [
       "2"
      ]
     },
     "execution_count": 4,
     "metadata": {},
     "output_type": "execute_result"
    }
   ],
   "source": [
    "t.count(1)\n"
   ]
  },
  {
   "cell_type": "code",
   "execution_count": 25,
   "id": "0bcd0659-4418-48e6-ae36-b28c280a476b",
   "metadata": {},
   "outputs": [
    {
     "data": {
      "text/plain": [
       "1"
      ]
     },
     "execution_count": 25,
     "metadata": {},
     "output_type": "execute_result"
    }
   ],
   "source": [
    "t.index(True)"
   ]
  },
  {
   "cell_type": "markdown",
   "id": "ea6e7f0b-7f9b-49f9-b76e-950d68523503",
   "metadata": {},
   "source": [
    "Ans -> As we know that most of the methods in lists are used in modifying it in some way while Tuples are immutable, this in itself explains why tuples don't have many methods. Also all the methods relating to tuples are used extracting some kind of data out of existing elements."
   ]
  },
  {
   "cell_type": "markdown",
   "id": "62e81227-ee68-4bdf-9cea-aa8821c950aa",
   "metadata": {},
   "source": [
    "### ----------------------------------------------------"
   ]
  },
  {
   "cell_type": "markdown",
   "id": "ecc5c8f1-3aaf-4c8b-93de-8579c8641371",
   "metadata": {},
   "source": [
    "#### Q3. Which collection datatypes in python do not allow duplicate items? Write a code using a set to remove\n",
    "#### duplicates from the given list.\n",
    "#### List = [1, 1, 1, 2, 1, 3, 1, 4, 2, 1, 2, 2, 2, 3, 2, 4, 3, 1, 3, 2, 3, 3, 3, 4, 4, 1, 4, 2, 4, 3, 4, 4]"
   ]
  },
  {
   "cell_type": "markdown",
   "id": "a662b4ad-1a34-45e5-b87a-c3eafe4593f4",
   "metadata": {},
   "source": [
    "Ans -> Sets is a data type that does not allow duplicate enteries."
   ]
  },
  {
   "cell_type": "code",
   "execution_count": 7,
   "id": "4bc1ab63-c459-417f-b632-61e52e8d2eda",
   "metadata": {},
   "outputs": [
    {
     "data": {
      "text/plain": [
       "{1, 2, 3, 4}"
      ]
     },
     "execution_count": 7,
     "metadata": {},
     "output_type": "execute_result"
    }
   ],
   "source": [
    "List = [1, 1, 1, 2, 1, 3, 1, 4, 2, 1, 2, 2, 2, 3, 2, 4, 3, 1, 3, 2, 3, 3, 3, 4, 4, 1, 4, 2, 4, 3, 4, 4]\n",
    "set(List)"
   ]
  },
  {
   "cell_type": "markdown",
   "id": "87706aac-5e35-4009-876b-16300967eaa6",
   "metadata": {},
   "source": [
    "### ----------------------------------------------------"
   ]
  },
  {
   "cell_type": "markdown",
   "id": "79078aa9-a711-41b9-aaf1-d9912d744dcc",
   "metadata": {},
   "source": [
    "#### Q4. Explain the difference between the union() and update() methods for a set. Give an example of\n",
    "#### each method."
   ]
  },
  {
   "cell_type": "markdown",
   "id": "ec897ea1-014b-4f0e-b702-ef8c1e66c96c",
   "metadata": {},
   "source": [
    "Ans -> When union() method is applied on two sets it generates a third set containg the union of two sets while when update method is applied it only adds the value to the set which called the function."
   ]
  },
  {
   "cell_type": "code",
   "execution_count": 19,
   "id": "b15db89f-0759-4d32-b318-47b8cf65117c",
   "metadata": {},
   "outputs": [
    {
     "name": "stdout",
     "output_type": "stream",
     "text": [
      "{1, 2, 3, 4, 5, 6, 7, 8, 9, 10}\n"
     ]
    }
   ],
   "source": [
    "set1 = {1,3,5,7,9}\n",
    "set2 = {2,4,6,8,10}\n",
    "set1.update(set2)\n",
    "print(set1)"
   ]
  },
  {
   "cell_type": "code",
   "execution_count": 22,
   "id": "0b2e4ca1-64cd-434d-9c0f-4fdac1e998f8",
   "metadata": {},
   "outputs": [
    {
     "name": "stdout",
     "output_type": "stream",
     "text": [
      "{1, 2, 3, 4, 5, 6, 7, 8, 9, 10}\n",
      "{1, 3, 5, 7, 9}\n",
      "{2, 4, 6, 8, 10}\n"
     ]
    }
   ],
   "source": [
    "set1 = {1,3,5,7,9}\n",
    "set2 = {2,4,6,8,10}\n",
    "print(set1.union(set2))\n",
    "print(set1)\n",
    "print(set2)"
   ]
  },
  {
   "cell_type": "markdown",
   "id": "e314f307-f547-4869-9428-6e1707aa8d93",
   "metadata": {},
   "source": [
    "### ----------------------------------------------------"
   ]
  },
  {
   "cell_type": "markdown",
   "id": "ddad1656-7606-48f1-8ea3-1222f96917bd",
   "metadata": {},
   "source": [
    "#### Q5. What is a dictionary? Give an example. Also, state whether a dictionary is ordered or unordered."
   ]
  },
  {
   "cell_type": "markdown",
   "id": "56497bd7-c09d-452d-bace-8ca481ace592",
   "metadata": {},
   "source": [
    "Ans -> Dictionaries are used to store data values in the form of key:value pairs. Dictionary items are ordered, changeable, and does not allow duplicates."
   ]
  },
  {
   "cell_type": "code",
   "execution_count": 14,
   "id": "6bafc0b1-7d9c-44f0-851a-5369aad27078",
   "metadata": {},
   "outputs": [],
   "source": [
    "## Example\n",
    "d5 = {'India' : 'Dhoni' , 'Australia':'Pointing', 'Sri lanka':'Jayisurya'}"
   ]
  },
  {
   "cell_type": "markdown",
   "id": "34c36a28-d652-48a8-b709-29ece170773a",
   "metadata": {},
   "source": [
    "### ----------------------------------------------------\n"
   ]
  },
  {
   "cell_type": "markdown",
   "id": "8ff929fa-856c-4d14-b18f-abc80dfa7135",
   "metadata": {},
   "source": [
    "#### Q6. Can we create a nested dictionary? If so, please give an example by creating a simple one-level\n",
    "#### nested dictionary."
   ]
  },
  {
   "cell_type": "code",
   "execution_count": 5,
   "id": "f34c101d-a9cf-4ba2-80a4-135a2a933a10",
   "metadata": {},
   "outputs": [],
   "source": [
    "d2 = {'name':'Aryav', 'subject': ['math','science','english'] , 'food': {'breakfast':'Poha' , 'lunch':'Maggi' , 'dinner': 'paneer'}}"
   ]
  },
  {
   "cell_type": "code",
   "execution_count": 6,
   "id": "20130579-0667-412f-9237-10019e5ccd92",
   "metadata": {},
   "outputs": [
    {
     "data": {
      "text/plain": [
       "'Poha'"
      ]
     },
     "execution_count": 6,
     "metadata": {},
     "output_type": "execute_result"
    }
   ],
   "source": [
    "d2['food']['breakfast']"
   ]
  },
  {
   "cell_type": "markdown",
   "id": "1c207ecc-20c5-46ef-afd8-0a97a667eb24",
   "metadata": {},
   "source": [
    "### ----------------------------------------------------\n"
   ]
  },
  {
   "cell_type": "code",
   "execution_count": null,
   "id": "99da59c8-c18b-4b83-a337-46f79a7d0952",
   "metadata": {},
   "outputs": [],
   "source": []
  },
  {
   "cell_type": "markdown",
   "id": "8d339bb7-7563-4762-8a2c-aea66fabc745",
   "metadata": {},
   "source": [
    "#### Q7. Using setdefault() method, create key named topics in the given dictionary and also add the value of\n",
    "#### the key as this list ['Python', 'Machine Learning’, 'Deep Learning']\n",
    "#### dict1 = {'language' : 'Python', 'course': 'Data Science Masters'}"
   ]
  },
  {
   "cell_type": "code",
   "execution_count": 11,
   "id": "d28c6bb7-df70-4d5e-bf5b-2d71d6602a47",
   "metadata": {},
   "outputs": [
    {
     "data": {
      "text/plain": [
       "['Python', 'Machine Learning', 'Deep learning']"
      ]
     },
     "execution_count": 11,
     "metadata": {},
     "output_type": "execute_result"
    }
   ],
   "source": [
    "dict1 = {'language' : 'Python', 'course': 'Data Science Masters'}\n",
    "\n",
    "dict1.setdefault('topics' , ['Python','Machine Learning','Deep learning'])"
   ]
  },
  {
   "cell_type": "code",
   "execution_count": 12,
   "id": "97563192-37fc-4a77-80fe-03543c7c16fa",
   "metadata": {},
   "outputs": [
    {
     "data": {
      "text/plain": [
       "{'language': 'Python',\n",
       " 'course': 'Data Science Masters',\n",
       " 'topics': ['Python', 'Machine Learning', 'Deep learning']}"
      ]
     },
     "execution_count": 12,
     "metadata": {},
     "output_type": "execute_result"
    }
   ],
   "source": [
    "dict1"
   ]
  },
  {
   "cell_type": "markdown",
   "id": "f43026ef-18cb-41ea-9e86-e4eea044542a",
   "metadata": {},
   "source": [
    "### ----------------------------------------------------\n"
   ]
  },
  {
   "cell_type": "markdown",
   "id": "9495d6ab-25a5-4af2-a6e1-afda215bc60c",
   "metadata": {},
   "source": [
    "#### Q8. What are the three view objects in dictionaries? Use the three in-built methods in python to display\n",
    "#### these three view objects for the given dictionary.\n",
    "#### dict1 = {'Sport': 'Cricket' , 'Teams': ['India', 'Australia', 'England', 'South Africa', 'Sri Lanka', 'New Zealand']}"
   ]
  },
  {
   "cell_type": "markdown",
   "id": "0d3f7389-6c4e-4758-a014-ce80d9f4b5e7",
   "metadata": {},
   "source": [
    "Ans -> The view objects of dictionary in python are keys, values and items.\n",
    "\n"
   ]
  },
  {
   "cell_type": "code",
   "execution_count": 17,
   "id": "17a8669d-d934-48fa-be91-d845eff80c06",
   "metadata": {},
   "outputs": [
    {
     "name": "stdout",
     "output_type": "stream",
     "text": [
      "dict_keys(['Sport', 'Teams'])\n",
      "dict_values(['Cricket', ['India', 'Australia', 'England', 'South Africa', 'Sri Lanka', 'New Zealand']])\n",
      "dict_items([('Sport', 'Cricket'), ('Teams', ['India', 'Australia', 'England', 'South Africa', 'Sri Lanka', 'New Zealand'])])\n"
     ]
    }
   ],
   "source": [
    "dict1 = {'Sport': 'Cricket' , 'Teams': ['India', 'Australia', 'England', 'South Africa', 'Sri Lanka', 'New Zealand']}\n",
    "print(dict1.keys())\n",
    "print(dict1.values())\n",
    "print(dict1.items())"
   ]
  }
 ],
 "metadata": {
  "kernelspec": {
   "display_name": "Python 3 (ipykernel)",
   "language": "python",
   "name": "python3"
  },
  "language_info": {
   "codemirror_mode": {
    "name": "ipython",
    "version": 3
   },
   "file_extension": ".py",
   "mimetype": "text/x-python",
   "name": "python",
   "nbconvert_exporter": "python",
   "pygments_lexer": "ipython3",
   "version": "3.10.8"
  }
 },
 "nbformat": 4,
 "nbformat_minor": 5
}
