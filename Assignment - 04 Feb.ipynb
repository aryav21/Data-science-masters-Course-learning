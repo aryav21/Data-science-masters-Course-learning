{
 "cells": [
  {
   "cell_type": "markdown",
   "id": "4f383d95-cb10-46f7-b2ea-a34e620c8ec2",
   "metadata": {},
   "source": [
    "## ASSIGNMENT 04 Feb"
   ]
  },
  {
   "cell_type": "markdown",
   "id": "15a7da77-93fd-4ea1-9b84-8da241f62c03",
   "metadata": {},
   "source": [
    "##### -----------------------------------------------------------------"
   ]
  },
  {
   "cell_type": "markdown",
   "id": "810c6048-afdc-4c8e-a08f-2b4c3392c80c",
   "metadata": {},
   "source": [
    "#### Q1. Create a python program to sort the given list of tuples based on integer value using a\n",
    "#### lambda function.\n",
    "#### [('Sachin Tendulkar', 34357), ('Ricky Ponting', 27483), ('Jack Kallis', 25534), ('Virat Kohli', 24936)]"
   ]
  },
  {
   "cell_type": "code",
   "execution_count": null,
   "id": "53e30a60-9ddd-4152-90c7-86fcebc05351",
   "metadata": {},
   "outputs": [],
   "source": [
    "l = [('Sachin Tendulkar', 34357), ('Ricky Ponting', 27483), ('Jack Kallis', 25534), ('Virat Kohli', 24936)]\n",
    "\n"
   ]
  },
  {
   "cell_type": "code",
   "execution_count": 4,
   "id": "c9471adb-eca3-4ec5-8cf5-092df321bd76",
   "metadata": {},
   "outputs": [
    {
     "name": "stdout",
     "output_type": "stream",
     "text": [
      "[('Virat Kohli', 24936), ('Jack Kallis', 25534), ('Ricky Ponting', 27483), ('Sachin Tendulkar', 34357)]\n"
     ]
    }
   ],
   "source": [
    "func = lambda x : x[1]\n",
    "\n",
    "l.sort(key = func)\n",
    "print(l)"
   ]
  },
  {
   "cell_type": "markdown",
   "id": "2d0688e4-f39a-43b0-9975-37dd01098b03",
   "metadata": {},
   "source": [
    "##### -----------------------------------------------------------------"
   ]
  },
  {
   "cell_type": "markdown",
   "id": "75ea3f0e-ad5b-498c-b906-5e7b68db39b4",
   "metadata": {},
   "source": [
    "#### Q2. Write a Python Program to find the squares of all the numbers in the given list of integers using\n",
    "#### lambda and map functions.\n",
    "#### [1, 2, 3, 4, 5, 6, 7, 8, 9, 10]"
   ]
  },
  {
   "cell_type": "code",
   "execution_count": 3,
   "id": "01f9fac4-c907-4e77-b400-fda383af64c8",
   "metadata": {},
   "outputs": [
    {
     "data": {
      "text/plain": [
       "[1, 4, 9, 16, 25, 36, 49, 64, 81, 100]"
      ]
     },
     "execution_count": 3,
     "metadata": {},
     "output_type": "execute_result"
    }
   ],
   "source": [
    "l1 =[1, 2, 3, 4, 5, 6, 7, 8, 9, 10]\n",
    "\n",
    "list(map(lambda x: x**2 , l1))"
   ]
  },
  {
   "cell_type": "markdown",
   "id": "ab3d92e4-6f4e-4a61-ae04-8ce925fcd306",
   "metadata": {},
   "source": [
    "##### -----------------------------------------------------------------"
   ]
  },
  {
   "cell_type": "markdown",
   "id": "f0f4342c-1493-466f-8a55-2618e26ddb17",
   "metadata": {},
   "source": [
    "#### Q3. Write a python program to convert the given list of integers into a tuple of strings. Use map and\n",
    "#### lambda functions\n",
    "#### Given String: [1, 2, 3, 4, 5, 6, 7, 8, 9, 10]\n",
    "#### Expected output: ('1', '2', '3', '4', '5', '6', '7', '8', '9', '10')"
   ]
  },
  {
   "cell_type": "code",
   "execution_count": 4,
   "id": "8e1bebbf-1aa7-4cb5-98ba-9b8ea82ad691",
   "metadata": {},
   "outputs": [
    {
     "data": {
      "text/plain": [
       "('1', '2', '3', '4', '5', '6', '7', '8', '9', '10')"
      ]
     },
     "execution_count": 4,
     "metadata": {},
     "output_type": "execute_result"
    }
   ],
   "source": [
    "l3 = [1, 2, 3, 4, 5, 6, 7, 8, 9, 10]\n",
    "\n",
    "tuple(map(lambda x: str(x) , l3))"
   ]
  },
  {
   "cell_type": "markdown",
   "id": "75160c47-e023-4fda-a39f-8c29c06a9f9a",
   "metadata": {},
   "source": [
    "##### -----------------------------------------------------------------"
   ]
  },
  {
   "cell_type": "markdown",
   "id": "f036cba8-1bc9-44fb-b76f-01dcb5e2198c",
   "metadata": {},
   "source": [
    "#### Q4. Write a python program using reduce function to compute the product of a list containing numbers\n",
    "#### from 1 to 25."
   ]
  },
  {
   "cell_type": "code",
   "execution_count": 12,
   "id": "95375dd7-2a72-45f1-a8cf-26d2f01da767",
   "metadata": {},
   "outputs": [
    {
     "name": "stdout",
     "output_type": "stream",
     "text": [
      "[1, 2, 3, 4, 5, 6, 7, 8, 9, 10, 11, 12, 13, 14, 15, 16, 17, 18, 19, 20, 21, 22, 23, 24, 25]\n"
     ]
    }
   ],
   "source": [
    "l4 = [i for i in range (1,26)]\n",
    "print(l4)"
   ]
  },
  {
   "cell_type": "code",
   "execution_count": 13,
   "id": "9e169714-753a-4e93-8276-b6693f8b5640",
   "metadata": {},
   "outputs": [
    {
     "name": "stdout",
     "output_type": "stream",
     "text": [
      "15511210043330985984000000\n"
     ]
    }
   ],
   "source": [
    "from functools import reduce\n",
    "a = reduce(lambda x,y : x*y , l4)\n",
    "print(a)"
   ]
  },
  {
   "cell_type": "markdown",
   "id": "22606b71-76d4-4d3c-aec4-5b4e16ce1925",
   "metadata": {},
   "source": [
    "##### -----------------------------------------------------------------"
   ]
  },
  {
   "cell_type": "markdown",
   "id": "c677eaff-2c22-4135-8da8-39800ba852f1",
   "metadata": {},
   "source": [
    "#### Q5. Write a python program to filter the numbers in a given list that are divisible by 2 and 3 using the\n",
    "#### filter function.\n",
    "#### [2, 3, 6, 9, 27, 60, 90, 120, 55, 46]"
   ]
  },
  {
   "cell_type": "code",
   "execution_count": 14,
   "id": "158b8586-f18f-4970-80e0-eb78364c38c8",
   "metadata": {},
   "outputs": [
    {
     "data": {
      "text/plain": [
       "[6, 60, 90, 120]"
      ]
     },
     "execution_count": 14,
     "metadata": {},
     "output_type": "execute_result"
    }
   ],
   "source": [
    "l5 = [2, 3, 6, 9, 27, 60, 90, 120, 55, 46]\n",
    "list(filter(lambda x: x%6==0 , l5))"
   ]
  },
  {
   "cell_type": "markdown",
   "id": "2b7763b1-16c3-480a-a89e-a223f207cc3c",
   "metadata": {},
   "source": [
    "##### -----------------------------------------------------------------"
   ]
  },
  {
   "cell_type": "markdown",
   "id": "f801aed8-1e09-4791-85ca-67ebdc9ff816",
   "metadata": {},
   "source": [
    "#### Q6. Write a python program to find palindromes in the given list of strings using lambda and filter\n",
    "#### function.\n",
    "#### ['python', 'php', 'aba', 'radar', 'level']"
   ]
  },
  {
   "cell_type": "code",
   "execution_count": 47,
   "id": "fd2fb65d-c34c-453b-8002-e551f24b85a1",
   "metadata": {},
   "outputs": [],
   "source": [
    "l6 = ['python', 'php', 'aba', 'radar', 'level']"
   ]
  },
  {
   "cell_type": "code",
   "execution_count": 48,
   "id": "ddd49930-702d-4e90-b5b7-333d9a037eb7",
   "metadata": {},
   "outputs": [],
   "source": [
    "def palindromeChecker(s):\n",
    "    for i in  range (len(s)):\n",
    "        if (s[i] != s[len(s)-i-1]):\n",
    "                return 0\n",
    "    return 1      "
   ]
  },
  {
   "cell_type": "code",
   "execution_count": 46,
   "id": "fc79705a-6eff-477e-a37d-171191b354e3",
   "metadata": {},
   "outputs": [
    {
     "name": "stdout",
     "output_type": "stream",
     "text": [
      "['php', 'aba', 'radar', 'level']\n"
     ]
    }
   ],
   "source": [
    "palindromeList = list(filter(palindromeChecker,l6))\n",
    "print(palindromeList)"
   ]
  }
 ],
 "metadata": {
  "kernelspec": {
   "display_name": "Python 3 (ipykernel)",
   "language": "python",
   "name": "python3"
  },
  "language_info": {
   "codemirror_mode": {
    "name": "ipython",
    "version": 3
   },
   "file_extension": ".py",
   "mimetype": "text/x-python",
   "name": "python",
   "nbconvert_exporter": "python",
   "pygments_lexer": "ipython3",
   "version": "3.10.8"
  }
 },
 "nbformat": 4,
 "nbformat_minor": 5
}
