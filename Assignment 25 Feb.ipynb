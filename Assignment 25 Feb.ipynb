{
 "cells": [
  {
   "cell_type": "markdown",
   "id": "635868c8-74dd-41d5-a492-d748b2053985",
   "metadata": {},
   "source": [
    "## ASSIGNMENT 25 Feb"
   ]
  },
  {
   "cell_type": "markdown",
   "id": "ad485893-5078-4fe6-8942-f2fd60876aa6",
   "metadata": {},
   "source": [
    "### -----------------------------------------------------------------------------"
   ]
  },
  {
   "cell_type": "code",
   "execution_count": 2,
   "id": "c10d4505-3ae6-4864-b08c-d75dd62199ae",
   "metadata": {},
   "outputs": [],
   "source": [
    "##Consider following code to answer further questions:\n",
    "import pandas as pd\n",
    "course_name = ['Data Science', 'Machine Learning', 'Big Data', 'Data Engineer']\n",
    "duration = [2,3,6,4]\n",
    "df = pd.DataFrame(data = {'course_name' : course_name, 'duration' : duration})\n"
   ]
  },
  {
   "cell_type": "markdown",
   "id": "64e5aca7-ffbc-4bcd-908a-0aeab565f2a2",
   "metadata": {},
   "source": [
    "#### Q1. Write a code to print the data present in the second row of the dataframe, df."
   ]
  },
  {
   "cell_type": "code",
   "execution_count": 2,
   "id": "8aa778dc-35a1-421f-b0cc-174e5fc19653",
   "metadata": {},
   "outputs": [
    {
     "data": {
      "text/html": [
       "<div>\n",
       "<style scoped>\n",
       "    .dataframe tbody tr th:only-of-type {\n",
       "        vertical-align: middle;\n",
       "    }\n",
       "\n",
       "    .dataframe tbody tr th {\n",
       "        vertical-align: top;\n",
       "    }\n",
       "\n",
       "    .dataframe thead th {\n",
       "        text-align: right;\n",
       "    }\n",
       "</style>\n",
       "<table border=\"1\" class=\"dataframe\">\n",
       "  <thead>\n",
       "    <tr style=\"text-align: right;\">\n",
       "      <th></th>\n",
       "      <th>course_name</th>\n",
       "      <th>duration</th>\n",
       "    </tr>\n",
       "  </thead>\n",
       "  <tbody>\n",
       "    <tr>\n",
       "      <th>0</th>\n",
       "      <td>Data Science</td>\n",
       "      <td>2</td>\n",
       "    </tr>\n",
       "    <tr>\n",
       "      <th>1</th>\n",
       "      <td>Machine Learning</td>\n",
       "      <td>3</td>\n",
       "    </tr>\n",
       "    <tr>\n",
       "      <th>2</th>\n",
       "      <td>Big Data</td>\n",
       "      <td>6</td>\n",
       "    </tr>\n",
       "    <tr>\n",
       "      <th>3</th>\n",
       "      <td>Data Engineer</td>\n",
       "      <td>4</td>\n",
       "    </tr>\n",
       "  </tbody>\n",
       "</table>\n",
       "</div>"
      ],
      "text/plain": [
       "        course_name  duration\n",
       "0      Data Science         2\n",
       "1  Machine Learning         3\n",
       "2          Big Data         6\n",
       "3     Data Engineer         4"
      ]
     },
     "execution_count": 2,
     "metadata": {},
     "output_type": "execute_result"
    }
   ],
   "source": [
    "df"
   ]
  },
  {
   "cell_type": "code",
   "execution_count": 12,
   "id": "db5f49a9-cc12-4f7f-919c-58cc91f54db9",
   "metadata": {},
   "outputs": [
    {
     "name": "stdout",
     "output_type": "stream",
     "text": [
      "(1, course_name    Machine Learning\n",
      "duration                      3\n",
      "Name: 1, dtype: object)\n"
     ]
    }
   ],
   "source": [
    "## Solution 1\n",
    "count = 0\n",
    "for i in df.iterrows():\n",
    "    count = count +1\n",
    "    if(count ==2):\n",
    "        print(i)\n",
    "        break\n",
    "        \n",
    "    "
   ]
  },
  {
   "cell_type": "code",
   "execution_count": 11,
   "id": "d643fa77-701c-4aaf-ae9f-97986289a70b",
   "metadata": {},
   "outputs": [
    {
     "data": {
      "text/plain": [
       "course_name    Machine Learning\n",
       "duration                      3\n",
       "Name: 1, dtype: object"
      ]
     },
     "execution_count": 11,
     "metadata": {},
     "output_type": "execute_result"
    }
   ],
   "source": [
    "## Solution 2\n",
    "\n",
    "df.T[1]"
   ]
  },
  {
   "cell_type": "code",
   "execution_count": 6,
   "id": "acbb3b2f-d372-4222-82d8-2073a46b79a1",
   "metadata": {},
   "outputs": [
    {
     "data": {
      "text/html": [
       "<div>\n",
       "<style scoped>\n",
       "    .dataframe tbody tr th:only-of-type {\n",
       "        vertical-align: middle;\n",
       "    }\n",
       "\n",
       "    .dataframe tbody tr th {\n",
       "        vertical-align: top;\n",
       "    }\n",
       "\n",
       "    .dataframe thead th {\n",
       "        text-align: right;\n",
       "    }\n",
       "</style>\n",
       "<table border=\"1\" class=\"dataframe\">\n",
       "  <thead>\n",
       "    <tr style=\"text-align: right;\">\n",
       "      <th></th>\n",
       "      <th>course_name</th>\n",
       "      <th>duration</th>\n",
       "    </tr>\n",
       "  </thead>\n",
       "  <tbody>\n",
       "    <tr>\n",
       "      <th>1</th>\n",
       "      <td>Machine Learning</td>\n",
       "      <td>3</td>\n",
       "    </tr>\n",
       "  </tbody>\n",
       "</table>\n",
       "</div>"
      ],
      "text/plain": [
       "        course_name  duration\n",
       "1  Machine Learning         3"
      ]
     },
     "execution_count": 6,
     "metadata": {},
     "output_type": "execute_result"
    }
   ],
   "source": [
    "## Solution 3\n",
    "df[1:2]"
   ]
  },
  {
   "cell_type": "markdown",
   "id": "5b025c4d-99b9-449b-b85e-4a0a6dfaf24a",
   "metadata": {},
   "source": [
    "### -----------------------------------------------------------------------------"
   ]
  },
  {
   "cell_type": "markdown",
   "id": "cbda1827-a3ff-4197-8df3-da08477ed577",
   "metadata": {},
   "source": [
    "#### Q2. What is the difference between the functions loc and iloc in pandas.DataFrame?"
   ]
  },
  {
   "cell_type": "markdown",
   "id": "c8d4f901-d8bf-4b65-8fb4-9b80274198d0",
   "metadata": {},
   "source": [
    "Ans -> The main distinction between loc and iloc is:\n",
    "\n",
    "A)\n",
    "\n",
    "- loc is label-based, which means that you have to specify rows and columns based on their row and column labels.Also it includes the last index.\n",
    "- iloc is integer position-based, so you have to specify rows and columns by their integer position values (0-based integer position).Also it ommits last index."
   ]
  },
  {
   "cell_type": "code",
   "execution_count": 4,
   "id": "38045888-61df-4418-86d8-febd55da8ba0",
   "metadata": {},
   "outputs": [
    {
     "data": {
      "text/html": [
       "<div>\n",
       "<style scoped>\n",
       "    .dataframe tbody tr th:only-of-type {\n",
       "        vertical-align: middle;\n",
       "    }\n",
       "\n",
       "    .dataframe tbody tr th {\n",
       "        vertical-align: top;\n",
       "    }\n",
       "\n",
       "    .dataframe thead th {\n",
       "        text-align: right;\n",
       "    }\n",
       "</style>\n",
       "<table border=\"1\" class=\"dataframe\">\n",
       "  <thead>\n",
       "    <tr style=\"text-align: right;\">\n",
       "      <th></th>\n",
       "      <th>course_name</th>\n",
       "    </tr>\n",
       "  </thead>\n",
       "  <tbody>\n",
       "    <tr>\n",
       "      <th>0</th>\n",
       "      <td>Data Science</td>\n",
       "    </tr>\n",
       "    <tr>\n",
       "      <th>1</th>\n",
       "      <td>Machine Learning</td>\n",
       "    </tr>\n",
       "  </tbody>\n",
       "</table>\n",
       "</div>"
      ],
      "text/plain": [
       "        course_name\n",
       "0      Data Science\n",
       "1  Machine Learning"
      ]
     },
     "execution_count": 4,
     "metadata": {},
     "output_type": "execute_result"
    }
   ],
   "source": [
    "df.iloc[0:2, [0]]"
   ]
  },
  {
   "cell_type": "code",
   "execution_count": 6,
   "id": "47948d1f-babb-49f9-b198-3e93cb4e9601",
   "metadata": {},
   "outputs": [
    {
     "data": {
      "text/html": [
       "<div>\n",
       "<style scoped>\n",
       "    .dataframe tbody tr th:only-of-type {\n",
       "        vertical-align: middle;\n",
       "    }\n",
       "\n",
       "    .dataframe tbody tr th {\n",
       "        vertical-align: top;\n",
       "    }\n",
       "\n",
       "    .dataframe thead th {\n",
       "        text-align: right;\n",
       "    }\n",
       "</style>\n",
       "<table border=\"1\" class=\"dataframe\">\n",
       "  <thead>\n",
       "    <tr style=\"text-align: right;\">\n",
       "      <th></th>\n",
       "      <th>course_name</th>\n",
       "    </tr>\n",
       "  </thead>\n",
       "  <tbody>\n",
       "    <tr>\n",
       "      <th>0</th>\n",
       "      <td>Data Science</td>\n",
       "    </tr>\n",
       "    <tr>\n",
       "      <th>1</th>\n",
       "      <td>Machine Learning</td>\n",
       "    </tr>\n",
       "    <tr>\n",
       "      <th>2</th>\n",
       "      <td>Big Data</td>\n",
       "    </tr>\n",
       "  </tbody>\n",
       "</table>\n",
       "</div>"
      ],
      "text/plain": [
       "        course_name\n",
       "0      Data Science\n",
       "1  Machine Learning\n",
       "2          Big Data"
      ]
     },
     "execution_count": 6,
     "metadata": {},
     "output_type": "execute_result"
    }
   ],
   "source": [
    "df.loc[0:2 , ['course_name']]"
   ]
  },
  {
   "cell_type": "markdown",
   "id": "307ce5ca-4b12-4e8b-bf35-70434115eea0",
   "metadata": {},
   "source": [
    "### -----------------------------------------------------------------------------"
   ]
  },
  {
   "cell_type": "markdown",
   "id": "c7172ebe-472a-4aff-9cbd-e12bc4afbfbc",
   "metadata": {},
   "source": [
    "#### Q3. Reindex the given dataframe using a variable, reindex = [3,0,1,2] and store it in the variable, new_df\n",
    "#### then find the output for both new_df.loc[2] and new_df.iloc[2].\n",
    "#### Did you observe any difference in both the outputs? If so then explain it."
   ]
  },
  {
   "cell_type": "code",
   "execution_count": 2,
   "id": "c8b03bc0-9038-4e53-b185-8d6233eca3f8",
   "metadata": {},
   "outputs": [
    {
     "data": {
      "text/html": [
       "<div>\n",
       "<style scoped>\n",
       "    .dataframe tbody tr th:only-of-type {\n",
       "        vertical-align: middle;\n",
       "    }\n",
       "\n",
       "    .dataframe tbody tr th {\n",
       "        vertical-align: top;\n",
       "    }\n",
       "\n",
       "    .dataframe thead th {\n",
       "        text-align: right;\n",
       "    }\n",
       "</style>\n",
       "<table border=\"1\" class=\"dataframe\">\n",
       "  <thead>\n",
       "    <tr style=\"text-align: right;\">\n",
       "      <th></th>\n",
       "      <th>course_name</th>\n",
       "      <th>duration</th>\n",
       "    </tr>\n",
       "  </thead>\n",
       "  <tbody>\n",
       "    <tr>\n",
       "      <th>0</th>\n",
       "      <td>Data Science</td>\n",
       "      <td>2</td>\n",
       "    </tr>\n",
       "    <tr>\n",
       "      <th>1</th>\n",
       "      <td>Machine Learning</td>\n",
       "      <td>3</td>\n",
       "    </tr>\n",
       "    <tr>\n",
       "      <th>2</th>\n",
       "      <td>Big Data</td>\n",
       "      <td>6</td>\n",
       "    </tr>\n",
       "    <tr>\n",
       "      <th>3</th>\n",
       "      <td>Data Engineer</td>\n",
       "      <td>4</td>\n",
       "    </tr>\n",
       "  </tbody>\n",
       "</table>\n",
       "</div>"
      ],
      "text/plain": [
       "        course_name  duration\n",
       "0      Data Science         2\n",
       "1  Machine Learning         3\n",
       "2          Big Data         6\n",
       "3     Data Engineer         4"
      ]
     },
     "execution_count": 2,
     "metadata": {},
     "output_type": "execute_result"
    }
   ],
   "source": [
    "df"
   ]
  },
  {
   "cell_type": "code",
   "execution_count": 3,
   "id": "d17bd676-9ffd-4431-b35d-fff49534c912",
   "metadata": {},
   "outputs": [],
   "source": [
    "new_df = df.reindex([3,0,1,2])"
   ]
  },
  {
   "cell_type": "code",
   "execution_count": 4,
   "id": "4ad10bd1-c8fb-46b1-8cad-82fecb324851",
   "metadata": {},
   "outputs": [
    {
     "data": {
      "text/html": [
       "<div>\n",
       "<style scoped>\n",
       "    .dataframe tbody tr th:only-of-type {\n",
       "        vertical-align: middle;\n",
       "    }\n",
       "\n",
       "    .dataframe tbody tr th {\n",
       "        vertical-align: top;\n",
       "    }\n",
       "\n",
       "    .dataframe thead th {\n",
       "        text-align: right;\n",
       "    }\n",
       "</style>\n",
       "<table border=\"1\" class=\"dataframe\">\n",
       "  <thead>\n",
       "    <tr style=\"text-align: right;\">\n",
       "      <th></th>\n",
       "      <th>course_name</th>\n",
       "      <th>duration</th>\n",
       "    </tr>\n",
       "  </thead>\n",
       "  <tbody>\n",
       "    <tr>\n",
       "      <th>3</th>\n",
       "      <td>Data Engineer</td>\n",
       "      <td>4</td>\n",
       "    </tr>\n",
       "    <tr>\n",
       "      <th>0</th>\n",
       "      <td>Data Science</td>\n",
       "      <td>2</td>\n",
       "    </tr>\n",
       "    <tr>\n",
       "      <th>1</th>\n",
       "      <td>Machine Learning</td>\n",
       "      <td>3</td>\n",
       "    </tr>\n",
       "    <tr>\n",
       "      <th>2</th>\n",
       "      <td>Big Data</td>\n",
       "      <td>6</td>\n",
       "    </tr>\n",
       "  </tbody>\n",
       "</table>\n",
       "</div>"
      ],
      "text/plain": [
       "        course_name  duration\n",
       "3     Data Engineer         4\n",
       "0      Data Science         2\n",
       "1  Machine Learning         3\n",
       "2          Big Data         6"
      ]
     },
     "execution_count": 4,
     "metadata": {},
     "output_type": "execute_result"
    }
   ],
   "source": [
    "new_df"
   ]
  },
  {
   "cell_type": "code",
   "execution_count": 7,
   "id": "bba6cf2a-a76d-46d0-8895-b40987c50390",
   "metadata": {},
   "outputs": [
    {
     "name": "stdout",
     "output_type": "stream",
     "text": [
      "course_name    Big Data\n",
      "duration              6\n",
      "Name: 2, dtype: object\n"
     ]
    }
   ],
   "source": [
    "print(new_df.loc[2])\n"
   ]
  },
  {
   "cell_type": "code",
   "execution_count": 8,
   "id": "61d75170-a40b-4a8b-86f2-4aa89cef0eec",
   "metadata": {},
   "outputs": [
    {
     "name": "stdout",
     "output_type": "stream",
     "text": [
      "course_name    Machine Learning\n",
      "duration                      3\n",
      "Name: 1, dtype: object\n"
     ]
    }
   ],
   "source": [
    "print(new_df.iloc[2])"
   ]
  },
  {
   "cell_type": "markdown",
   "id": "fb1006c7-dafd-42a4-8b7f-d66065fd30de",
   "metadata": {},
   "source": [
    "Ans -> As previously described loc is label-based which means it takes row and column labels while iloc is integer position-based and takes row and columns based on its integarl position."
   ]
  },
  {
   "cell_type": "markdown",
   "id": "7e74e1c4-a2fd-497c-b7de-63ae84957c9d",
   "metadata": {},
   "source": [
    "### -----------------------------------------------------------------------------"
   ]
  },
  {
   "cell_type": "code",
   "execution_count": 31,
   "id": "46c3d9df-19e4-4a2f-b504-09fe4166d9b5",
   "metadata": {},
   "outputs": [],
   "source": [
    "#### Consider the below code to answer further questions:\n",
    "import pandas as pd\n",
    "import numpy as np\n",
    "columns = ['column_1', 'column_2', 'column_3', 'column_4', 'column_5', 'column_6']\n",
    "indices = [1,2,3,4,5,6]\n",
    "#Creating a dataframe:\n",
    "df1 = pd.DataFrame(np.random.rand(6,6), columns = columns, index = indices)"
   ]
  },
  {
   "cell_type": "code",
   "execution_count": 10,
   "id": "6e7272f5-b0e7-44e6-9e82-f6691297d4b2",
   "metadata": {},
   "outputs": [
    {
     "data": {
      "text/html": [
       "<div>\n",
       "<style scoped>\n",
       "    .dataframe tbody tr th:only-of-type {\n",
       "        vertical-align: middle;\n",
       "    }\n",
       "\n",
       "    .dataframe tbody tr th {\n",
       "        vertical-align: top;\n",
       "    }\n",
       "\n",
       "    .dataframe thead th {\n",
       "        text-align: right;\n",
       "    }\n",
       "</style>\n",
       "<table border=\"1\" class=\"dataframe\">\n",
       "  <thead>\n",
       "    <tr style=\"text-align: right;\">\n",
       "      <th></th>\n",
       "      <th>column_1</th>\n",
       "      <th>column_2</th>\n",
       "      <th>column_3</th>\n",
       "      <th>column_4</th>\n",
       "      <th>column_5</th>\n",
       "      <th>column_6</th>\n",
       "    </tr>\n",
       "  </thead>\n",
       "  <tbody>\n",
       "    <tr>\n",
       "      <th>1</th>\n",
       "      <td>0.924638</td>\n",
       "      <td>0.929327</td>\n",
       "      <td>0.869129</td>\n",
       "      <td>0.777933</td>\n",
       "      <td>0.970674</td>\n",
       "      <td>0.119383</td>\n",
       "    </tr>\n",
       "    <tr>\n",
       "      <th>2</th>\n",
       "      <td>0.946820</td>\n",
       "      <td>0.304882</td>\n",
       "      <td>0.516459</td>\n",
       "      <td>0.806333</td>\n",
       "      <td>0.985929</td>\n",
       "      <td>0.930340</td>\n",
       "    </tr>\n",
       "    <tr>\n",
       "      <th>3</th>\n",
       "      <td>0.040953</td>\n",
       "      <td>0.412953</td>\n",
       "      <td>0.525004</td>\n",
       "      <td>0.675886</td>\n",
       "      <td>0.648211</td>\n",
       "      <td>0.595584</td>\n",
       "    </tr>\n",
       "    <tr>\n",
       "      <th>4</th>\n",
       "      <td>0.079329</td>\n",
       "      <td>0.357423</td>\n",
       "      <td>0.677434</td>\n",
       "      <td>0.960203</td>\n",
       "      <td>0.053346</td>\n",
       "      <td>0.946371</td>\n",
       "    </tr>\n",
       "    <tr>\n",
       "      <th>5</th>\n",
       "      <td>0.562584</td>\n",
       "      <td>0.719396</td>\n",
       "      <td>0.171512</td>\n",
       "      <td>0.699970</td>\n",
       "      <td>0.366308</td>\n",
       "      <td>0.437220</td>\n",
       "    </tr>\n",
       "    <tr>\n",
       "      <th>6</th>\n",
       "      <td>0.386365</td>\n",
       "      <td>0.972086</td>\n",
       "      <td>0.701428</td>\n",
       "      <td>0.773004</td>\n",
       "      <td>0.779624</td>\n",
       "      <td>0.261508</td>\n",
       "    </tr>\n",
       "  </tbody>\n",
       "</table>\n",
       "</div>"
      ],
      "text/plain": [
       "   column_1  column_2  column_3  column_4  column_5  column_6\n",
       "1  0.924638  0.929327  0.869129  0.777933  0.970674  0.119383\n",
       "2  0.946820  0.304882  0.516459  0.806333  0.985929  0.930340\n",
       "3  0.040953  0.412953  0.525004  0.675886  0.648211  0.595584\n",
       "4  0.079329  0.357423  0.677434  0.960203  0.053346  0.946371\n",
       "5  0.562584  0.719396  0.171512  0.699970  0.366308  0.437220\n",
       "6  0.386365  0.972086  0.701428  0.773004  0.779624  0.261508"
      ]
     },
     "execution_count": 10,
     "metadata": {},
     "output_type": "execute_result"
    }
   ],
   "source": [
    "df1"
   ]
  },
  {
   "cell_type": "markdown",
   "id": "7f64a878-6ed3-47d4-be50-ef36ef023bfb",
   "metadata": {},
   "source": [
    "#### Q4. Write a code to find the following statistical measurements for the above dataframe df1:\n",
    "#### (i) mean of each and every column present in the dataframe.\n",
    "#### (ii) standard deviation of column, ‘column_2’"
   ]
  },
  {
   "cell_type": "code",
   "execution_count": 18,
   "id": "082351a3-3f9d-4859-9348-c929db7e3c8a",
   "metadata": {},
   "outputs": [
    {
     "data": {
      "text/html": [
       "<div>\n",
       "<style scoped>\n",
       "    .dataframe tbody tr th:only-of-type {\n",
       "        vertical-align: middle;\n",
       "    }\n",
       "\n",
       "    .dataframe tbody tr th {\n",
       "        vertical-align: top;\n",
       "    }\n",
       "\n",
       "    .dataframe thead th {\n",
       "        text-align: right;\n",
       "    }\n",
       "</style>\n",
       "<table border=\"1\" class=\"dataframe\">\n",
       "  <thead>\n",
       "    <tr style=\"text-align: right;\">\n",
       "      <th></th>\n",
       "      <th>column_1</th>\n",
       "      <th>column_2</th>\n",
       "      <th>column_3</th>\n",
       "      <th>column_4</th>\n",
       "      <th>column_5</th>\n",
       "      <th>column_6</th>\n",
       "    </tr>\n",
       "  </thead>\n",
       "  <tbody>\n",
       "    <tr>\n",
       "      <th>count</th>\n",
       "      <td>6.000000</td>\n",
       "      <td>6.000000</td>\n",
       "      <td>6.000000</td>\n",
       "      <td>6.000000</td>\n",
       "      <td>6.000000</td>\n",
       "      <td>6.000000</td>\n",
       "    </tr>\n",
       "    <tr>\n",
       "      <th>mean</th>\n",
       "      <td>0.490115</td>\n",
       "      <td>0.616011</td>\n",
       "      <td>0.576828</td>\n",
       "      <td>0.782222</td>\n",
       "      <td>0.634015</td>\n",
       "      <td>0.548401</td>\n",
       "    </tr>\n",
       "    <tr>\n",
       "      <th>std</th>\n",
       "      <td>0.395954</td>\n",
       "      <td>0.296832</td>\n",
       "      <td>0.237359</td>\n",
       "      <td>0.100434</td>\n",
       "      <td>0.365357</td>\n",
       "      <td>0.342114</td>\n",
       "    </tr>\n",
       "    <tr>\n",
       "      <th>min</th>\n",
       "      <td>0.040953</td>\n",
       "      <td>0.304882</td>\n",
       "      <td>0.171512</td>\n",
       "      <td>0.675886</td>\n",
       "      <td>0.053346</td>\n",
       "      <td>0.119383</td>\n",
       "    </tr>\n",
       "    <tr>\n",
       "      <th>25%</th>\n",
       "      <td>0.156088</td>\n",
       "      <td>0.371305</td>\n",
       "      <td>0.518595</td>\n",
       "      <td>0.718229</td>\n",
       "      <td>0.436783</td>\n",
       "      <td>0.305436</td>\n",
       "    </tr>\n",
       "    <tr>\n",
       "      <th>50%</th>\n",
       "      <td>0.474474</td>\n",
       "      <td>0.566175</td>\n",
       "      <td>0.601219</td>\n",
       "      <td>0.775468</td>\n",
       "      <td>0.713917</td>\n",
       "      <td>0.516402</td>\n",
       "    </tr>\n",
       "    <tr>\n",
       "      <th>75%</th>\n",
       "      <td>0.834125</td>\n",
       "      <td>0.876845</td>\n",
       "      <td>0.695430</td>\n",
       "      <td>0.799233</td>\n",
       "      <td>0.922912</td>\n",
       "      <td>0.846651</td>\n",
       "    </tr>\n",
       "    <tr>\n",
       "      <th>max</th>\n",
       "      <td>0.946820</td>\n",
       "      <td>0.972086</td>\n",
       "      <td>0.869129</td>\n",
       "      <td>0.960203</td>\n",
       "      <td>0.985929</td>\n",
       "      <td>0.946371</td>\n",
       "    </tr>\n",
       "  </tbody>\n",
       "</table>\n",
       "</div>"
      ],
      "text/plain": [
       "       column_1  column_2  column_3  column_4  column_5  column_6\n",
       "count  6.000000  6.000000  6.000000  6.000000  6.000000  6.000000\n",
       "mean   0.490115  0.616011  0.576828  0.782222  0.634015  0.548401\n",
       "std    0.395954  0.296832  0.237359  0.100434  0.365357  0.342114\n",
       "min    0.040953  0.304882  0.171512  0.675886  0.053346  0.119383\n",
       "25%    0.156088  0.371305  0.518595  0.718229  0.436783  0.305436\n",
       "50%    0.474474  0.566175  0.601219  0.775468  0.713917  0.516402\n",
       "75%    0.834125  0.876845  0.695430  0.799233  0.922912  0.846651\n",
       "max    0.946820  0.972086  0.869129  0.960203  0.985929  0.946371"
      ]
     },
     "execution_count": 18,
     "metadata": {},
     "output_type": "execute_result"
    }
   ],
   "source": [
    "df1_stat = df1.describe()\n",
    "df1_stat"
   ]
  },
  {
   "cell_type": "code",
   "execution_count": 19,
   "id": "370c13e3-5311-4bed-9717-51d4f52c4cca",
   "metadata": {},
   "outputs": [
    {
     "data": {
      "text/html": [
       "<div>\n",
       "<style scoped>\n",
       "    .dataframe tbody tr th:only-of-type {\n",
       "        vertical-align: middle;\n",
       "    }\n",
       "\n",
       "    .dataframe tbody tr th {\n",
       "        vertical-align: top;\n",
       "    }\n",
       "\n",
       "    .dataframe thead th {\n",
       "        text-align: right;\n",
       "    }\n",
       "</style>\n",
       "<table border=\"1\" class=\"dataframe\">\n",
       "  <thead>\n",
       "    <tr style=\"text-align: right;\">\n",
       "      <th></th>\n",
       "      <th>column_1</th>\n",
       "      <th>column_2</th>\n",
       "      <th>column_3</th>\n",
       "      <th>column_4</th>\n",
       "      <th>column_5</th>\n",
       "      <th>column_6</th>\n",
       "    </tr>\n",
       "  </thead>\n",
       "  <tbody>\n",
       "    <tr>\n",
       "      <th>mean</th>\n",
       "      <td>0.490115</td>\n",
       "      <td>0.616011</td>\n",
       "      <td>0.576828</td>\n",
       "      <td>0.782222</td>\n",
       "      <td>0.634015</td>\n",
       "      <td>0.548401</td>\n",
       "    </tr>\n",
       "  </tbody>\n",
       "</table>\n",
       "</div>"
      ],
      "text/plain": [
       "      column_1  column_2  column_3  column_4  column_5  column_6\n",
       "mean  0.490115  0.616011  0.576828  0.782222  0.634015  0.548401"
      ]
     },
     "execution_count": 19,
     "metadata": {},
     "output_type": "execute_result"
    }
   ],
   "source": [
    "df1_stat[1:2]"
   ]
  },
  {
   "cell_type": "code",
   "execution_count": 21,
   "id": "d715ecc1-a9db-4d65-95e5-af52caeac5e6",
   "metadata": {},
   "outputs": [
    {
     "data": {
      "text/plain": [
       "std    0.296832\n",
       "Name: column_2, dtype: float64"
      ]
     },
     "execution_count": 21,
     "metadata": {},
     "output_type": "execute_result"
    }
   ],
   "source": [
    "df1_stat['column_2'][2:3]"
   ]
  },
  {
   "cell_type": "markdown",
   "id": "b9584db3-0a58-46fd-8009-6765ebe61084",
   "metadata": {},
   "source": [
    "### -----------------------------------------------------------------------------"
   ]
  },
  {
   "cell_type": "markdown",
   "id": "9d180ecd-d464-4ce6-90cd-9e9457f0a526",
   "metadata": {},
   "source": [
    "#### Q5. Replace the data present in the second row of column, ‘column_2’ by a string variable then find the\n",
    "#### mean of column, column_2.\n",
    "#### If you are getting errors in executing it then explain why.\n",
    "#### [Hint: To replace the data use df1.loc[] and equate this to string data of your choice.]"
   ]
  },
  {
   "cell_type": "code",
   "execution_count": 22,
   "id": "7b5eb727-4c85-4912-8e71-0905a5454b33",
   "metadata": {},
   "outputs": [
    {
     "data": {
      "text/html": [
       "<div>\n",
       "<style scoped>\n",
       "    .dataframe tbody tr th:only-of-type {\n",
       "        vertical-align: middle;\n",
       "    }\n",
       "\n",
       "    .dataframe tbody tr th {\n",
       "        vertical-align: top;\n",
       "    }\n",
       "\n",
       "    .dataframe thead th {\n",
       "        text-align: right;\n",
       "    }\n",
       "</style>\n",
       "<table border=\"1\" class=\"dataframe\">\n",
       "  <thead>\n",
       "    <tr style=\"text-align: right;\">\n",
       "      <th></th>\n",
       "      <th>column_1</th>\n",
       "      <th>column_2</th>\n",
       "      <th>column_3</th>\n",
       "      <th>column_4</th>\n",
       "      <th>column_5</th>\n",
       "      <th>column_6</th>\n",
       "    </tr>\n",
       "  </thead>\n",
       "  <tbody>\n",
       "    <tr>\n",
       "      <th>1</th>\n",
       "      <td>0.924638</td>\n",
       "      <td>0.929327</td>\n",
       "      <td>0.869129</td>\n",
       "      <td>0.777933</td>\n",
       "      <td>0.970674</td>\n",
       "      <td>0.119383</td>\n",
       "    </tr>\n",
       "    <tr>\n",
       "      <th>2</th>\n",
       "      <td>0.946820</td>\n",
       "      <td>0.304882</td>\n",
       "      <td>0.516459</td>\n",
       "      <td>0.806333</td>\n",
       "      <td>0.985929</td>\n",
       "      <td>0.930340</td>\n",
       "    </tr>\n",
       "    <tr>\n",
       "      <th>3</th>\n",
       "      <td>0.040953</td>\n",
       "      <td>0.412953</td>\n",
       "      <td>0.525004</td>\n",
       "      <td>0.675886</td>\n",
       "      <td>0.648211</td>\n",
       "      <td>0.595584</td>\n",
       "    </tr>\n",
       "    <tr>\n",
       "      <th>4</th>\n",
       "      <td>0.079329</td>\n",
       "      <td>0.357423</td>\n",
       "      <td>0.677434</td>\n",
       "      <td>0.960203</td>\n",
       "      <td>0.053346</td>\n",
       "      <td>0.946371</td>\n",
       "    </tr>\n",
       "    <tr>\n",
       "      <th>5</th>\n",
       "      <td>0.562584</td>\n",
       "      <td>0.719396</td>\n",
       "      <td>0.171512</td>\n",
       "      <td>0.699970</td>\n",
       "      <td>0.366308</td>\n",
       "      <td>0.437220</td>\n",
       "    </tr>\n",
       "    <tr>\n",
       "      <th>6</th>\n",
       "      <td>0.386365</td>\n",
       "      <td>0.972086</td>\n",
       "      <td>0.701428</td>\n",
       "      <td>0.773004</td>\n",
       "      <td>0.779624</td>\n",
       "      <td>0.261508</td>\n",
       "    </tr>\n",
       "  </tbody>\n",
       "</table>\n",
       "</div>"
      ],
      "text/plain": [
       "   column_1  column_2  column_3  column_4  column_5  column_6\n",
       "1  0.924638  0.929327  0.869129  0.777933  0.970674  0.119383\n",
       "2  0.946820  0.304882  0.516459  0.806333  0.985929  0.930340\n",
       "3  0.040953  0.412953  0.525004  0.675886  0.648211  0.595584\n",
       "4  0.079329  0.357423  0.677434  0.960203  0.053346  0.946371\n",
       "5  0.562584  0.719396  0.171512  0.699970  0.366308  0.437220\n",
       "6  0.386365  0.972086  0.701428  0.773004  0.779624  0.261508"
      ]
     },
     "execution_count": 22,
     "metadata": {},
     "output_type": "execute_result"
    }
   ],
   "source": [
    "df1"
   ]
  },
  {
   "cell_type": "code",
   "execution_count": 25,
   "id": "9fe7dadc-88aa-4be0-8494-34bf6cc4cb04",
   "metadata": {},
   "outputs": [],
   "source": [
    "df1['column_2'][2] = 'Aryav'"
   ]
  },
  {
   "cell_type": "code",
   "execution_count": 26,
   "id": "7ad484c7-e731-4b37-8f68-a9e9b325c357",
   "metadata": {},
   "outputs": [
    {
     "data": {
      "text/html": [
       "<div>\n",
       "<style scoped>\n",
       "    .dataframe tbody tr th:only-of-type {\n",
       "        vertical-align: middle;\n",
       "    }\n",
       "\n",
       "    .dataframe tbody tr th {\n",
       "        vertical-align: top;\n",
       "    }\n",
       "\n",
       "    .dataframe thead th {\n",
       "        text-align: right;\n",
       "    }\n",
       "</style>\n",
       "<table border=\"1\" class=\"dataframe\">\n",
       "  <thead>\n",
       "    <tr style=\"text-align: right;\">\n",
       "      <th></th>\n",
       "      <th>column_1</th>\n",
       "      <th>column_2</th>\n",
       "      <th>column_3</th>\n",
       "      <th>column_4</th>\n",
       "      <th>column_5</th>\n",
       "      <th>column_6</th>\n",
       "    </tr>\n",
       "  </thead>\n",
       "  <tbody>\n",
       "    <tr>\n",
       "      <th>1</th>\n",
       "      <td>0.924638</td>\n",
       "      <td>0.929327</td>\n",
       "      <td>0.869129</td>\n",
       "      <td>0.777933</td>\n",
       "      <td>0.970674</td>\n",
       "      <td>0.119383</td>\n",
       "    </tr>\n",
       "    <tr>\n",
       "      <th>2</th>\n",
       "      <td>0.946820</td>\n",
       "      <td>Aryav</td>\n",
       "      <td>0.516459</td>\n",
       "      <td>0.806333</td>\n",
       "      <td>0.985929</td>\n",
       "      <td>0.930340</td>\n",
       "    </tr>\n",
       "    <tr>\n",
       "      <th>3</th>\n",
       "      <td>0.040953</td>\n",
       "      <td>0.412953</td>\n",
       "      <td>0.525004</td>\n",
       "      <td>0.675886</td>\n",
       "      <td>0.648211</td>\n",
       "      <td>0.595584</td>\n",
       "    </tr>\n",
       "    <tr>\n",
       "      <th>4</th>\n",
       "      <td>0.079329</td>\n",
       "      <td>0.357423</td>\n",
       "      <td>0.677434</td>\n",
       "      <td>0.960203</td>\n",
       "      <td>0.053346</td>\n",
       "      <td>0.946371</td>\n",
       "    </tr>\n",
       "    <tr>\n",
       "      <th>5</th>\n",
       "      <td>0.562584</td>\n",
       "      <td>0.719396</td>\n",
       "      <td>0.171512</td>\n",
       "      <td>0.699970</td>\n",
       "      <td>0.366308</td>\n",
       "      <td>0.437220</td>\n",
       "    </tr>\n",
       "    <tr>\n",
       "      <th>6</th>\n",
       "      <td>0.386365</td>\n",
       "      <td>0.972086</td>\n",
       "      <td>0.701428</td>\n",
       "      <td>0.773004</td>\n",
       "      <td>0.779624</td>\n",
       "      <td>0.261508</td>\n",
       "    </tr>\n",
       "  </tbody>\n",
       "</table>\n",
       "</div>"
      ],
      "text/plain": [
       "   column_1  column_2  column_3  column_4  column_5  column_6\n",
       "1  0.924638  0.929327  0.869129  0.777933  0.970674  0.119383\n",
       "2  0.946820     Aryav  0.516459  0.806333  0.985929  0.930340\n",
       "3  0.040953  0.412953  0.525004  0.675886  0.648211  0.595584\n",
       "4  0.079329  0.357423  0.677434  0.960203  0.053346  0.946371\n",
       "5  0.562584  0.719396  0.171512  0.699970  0.366308  0.437220\n",
       "6  0.386365  0.972086  0.701428  0.773004  0.779624  0.261508"
      ]
     },
     "execution_count": 26,
     "metadata": {},
     "output_type": "execute_result"
    }
   ],
   "source": [
    "df1"
   ]
  },
  {
   "cell_type": "code",
   "execution_count": 28,
   "id": "da6aaa6e-9edd-40f6-87c5-e5af07f605cd",
   "metadata": {},
   "outputs": [
    {
     "name": "stdout",
     "output_type": "stream",
     "text": [
      "unsupported operand type(s) for +: 'float' and 'str'\n"
     ]
    }
   ],
   "source": [
    "try:\n",
    "    df1['column_2'].mean()\n",
    "except Exception as e:\n",
    "    print(e)\n"
   ]
  },
  {
   "cell_type": "markdown",
   "id": "6cf5a6a4-d2c6-48d6-9c3f-1b0dc2bf73a7",
   "metadata": {},
   "source": [
    "Ans -> We are getting error as while calculating mean it sum up value in each row and as in second row value is string so it will try to add it to a integer which is not logically correct and hence the code throws an exception."
   ]
  },
  {
   "cell_type": "markdown",
   "id": "9602ae97-19cf-44b9-b614-ab701ec7be22",
   "metadata": {},
   "source": [
    "### -----------------------------------------------------------------------------"
   ]
  },
  {
   "cell_type": "markdown",
   "id": "a3503ae7-8eb8-4e62-93c5-94a8fb60cb85",
   "metadata": {},
   "source": [
    "#### Q6. What do you understand about the windows function in pandas and list the types of windows\n",
    "#### functions?"
   ]
  },
  {
   "cell_type": "markdown",
   "id": "9093e8f6-877c-4769-86d7-1d160f676310",
   "metadata": {},
   "source": [
    "Ans -> Pandas Window functions are functions where the input values are taken from a “window” of one or more rows in a series or a table and calculation is performed over them. The word window means the number of rows between the two boundaries by which we perform calculations including the boundary rows.\n",
    "\n",
    "There are four types of window function:\n",
    " 1. Rolling window operations\n",
    " 2. Weighted window operations\n",
    " 3. Expanding window operations\n",
    " 4. Exponentially Weighted window"
   ]
  },
  {
   "cell_type": "code",
   "execution_count": 54,
   "id": "4bfa9528-2e8e-41ea-872a-1cd17e9a810b",
   "metadata": {},
   "outputs": [],
   "source": [
    "## Example:\n",
    "\n",
    "df = pd.DataFrame({'a':[1,2,3,4,5,6,7,8,9]})"
   ]
  },
  {
   "cell_type": "code",
   "execution_count": 55,
   "id": "fdde89db-e18a-45da-b495-d00d9fc87202",
   "metadata": {},
   "outputs": [
    {
     "data": {
      "text/html": [
       "<div>\n",
       "<style scoped>\n",
       "    .dataframe tbody tr th:only-of-type {\n",
       "        vertical-align: middle;\n",
       "    }\n",
       "\n",
       "    .dataframe tbody tr th {\n",
       "        vertical-align: top;\n",
       "    }\n",
       "\n",
       "    .dataframe thead th {\n",
       "        text-align: right;\n",
       "    }\n",
       "</style>\n",
       "<table border=\"1\" class=\"dataframe\">\n",
       "  <thead>\n",
       "    <tr style=\"text-align: right;\">\n",
       "      <th></th>\n",
       "      <th>a</th>\n",
       "    </tr>\n",
       "  </thead>\n",
       "  <tbody>\n",
       "    <tr>\n",
       "      <th>0</th>\n",
       "      <td>1</td>\n",
       "    </tr>\n",
       "    <tr>\n",
       "      <th>1</th>\n",
       "      <td>2</td>\n",
       "    </tr>\n",
       "    <tr>\n",
       "      <th>2</th>\n",
       "      <td>3</td>\n",
       "    </tr>\n",
       "    <tr>\n",
       "      <th>3</th>\n",
       "      <td>4</td>\n",
       "    </tr>\n",
       "    <tr>\n",
       "      <th>4</th>\n",
       "      <td>5</td>\n",
       "    </tr>\n",
       "    <tr>\n",
       "      <th>5</th>\n",
       "      <td>6</td>\n",
       "    </tr>\n",
       "    <tr>\n",
       "      <th>6</th>\n",
       "      <td>7</td>\n",
       "    </tr>\n",
       "    <tr>\n",
       "      <th>7</th>\n",
       "      <td>8</td>\n",
       "    </tr>\n",
       "    <tr>\n",
       "      <th>8</th>\n",
       "      <td>9</td>\n",
       "    </tr>\n",
       "  </tbody>\n",
       "</table>\n",
       "</div>"
      ],
      "text/plain": [
       "   a\n",
       "0  1\n",
       "1  2\n",
       "2  3\n",
       "3  4\n",
       "4  5\n",
       "5  6\n",
       "6  7\n",
       "7  8\n",
       "8  9"
      ]
     },
     "execution_count": 55,
     "metadata": {},
     "output_type": "execute_result"
    }
   ],
   "source": [
    "df"
   ]
  },
  {
   "cell_type": "code",
   "execution_count": 57,
   "id": "0dd9a702-a42e-4f9f-820b-bf22dd352eb0",
   "metadata": {},
   "outputs": [
    {
     "data": {
      "text/html": [
       "<div>\n",
       "<style scoped>\n",
       "    .dataframe tbody tr th:only-of-type {\n",
       "        vertical-align: middle;\n",
       "    }\n",
       "\n",
       "    .dataframe tbody tr th {\n",
       "        vertical-align: top;\n",
       "    }\n",
       "\n",
       "    .dataframe thead th {\n",
       "        text-align: right;\n",
       "    }\n",
       "</style>\n",
       "<table border=\"1\" class=\"dataframe\">\n",
       "  <thead>\n",
       "    <tr style=\"text-align: right;\">\n",
       "      <th></th>\n",
       "      <th>a</th>\n",
       "    </tr>\n",
       "  </thead>\n",
       "  <tbody>\n",
       "    <tr>\n",
       "      <th>0</th>\n",
       "      <td>NaN</td>\n",
       "    </tr>\n",
       "    <tr>\n",
       "      <th>1</th>\n",
       "      <td>NaN</td>\n",
       "    </tr>\n",
       "    <tr>\n",
       "      <th>2</th>\n",
       "      <td>6.0</td>\n",
       "    </tr>\n",
       "    <tr>\n",
       "      <th>3</th>\n",
       "      <td>9.0</td>\n",
       "    </tr>\n",
       "    <tr>\n",
       "      <th>4</th>\n",
       "      <td>12.0</td>\n",
       "    </tr>\n",
       "    <tr>\n",
       "      <th>5</th>\n",
       "      <td>15.0</td>\n",
       "    </tr>\n",
       "    <tr>\n",
       "      <th>6</th>\n",
       "      <td>18.0</td>\n",
       "    </tr>\n",
       "    <tr>\n",
       "      <th>7</th>\n",
       "      <td>21.0</td>\n",
       "    </tr>\n",
       "    <tr>\n",
       "      <th>8</th>\n",
       "      <td>24.0</td>\n",
       "    </tr>\n",
       "  </tbody>\n",
       "</table>\n",
       "</div>"
      ],
      "text/plain": [
       "      a\n",
       "0   NaN\n",
       "1   NaN\n",
       "2   6.0\n",
       "3   9.0\n",
       "4  12.0\n",
       "5  15.0\n",
       "6  18.0\n",
       "7  21.0\n",
       "8  24.0"
      ]
     },
     "execution_count": 57,
     "metadata": {},
     "output_type": "execute_result"
    }
   ],
   "source": [
    "df.rolling(window=3).sum()"
   ]
  },
  {
   "cell_type": "markdown",
   "id": "05ace0a5-4881-448c-8f08-6732df2c23ae",
   "metadata": {},
   "source": [
    "### -----------------------------------------------------------------------------"
   ]
  },
  {
   "cell_type": "markdown",
   "id": "7f051f9b-209f-4321-aa6e-4dc133fcee0b",
   "metadata": {},
   "source": [
    "#### Q7. Write a code to print only the current month and year at the time of answering this question.\n",
    "#### [Hint: Use pandas.datetime function]"
   ]
  },
  {
   "cell_type": "code",
   "execution_count": 50,
   "id": "6981ac6c-370c-4d7c-acc8-828ec68e1528",
   "metadata": {},
   "outputs": [
    {
     "data": {
      "text/plain": [
       "'2023-03-04'"
      ]
     },
     "execution_count": 50,
     "metadata": {},
     "output_type": "execute_result"
    }
   ],
   "source": [
    "from datetime import date\n",
    "\n",
    "date = date.today()\n",
    "date\n",
    "str(date)"
   ]
  },
  {
   "cell_type": "code",
   "execution_count": 49,
   "id": "b1630169-0c0e-4104-b7ee-b5824854ba2b",
   "metadata": {},
   "outputs": [],
   "source": [
    "s = str(date)\n",
    "month = {1:'January',2:'February',3:'March',4:'April',5:'May',6:'June',7:'July',8:'August',9:'September',10:'October',11:'November',12:'December'}"
   ]
  },
  {
   "cell_type": "code",
   "execution_count": 53,
   "id": "69ad5ba8-b3b4-494e-adac-ec1a9ea29adc",
   "metadata": {},
   "outputs": [
    {
     "name": "stdout",
     "output_type": "stream",
     "text": [
      "This year is: 2023 and this month is: March\n"
     ]
    }
   ],
   "source": [
    "print(f'This year is: {s[0:4]} and this month is: {month[int(s[5:7])]}')"
   ]
  },
  {
   "cell_type": "markdown",
   "id": "fb68a09d-34f9-4a85-9aa4-b5dba8c82940",
   "metadata": {},
   "source": [
    "### -----------------------------------------------------------------------------"
   ]
  },
  {
   "cell_type": "markdown",
   "id": "1dc5409e-d05d-4088-998f-f3e93fe5da59",
   "metadata": {},
   "source": [
    "#### Q8. Write a Python program that takes in two dates as input (in the format YYYY-MM-DD) and\n",
    "#### calculates the difference between them in days, hours, and minutes using Pandas time delta. The\n",
    "#### program should prompt the user to enter the dates and display the result."
   ]
  },
  {
   "cell_type": "code",
   "execution_count": 62,
   "id": "9e4d548e-8093-4e02-af11-f1a284556d80",
   "metadata": {},
   "outputs": [
    {
     "name": "stdin",
     "output_type": "stream",
     "text": [
      "Enter the start date 2012-03-12\n",
      "Enter the end date 2015-06-11\n"
     ]
    },
    {
     "name": "stdout",
     "output_type": "stream",
     "text": [
      "1186 days 00:00:00\n"
     ]
    }
   ],
   "source": [
    "try:\n",
    "    date1 = pd.to_datetime(input('Enter the start date'))\n",
    "    date2 = pd.to_datetime(input('Enter the end date'))\n",
    "\n",
    "    print(date2-date1)\n",
    "    \n",
    "    \n",
    "except Exception as e:\n",
    "    print(e)\n",
    "    "
   ]
  },
  {
   "cell_type": "markdown",
   "id": "e4254c83-ee7f-4d7a-9612-d3964746bcb0",
   "metadata": {},
   "source": [
    "### -----------------------------------------------------------------------------"
   ]
  },
  {
   "cell_type": "markdown",
   "id": "e0b87ecf-6912-42ed-90e0-b70bc1932919",
   "metadata": {
    "tags": []
   },
   "source": [
    "#### Q9. Write a Python program that reads a CSV file containing categorical data and converts a specified\n",
    "#### column to a categorical data type. The program should prompt the user to enter the file path, column\n",
    "#### name, and category order, and then display the sorted data."
   ]
  },
  {
   "cell_type": "markdown",
   "id": "d8f983f8-f690-44da-b041-510488d89ed2",
   "metadata": {},
   "source": [
    "Ans -> Language of question not clear as it is asking to convert a column to categorical data type even though it mentions that the file has cataegorical data and  at the end say display the sorted data."
   ]
  },
  {
   "cell_type": "markdown",
   "id": "d970d81f-6157-4834-bf38-f7b12beb668f",
   "metadata": {},
   "source": [
    "### -----------------------------------------------------------------------------"
   ]
  },
  {
   "cell_type": "markdown",
   "id": "6f4c11ee-a0f6-4ed7-b2ed-955c3d7e00fa",
   "metadata": {},
   "source": [
    "#### Q10. Write a Python program that reads a CSV file containing sales data for different products and\n",
    "#### visualizes the data using a stacked bar chart to show the sales of each product category over time. The\n",
    "#### program should prompt the user to enter the file path and display the chart."
   ]
  },
  {
   "cell_type": "code",
   "execution_count": 63,
   "id": "9dfa0235-ea18-4648-842f-3475b8d9e5bb",
   "metadata": {},
   "outputs": [
    {
     "name": "stdin",
     "output_type": "stream",
     "text": [
      "Enter the file path: sales_data\n"
     ]
    },
    {
     "data": {
      "image/png": "[encoded data removed]",
      "text/plain": [
       "<Figure size 640x480 with 1 Axes>"
      ]
     },
     "metadata": {},
     "output_type": "display_data"
    }
   ],
   "source": [
    "import pandas as pd\n",
    "try:\n",
    "    file_path = input(\"Enter the file path:\")\n",
    "    df = pd.read_csv(file_path+'.csv')\n",
    "    \n",
    "    \n",
    "    df['A'].plot()\n",
    "    df['B'].plot()\n",
    "    df['C'].plot()\n",
    "except Exception as e:\n",
    "    print(e)"
   ]
  },
  {
   "cell_type": "markdown",
   "id": "db452785-74bb-46d1-97a0-d2681b29be40",
   "metadata": {},
   "source": [
    "### -----------------------------------------------------------------------------"
   ]
  },
  {
   "cell_type": "markdown",
   "id": "6dff5166-559f-4f77-87e7-5dfc00953142",
   "metadata": {
    "tags": []
   },
   "source": [
    "##### Q11. You are given a CSV file containing student data that includes the student ID and their test score. Write\n",
    "##### a Python program that reads the CSV file, calculates the mean, median, and mode of the test scores, and\n",
    "##### displays the results in a table.\n",
    "##### The program should do the followingM\n",
    "##### I Prompt the user to enter the file path of the CSV file containing the student dataR\n",
    "##### I Read the CSV file into a Pandas DataFrameR\n",
    "##### I Calculate the mean, median, and mode of the test scores using Pandas toolsR\n",
    "##### I Display the mean, median, and mode in a table.\n",
    "##### Assume the CSV file contains the following columnsM\n",
    "##### I Student ID: The ID of the studentR\n",
    "##### I Test Score: The score of the student's test.\n",
    "##### Example usage of the program:\n",
    "##### Enter the file path of the CSV file containing the student data: student_data.csv\n",
    "##### +-----------+--------+\n",
    "##### | Statistic | Value |\n",
    "##### +-----------+--------+\n",
    "##### | Mean | 79.6 |\n",
    "##### | Median | 82 |\n",
    "##### | Mode | 85, 90 |\n",
    "##### +-----------+--------+\n",
    "##### Assume that the CSV file student_data.csv contains the following data:\n",
    "##### Student ID,Test Score\n",
    "##### 1,85\n",
    "##### 2,90\n",
    "##### 3,80\n",
    "##### 4,75\n",
    "##### 5,85\n",
    "##### 6,82\n",
    "##### 7,78\n",
    "##### 8,85\n",
    "##### 9,90\n",
    "##### 10,85\n",
    "##### The program should calculate the mean, median, and mode of the test scores and display the results\n",
    "##### in a table."
   ]
  },
  {
   "cell_type": "code",
   "execution_count": 52,
   "id": "b9646b5f-d41c-4f1e-aeaf-3e9f8f586d1f",
   "metadata": {},
   "outputs": [
    {
     "name": "stdin",
     "output_type": "stream",
     "text": [
      "Enter the file path: student_data\n"
     ]
    },
    {
     "name": "stdout",
     "output_type": "stream",
     "text": [
      "  Statistic  Values\n",
      "0      Mean    83.5\n",
      "1    Median    85.0\n",
      "2      Mode    85.0\n"
     ]
    }
   ],
   "source": [
    "import pandas as pd\n",
    "try:\n",
    "    file_path = input(\"Enter the file path:\")\n",
    "    df = pd.read_csv(file_path+'.csv')\n",
    "    mean = df['Test Score'].mean()\n",
    "    mode = df['Test Score'].mode()[0]\n",
    "    median = df['Test Score'].median()\n",
    "    desc = {'Statistic':['Mean' , 'Median' , 'Mode'] , 'Values':[mean , median , mode]}\n",
    "    df_desc = pd.DataFrame(desc)\n",
    "    print(df_desc)\n",
    "except Exception as e:\n",
    "    print(e)"
   ]
  }
 ],
 "metadata": {
  "kernelspec": {
   "display_name": "Python 3 (ipykernel)",
   "language": "python",
   "name": "python3"
  },
  "language_info": {
   "codemirror_mode": {
    "name": "ipython",
    "version": 3
   },
   "file_extension": ".py",
   "mimetype": "text/x-python",
   "name": "python",
   "nbconvert_exporter": "python",
   "pygments_lexer": "ipython3",
   "version": "3.10.8"
  }
 },
 "nbformat": 4,
 "nbformat_minor": 5
}
