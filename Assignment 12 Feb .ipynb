{
 "cells": [
  {
   "cell_type": "markdown",
   "id": "24f57c67-ca68-4510-952e-af98b45791e2",
   "metadata": {},
   "source": [
    "## ASSIGNMENT 12 Feb"
   ]
  },
  {
   "cell_type": "markdown",
   "id": "ce6eec30-b6a9-4dd6-ae22-3eef074b0a6a",
   "metadata": {},
   "source": [
    "### --------------------------------------------------------------------------"
   ]
  },
  {
   "cell_type": "code",
   "execution_count": 18,
   "id": "9565518e-c1c4-4419-9ae0-f61156692f3b",
   "metadata": {},
   "outputs": [],
   "source": [
    "import logging \n",
    "\n",
    "logging.basicConfig(filename = 'Assign12Feb.log' , level = logging.INFO, format = '%(levelname)s%(asctime)s%(message)s')"
   ]
  },
  {
   "cell_type": "markdown",
   "id": "04d87504-78d5-4abc-a495-66313d2ce94b",
   "metadata": {},
   "source": [
    "#### Q1. What is Exception in python? Write the differene between Exceptions and syntax errors"
   ]
  },
  {
   "cell_type": "markdown",
   "id": "d052c8d0-a2d4-4709-baab-19d82c070955",
   "metadata": {},
   "source": [
    "Ans -> An exception is an event, which occurs during the execution of a program that disrupts the normal flow of the program's instructions. In general, when a Python script encounters a situation that it cannot cope with, it raises an exception. When a Python script raises an exception, it must either handle the exception immediately otherwise it terminates and quits.\n"
   ]
  },
  {
   "cell_type": "markdown",
   "id": "7dabfe4b-02f9-4a1a-99a2-ffefc27f989f",
   "metadata": {},
   "source": [
    "Syntactical errors are caused when code is written with wrong syntax Ex -"
   ]
  },
  {
   "cell_type": "code",
   "execution_count": 10,
   "id": "8391ea0f-65bc-4126-aaaf-a2af2a40300c",
   "metadata": {},
   "outputs": [
    {
     "ename": "SyntaxError",
     "evalue": "unterminated string literal (detected at line 1) (1186261575.py, line 1)",
     "output_type": "error",
     "traceback": [
      "\u001b[0;36m  Cell \u001b[0;32mIn[10], line 1\u001b[0;36m\u001b[0m\n\u001b[0;31m    print('aryav)\u001b[0m\n\u001b[0m          ^\u001b[0m\n\u001b[0;31mSyntaxError\u001b[0m\u001b[0;31m:\u001b[0m unterminated string literal (detected at line 1)\n"
     ]
    }
   ],
   "source": [
    "print('aryav)"
   ]
  },
  {
   "cell_type": "markdown",
   "id": "7f8fc451-7e9b-46c2-9ab6-64eb82663870",
   "metadata": {},
   "source": [
    "Errors that occur at runtime (after passing the syntax test) are called exceptions or logical errors.Exceptions are logic based where syntax is correct but logic in not.For instance, they occur when we\n",
    "            \n",
    "            try to open a file(for reading) that does not exist (FileNotFoundError)\n",
    "            try to divide a number by zero (ZeroDivisionError)\n",
    "            try to import a module that does not exist (ImportError) and so on.\n",
    "Whenever these types of runtime errors occur, Python creates an exception object.If not handled properly, it prints a traceback to that error along with some details about why that error occurred and the program quits"
   ]
  },
  {
   "cell_type": "code",
   "execution_count": 9,
   "id": "1dbe503e-aef3-437d-8b55-1bec8a7e0abe",
   "metadata": {},
   "outputs": [
    {
     "name": "stdout",
     "output_type": "stream",
     "text": [
      "ERROR MESSAGE: division by zero\n"
     ]
    }
   ],
   "source": [
    "try:\n",
    "    a = 7\n",
    "    b = 0\n",
    "    a/b\n",
    "except ZeroDivisionError as e:\n",
    "    logging.error(e)\n",
    "    print('ERROR MESSAGE:',e)"
   ]
  },
  {
   "cell_type": "markdown",
   "id": "dc49b6f3-0397-4d04-a567-36270a4b4e09",
   "metadata": {},
   "source": [
    "### --------------------------------------------------------------------------"
   ]
  },
  {
   "cell_type": "markdown",
   "id": "e44ffb9c-c2f3-4398-ae4e-8d07de32bf37",
   "metadata": {},
   "source": [
    "#### Q2. What happens when exception is not handled? Explain with an example."
   ]
  },
  {
   "cell_type": "markdown",
   "id": "73d26538-2c83-453e-ba73-fc4d82aef412",
   "metadata": {},
   "source": [
    "Ans -> When an exception occurred, if you don’t handle it, the program terminates abruptly and the code past the line that caused the exception will not get executed."
   ]
  },
  {
   "cell_type": "code",
   "execution_count": 28,
   "id": "0210c877-afeb-4219-86a6-984b9c35a38e",
   "metadata": {},
   "outputs": [
    {
     "name": "stdin",
     "output_type": "stream",
     "text": [
      "Enter your roll: 10\n"
     ]
    },
    {
     "ename": "IndexError",
     "evalue": "list index out of range",
     "output_type": "error",
     "traceback": [
      "\u001b[0;31m---------------------------------------------------------------------------\u001b[0m",
      "\u001b[0;31mIndexError\u001b[0m                                Traceback (most recent call last)",
      "Cell \u001b[0;32mIn[28], line 5\u001b[0m\n\u001b[1;32m      3\u001b[0m marksObtained \u001b[38;5;241m=\u001b[39m [\u001b[38;5;241m78\u001b[39m,\u001b[38;5;241m67\u001b[39m,\u001b[38;5;241m91\u001b[39m,\u001b[38;5;241m56\u001b[39m,\u001b[38;5;241m41\u001b[39m,\u001b[38;5;241m66\u001b[39m,\u001b[38;5;241m78\u001b[39m,\u001b[38;5;241m23\u001b[39m,\u001b[38;5;241m45\u001b[39m,\u001b[38;5;241m89\u001b[39m]\n\u001b[1;32m      4\u001b[0m roll \u001b[38;5;241m=\u001b[39m \u001b[38;5;28mint\u001b[39m(\u001b[38;5;28minput\u001b[39m(\u001b[38;5;124m'\u001b[39m\u001b[38;5;124mEnter your roll:\u001b[39m\u001b[38;5;124m'\u001b[39m))\n\u001b[0;32m----> 5\u001b[0m \u001b[38;5;28mprint\u001b[39m(\u001b[43mmarksObtained\u001b[49m\u001b[43m[\u001b[49m\u001b[43mroll\u001b[49m\u001b[38;5;241;43m+\u001b[39;49m\u001b[38;5;241;43m1\u001b[39;49m\u001b[43m]\u001b[49m)\n\u001b[1;32m      6\u001b[0m \u001b[38;5;28mprint\u001b[39m(\u001b[38;5;124m'\u001b[39m\u001b[38;5;124mHope you improve next time\u001b[39m\u001b[38;5;124m'\u001b[39m)\n",
      "\u001b[0;31mIndexError\u001b[0m: list index out of range"
     ]
    }
   ],
   "source": [
    "## Exampe- tution class of 10 students - Without excetion handling\n",
    "\n",
    "marksObtained = [78,67,91,56,41,66,78,23,45,89]\n",
    "roll = int(input('Enter your roll:'))\n",
    "print(marksObtained[roll+1])\n",
    "print('Hope you improve next time')"
   ]
  },
  {
   "cell_type": "code",
   "execution_count": 29,
   "id": "c853cb8c-74ff-48c6-bbe2-ae2e8fedea1c",
   "metadata": {},
   "outputs": [
    {
     "name": "stdin",
     "output_type": "stream",
     "text": [
      "Enter your roll: 10\n"
     ]
    },
    {
     "name": "stdout",
     "output_type": "stream",
     "text": [
      "Error:  list index out of range\n",
      "Hope you improve next time\n"
     ]
    }
   ],
   "source": [
    "## Example - tution class of 10 students  - With exception handling\n",
    "\n",
    "try:\n",
    "    marksObtained = [78,67,91,56,41,66,78,23,45,89]\n",
    "    roll = int(input('Enter your roll:'))\n",
    "    print(marksObtained[roll+1])\n",
    "except IndexError as e:\n",
    "    print('Error: ',e)\n",
    "    logging.error(e)\n",
    "finally:\n",
    "    print('Hope you improve next time')  ## Will get executed even after exception\n",
    "    \n"
   ]
  },
  {
   "cell_type": "markdown",
   "id": "8df36cda-7cf2-4c5f-bb08-4b7b6fbab693",
   "metadata": {},
   "source": [
    "### --------------------------------------------------------------------------"
   ]
  },
  {
   "cell_type": "markdown",
   "id": "916f3530-7254-469e-bbab-bd3bac04e146",
   "metadata": {},
   "source": [
    "#### Q3. Which Python statements are used to catch and handle exceptions? Explain with examples.\n"
   ]
  },
  {
   "cell_type": "markdown",
   "id": "176bf46d-b5ca-4b1a-941c-2e5af689b010",
   "metadata": {},
   "source": [
    "Ans -> The try and except block in Python is used to catch and handle exceptions. Python executes code following the try statement as a “normal” part of the program. The code that follows the except statement is the program’s response to any exceptions in the preceding try clause.\n",
    "\n"
   ]
  },
  {
   "cell_type": "code",
   "execution_count": 2,
   "id": "15ce05aa-b8ee-49e0-88c2-1a5ee64205dd",
   "metadata": {},
   "outputs": [
    {
     "name": "stdout",
     "output_type": "stream",
     "text": [
      "[Errno 2] No such file or directory: 'python.txt'\n"
     ]
    }
   ],
   "source": [
    "## Example\n",
    "try:\n",
    "    f = open('python.txt','r')\n",
    "    \n",
    "except FileNotFoundError as e:\n",
    "    logging.error(e)\n",
    "    print(e)\n",
    "else:\n",
    "    print(f.read())"
   ]
  },
  {
   "cell_type": "markdown",
   "id": "31866ac7-237a-4beb-b6c9-a6bf04bf606e",
   "metadata": {},
   "source": [
    "### --------------------------------------------------------------------------"
   ]
  },
  {
   "cell_type": "markdown",
   "id": "5a8cc8f7-444d-4221-8a94-d83af07fdc22",
   "metadata": {},
   "source": [
    "#### Q4. Explain with an example:\n",
    "\n",
    "#### a) Try and else\n",
    "#### b) Finally\n",
    "#### c) Raise"
   ]
  },
  {
   "cell_type": "markdown",
   "id": "eb231c77-53f1-409a-9cee-80933cd662e0",
   "metadata": {},
   "source": [
    "Ans -> a) Try and else : Whenever a code written in a try block is executed successfully then only else block get executed otherwise except block get executed."
   ]
  },
  {
   "cell_type": "code",
   "execution_count": 34,
   "id": "8767d224-6a0f-4972-9c91-21dffc440280",
   "metadata": {},
   "outputs": [
    {
     "name": "stdin",
     "output_type": "stream",
     "text": [
      "Enter the second number: 0\n"
     ]
    },
    {
     "name": "stdout",
     "output_type": "stream",
     "text": [
      "division by zero\n"
     ]
    }
   ],
   "source": [
    "try:\n",
    "    a = 100\n",
    "    b = int(input('Enter the second number:'))\n",
    "    c = a/b\n",
    "except ZeroDivisionError as e:\n",
    "    print(e)\n",
    "    \n",
    "else:\n",
    "    print('Divison of 100 by {} gives {}'.format(b,c))"
   ]
  },
  {
   "cell_type": "raw",
   "id": "e2764e0f-ebbb-49c4-97d6-71061e3a1cd3",
   "metadata": {},
   "source": []
  },
  {
   "cell_type": "markdown",
   "id": "e0d542d7-8777-4cb4-870e-a26adfb8a95c",
   "metadata": {},
   "source": [
    "b) Finally - Whatever is written under this block gets executed regardless of the occurence of exceptions. This block usually contains statements that necessarily need to be executed ex - connectivity , fileclose statements etc"
   ]
  },
  {
   "cell_type": "code",
   "execution_count": 30,
   "id": "c3bba026-c58a-411e-9f53-a91d7dc1cbda",
   "metadata": {},
   "outputs": [
    {
     "name": "stdout",
     "output_type": "stream",
     "text": [
      "There is some issue with my code 'type' object is not iterable\n"
     ]
    }
   ],
   "source": [
    "try:\n",
    "    f = open(\"ab.txt\",\"w\")\n",
    "    lists = [1,2,3,4,5]\n",
    "    f.writelines(list)\n",
    "    \n",
    "    \n",
    "except Exception as e:\n",
    "    print(\"There is some issue with my code\",e)\n",
    "    \n",
    "finally:\n",
    "    f.close()   \n",
    "    "
   ]
  },
  {
   "cell_type": "markdown",
   "id": "527621e0-7a69-4d73-9364-ff4e7374c839",
   "metadata": {},
   "source": [
    "c) Raise - The raise keyword is used to raise an exception and stop the control flow of the program.You can define what kind of error to raise, and the text to print to the user.\n",
    "\n",
    "\n"
   ]
  },
  {
   "cell_type": "code",
   "execution_count": 32,
   "id": "7fc39cc9-d4e4-4e68-91ad-911aa7a6b3f1",
   "metadata": {},
   "outputs": [
    {
     "ename": "Exception",
     "evalue": "Sorry, no numbers below zero",
     "output_type": "error",
     "traceback": [
      "\u001b[0;31m---------------------------------------------------------------------------\u001b[0m",
      "\u001b[0;31mException\u001b[0m                                 Traceback (most recent call last)",
      "Cell \u001b[0;32mIn[32], line 4\u001b[0m\n\u001b[1;32m      1\u001b[0m x \u001b[38;5;241m=\u001b[39m \u001b[38;5;241m-\u001b[39m\u001b[38;5;241m1\u001b[39m\n\u001b[1;32m      3\u001b[0m \u001b[38;5;28;01mif\u001b[39;00m x \u001b[38;5;241m<\u001b[39m \u001b[38;5;241m0\u001b[39m:\n\u001b[0;32m----> 4\u001b[0m       \u001b[38;5;28;01mraise\u001b[39;00m \u001b[38;5;167;01mException\u001b[39;00m(\u001b[38;5;124m\"\u001b[39m\u001b[38;5;124mSorry, no numbers below zero\u001b[39m\u001b[38;5;124m\"\u001b[39m)\n",
      "\u001b[0;31mException\u001b[0m: Sorry, no numbers below zero"
     ]
    }
   ],
   "source": [
    "x = -1\n",
    "\n",
    "if x < 0:\n",
    "      raise Exception(\"Sorry, no numbers below zero\")\n"
   ]
  },
  {
   "cell_type": "markdown",
   "id": "75b5f06a-7680-4001-ad21-80bec55e6953",
   "metadata": {},
   "source": [
    "### --------------------------------------------------------------------------"
   ]
  },
  {
   "cell_type": "markdown",
   "id": "5f22a314-413a-4ce5-b84f-605187da59f3",
   "metadata": {},
   "source": [
    "#### Q5. What are Custom Exceptions in python? Why do we need Custom Exceptions? Explain with example."
   ]
  },
  {
   "cell_type": "markdown",
   "id": "875e6a70-0586-44d3-8f2b-254caf65e8ba",
   "metadata": {},
   "source": [
    "Ans -> Certain times 'Exception class' is not sufficient to encorporate particlar types of exception that are although not a exception in general but specifically for our program can create issue and hence need to be raised.For example - if maximum marks in an exam of jee for physics section is 120 and if examiner bydefault entered marks above 120 ,then it can significantlly change students overall score.Such cases need to be handeled with Custom Exception classes.\n"
   ]
  },
  {
   "cell_type": "code",
   "execution_count": 35,
   "id": "20f202c9-34b1-4234-90b3-0a832342b9d0",
   "metadata": {},
   "outputs": [],
   "source": [
    "class validateMarks(Exception):\n",
    "    def __init__(self,msg):\n",
    "        self.msg = msg"
   ]
  },
  {
   "cell_type": "code",
   "execution_count": 37,
   "id": "11877d53-09b6-4880-989d-406e0831d2b2",
   "metadata": {},
   "outputs": [],
   "source": [
    "def marksChecker(n):\n",
    "    \n",
    "    if(n>120):\n",
    "        raise validateMarks('Marks cannot be greater than 120 - you cannot be that good')\n",
    "    else:\n",
    "        print('Thanks, your marks = {} ,has been evaluated'.format(n))\n",
    "        "
   ]
  },
  {
   "cell_type": "code",
   "execution_count": 38,
   "id": "d4bc5acc-4d32-4fda-9eb3-2f581fa54eab",
   "metadata": {},
   "outputs": [
    {
     "name": "stdin",
     "output_type": "stream",
     "text": [
      "Enter your marks : 119\n"
     ]
    },
    {
     "name": "stdout",
     "output_type": "stream",
     "text": [
      "Thanks, your marks = 119 ,has been evaluated\n"
     ]
    }
   ],
   "source": [
    "try:\n",
    "    marks = int(input(\"Enter your marks :\"))\n",
    "    marksChecker(marks)\n",
    "    \n",
    "except validateMarks as e:\n",
    "    logging.error(e)\n",
    "    print(e)\n",
    "    "
   ]
  },
  {
   "cell_type": "markdown",
   "id": "010fff37-bfea-43d9-bdc6-ce52d54c3a4a",
   "metadata": {},
   "source": [
    "### --------------------------------------------------------------------------"
   ]
  },
  {
   "cell_type": "markdown",
   "id": "5ebb87ef-5353-4807-a1b4-825fa45f7074",
   "metadata": {},
   "source": [
    "#### Q6. Create custom exception class. Use this class to handle an exception."
   ]
  },
  {
   "cell_type": "code",
   "execution_count": 3,
   "id": "c27afb27-04a0-4eed-ada7-2c944adefcbd",
   "metadata": {},
   "outputs": [],
   "source": [
    "class validateMarks(Exception):\n",
    "    def __init__(self,msg):\n",
    "        self.msg = msg"
   ]
  },
  {
   "cell_type": "code",
   "execution_count": 36,
   "id": "0cc49bbb-ed39-4270-8f6e-5742124950d4",
   "metadata": {},
   "outputs": [],
   "source": [
    "def marksChecker(n):\n",
    "    \n",
    "    if(n<0):\n",
    "        \n",
    "        raise validateMarks('Marks cannot be negative - you cannot be that bad')\n",
    "    elif(n>100):\n",
    "        \n",
    "        raise validateMarks('Marks cannot be greater than 100 - you cannot be that good')\n",
    "    else:\n",
    "        print('Thanks, your marks = {} ,has been entered in the document'.format(n))\n",
    "        "
   ]
  },
  {
   "cell_type": "code",
   "execution_count": 5,
   "id": "16d6f427-4751-48e7-a1ef-3f6315febd2f",
   "metadata": {},
   "outputs": [
    {
     "name": "stdin",
     "output_type": "stream",
     "text": [
      "Enter your marks : -9\n"
     ]
    },
    {
     "name": "stdout",
     "output_type": "stream",
     "text": [
      "Marks cannot be negative - you cannot be that bad\n"
     ]
    }
   ],
   "source": [
    "try:\n",
    "    marks = int(input(\"Enter your marks :\"))\n",
    "    marksChecker(marks)\n",
    "    \n",
    "except validateMarks as e:\n",
    "    logging.warning(e)\n",
    "    print(e)\n",
    "    "
   ]
  }
 ],
 "metadata": {
  "kernelspec": {
   "display_name": "Python 3 (ipykernel)",
   "language": "python",
   "name": "python3"
  },
  "language_info": {
   "codemirror_mode": {
    "name": "ipython",
    "version": 3
   },
   "file_extension": ".py",
   "mimetype": "text/x-python",
   "name": "python",
   "nbconvert_exporter": "python",
   "pygments_lexer": "ipython3",
   "version": "3.10.8"
  }
 },
 "nbformat": 4,
 "nbformat_minor": 5
}
