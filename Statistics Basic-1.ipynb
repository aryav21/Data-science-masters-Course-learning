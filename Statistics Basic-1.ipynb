{
 "cells": [
  {
   "cell_type": "markdown",
   "id": "fd34583a-f4f6-4e68-a671-6ffc955ec305",
   "metadata": {},
   "source": [
    "## Statistics Basic-1"
   ]
  },
  {
   "cell_type": "markdown",
   "id": "92d4c461-aa00-4851-a5d3-40ec0f38ba3d",
   "metadata": {},
   "source": [
    "### --------------------------------------------------------------------------------------"
   ]
  },
  {
   "cell_type": "markdown",
   "id": "1e26c220-819f-4d9b-b814-c354c50b949e",
   "metadata": {},
   "source": [
    "#### Q1. What is Statistics?"
   ]
  },
  {
   "cell_type": "markdown",
   "id": "e229352d-4ddd-43fa-861d-2631482bb1cf",
   "metadata": {},
   "source": [
    "Ans -> Statistics is the science of collecting, cleaning, organizing and analyzing the date and making useful predictions or classifications from it for better decision making in any fields."
   ]
  },
  {
   "cell_type": "markdown",
   "id": "3232ddfc-63cf-433f-9611-10bf7d79f08b",
   "metadata": {},
   "source": [
    "### --------------------------------------------------------------------------------------"
   ]
  },
  {
   "cell_type": "markdown",
   "id": "10dd9a43-e163-448f-ac39-c0e5b8ce6bb7",
   "metadata": {},
   "source": [
    "#### Q2. Define the different types of statistics and give an example of when each type might be used."
   ]
  },
  {
   "cell_type": "markdown",
   "id": "ee36afc8-766e-4822-a49f-e5801e7d2af2",
   "metadata": {},
   "source": [
    "Ans -> Statistics can be broadly classified into two types: Descriptive Statistics and Inferential Statistics.\n",
    "\n",
    "  - Descriptive Statistics: Descriptive Statistics refers to the techniques used to describe and summarize a set of data. It is used to analyze and describe the characteristics of a data set. Descriptive Statistics can be further classified into two types:\n",
    "\n",
    "    a. Measures of Central Tendency: Measures of central tendency are used to describe the central or typical value of a data set. The commonly used measures of central tendency are mean, median, and mode. For example, the mean height of a class of students or the median income of a city's population.\n",
    "\n",
    "    b. Measures of Variability: Measures of variability are used to describe how spread out the data is. The commonly used measures of variability are range, variance, and standard deviation. For example, the range of scores on a test or the variance in weight of a group of people.\n",
    "\n",
    "  - Inferential Statistics: Inferential Statistics is used to make inferences or draw conclusions about a population based on a sample of data. It is used to test hypotheses and make predictions. Inferential Statistics can be further classified into two types:\n",
    "\n",
    "    a. Parametric Tests: Parametric tests are used when the data follows a normal distribution. Examples of parametric tests include t-tests and ANOVA. For example, a parametric test can be used to determine if there is a significant difference in the mean weight of two groups of people.\n",
    "\n",
    "    b. Non-Parametric Tests: Non-Parametric tests are used when the data does not follow a normal distribution. Examples of non-parametric tests include the Wilcoxon rank-sum test and the Kruskal-Wallis test. For example, a non-parametric test can be used to determine if there is a significant difference in the median income of two cities.\n",
    "\n",
    "In summary, Descriptive Statistics are used to summarize and describe a data set, while Inferential Statistics are used to make inferences about a population based on a sample of data."
   ]
  },
  {
   "cell_type": "markdown",
   "id": "3b739438-75c5-4077-9140-51112480d729",
   "metadata": {},
   "source": [
    "### --------------------------------------------------------------------------------------"
   ]
  },
  {
   "cell_type": "markdown",
   "id": "25ee0e54-7a9d-4980-9996-de919fb69c14",
   "metadata": {},
   "source": [
    "#### Q3. What are the different types of data and how do they differ from each other? Provide an example of\n",
    "#### each type of data."
   ]
  },
  {
   "cell_type": "markdown",
   "id": "032efed9-bc28-4628-b541-7ba9b42ae4a2",
   "metadata": {},
   "source": [
    "Ans -> Data is boradly divided into two types - \n",
    "   1. Qualitative( Numerical data) - These kind of data are further divided into discrete or continious data. Example of discrete data are number of credit card user onboarded by a bank in a day and example of continious data is height of students in a class.\n",
    "   \n",
    "   2. Quantitative(Categorical data) - These kind of data are further divided into normial or ordinal data.In nominal data categories does not have any rank or order while in ordinal data the categories have defined rank or order. Example of nomial data is blood group or color and type of ordinal data is reviews/rating data."
   ]
  },
  {
   "cell_type": "markdown",
   "id": "51517f87-23ff-4abe-b91e-50235da62783",
   "metadata": {},
   "source": [
    "### --------------------------------------------------------------------------------------"
   ]
  },
  {
   "cell_type": "markdown",
   "id": "75c1e81e-0c3a-49f5-8949-170bb12937ea",
   "metadata": {},
   "source": [
    "#### Q4. Categorise the following datasets with respect to quantitative and qualitative data types:\n",
    "#### (i) Grading in exam: A+, A, B+, B, C+, C, D, E\n",
    "#### (ii) Colour of mangoes: yellow, green, orange, red\n",
    "#### (iii) Height data of a class: [178.9, 179, 179.5, 176, 177.2, 178.3, 175.8,...]\n",
    "#### (iv) Number of mangoes exported by a farm: [500, 600, 478, 672, ...]"
   ]
  },
  {
   "cell_type": "markdown",
   "id": "1abf740a-c899-48d1-bf3d-fb97153c1908",
   "metadata": {},
   "source": [
    "Ans -> \n",
    "\n",
    "         i) Grading in exam: A+, A, B+, B, C+, C, D, E    -----> Qualitative ordinal data type.\n",
    "\n",
    "        ii) Colour of mangoes: yellow, green, orange, red   -----> Qualitative nominal data type.\n",
    "          \n",
    "        iii) Height data of a class: [178.9, 179, 179.5, 176, 177.2, 178.3, 175.8,...]     -------> Quantitative continious data.\n",
    "        \n",
    "        iv) Number of mangoes exported by a farm: [500, 600, 478, 672, ...]    ---------> Qualitative discrete data.\n",
    "          \n",
    "          "
   ]
  },
  {
   "cell_type": "markdown",
   "id": "72bfedd7-fba8-4a75-b61f-c89cbdd65143",
   "metadata": {},
   "source": [
    "### --------------------------------------------------------------------------------------"
   ]
  },
  {
   "cell_type": "markdown",
   "id": "e1b59695-c34d-430b-9e44-f08cc5c24700",
   "metadata": {},
   "source": [
    "#### Q5. Explain the concept of levels of measurement and give an example of a variable for each level."
   ]
  },
  {
   "cell_type": "markdown",
   "id": "3723ff34-a229-4278-aeca-60fbb5ec1236",
   "metadata": {},
   "source": [
    "Ans -> Levels of measurement, also known as scales of measurement, refer to the different ways in which variables can be measured and categorized in statistics. There are four main levels of measurement: nominal, ordinal, interval, and ratio.\n",
    "\n",
    "Nominal Level of Measurement: Nominal level variables are categorical variables that do not have a specific order or ranking. They can be classified into distinct categories that are not related to each other. Examples of nominal level variables include gender (male/female), eye color (brown, blue, green), and country of origin.\n",
    "\n",
    "Ordinal Level of Measurement: Ordinal level variables are categorical variables that have a specific order or ranking. They can be ranked in order from least to greatest or vice versa, but the differences between the categories are not equal. Examples of ordinal level variables include education level (high school, associate's degree, bachelor's degree), socioeconomic status (low, middle, high), and level of satisfaction (poor, fair, good, excellent).\n",
    "\n",
    "Interval Level of Measurement: Interval level variables are numerical variables where the differences between the values can be calculated, but there is no true zero point. Examples of interval level variables include temperature (measured in Celsius or Fahrenheit), IQ scores, and calendar years.\n",
    "\n",
    "Ratio Level of Measurement: Ratio level variables are numerical variables where the differences between the values can be calculated  and there is a true zero point. This means that ratios between values are meaningful. Examples of ratio level variables include height, weight, distance, and time."
   ]
  },
  {
   "cell_type": "markdown",
   "id": "2c128d28-b1bb-4071-b526-2697225ec33c",
   "metadata": {},
   "source": [
    "### --------------------------------------------------------------------------------------"
   ]
  },
  {
   "cell_type": "markdown",
   "id": "9f5078f1-9246-44a3-bae3-73e679d4a1b6",
   "metadata": {},
   "source": [
    "#### Q6. Why is it important to understand the level of measurement when analyzing data? Provide an\n",
    "#### example to illustrate your answer."
   ]
  },
  {
   "cell_type": "markdown",
   "id": "1b3af616-930e-4273-8528-8463808518a4",
   "metadata": {},
   "source": [
    "Ans -> Understanding the level of measurement is important when analyzing data because it affects the types of statistical tests and analyses that can be used to draw conclusions from the data. Different levels of measurement have different properties and require different methods of analysis.\n",
    "\n",
    "For example, nominal level data cannot be used with numerical calculations, but it can be analyzed using measures of frequency and percentages. Ordinal level data can be ranked but not measured precisely, so it can be analyzed using non-parametric tests like the Wilcoxon signed-rank test or Spearman's rank correlation coefficient. Interval and ratio level data can be analyzed using parametric tests like t-tests and ANOVA, which assume a normal distribution.\n",
    "\n",
    "If the level of measurement is not taken into account when analyzing the data, it can lead to inappropriate conclusions and inaccurate interpretations. For example, if nominal data is treated as interval data, statistical tests may produce meaningless results because there is no meaningful way to calculate means or variances with nominal data.\n",
    "\n",
    "In conclusion, understanding the level of measurement is important in data analysis because it affects the statistical methods that can be used and ensures that appropriate tests and analyses are applied to the data."
   ]
  },
  {
   "cell_type": "markdown",
   "id": "6fafbc97-a89c-4772-8c86-bff2ca9deaaf",
   "metadata": {},
   "source": [
    "### --------------------------------------------------------------------------------------"
   ]
  },
  {
   "cell_type": "markdown",
   "id": "abb3b5ea-3b36-4cfb-a225-8a259613a38a",
   "metadata": {},
   "source": [
    "#### Q7. How nominal data type is different from ordinal data type."
   ]
  },
  {
   "cell_type": "markdown",
   "id": "1569877d-bd0a-4ad3-9d0a-8e0b7fb2f476",
   "metadata": {},
   "source": [
    "Ans -> Nominal data and ordinal data are two types of categorical data that differ in the level of measurement and the nature of the values they represent.\n",
    "\n",
    "Nominal Data: Nominal data is a type of categorical data that represents discrete categories or labels without any order or ranking. The values in nominal data cannot be measured or ranked in any meaningful way. Examples of nominal data include gender (male/female), race (Caucasian, African American, Asian, etc.), and political affiliation (Republican, Democrat, Independent).\n",
    "\n",
    "Ordinal Data: Ordinal data is a type of categorical data that represents discrete categories or labels with a specific order or ranking. The values in ordinal data can be measured or ranked in a meaningful way, but the difference between the values is not known. Examples of ordinal data include education level (high school, associate's degree, bachelor's degree, etc.), income level (low, medium, high), and customer satisfaction rating (poor, fair, good, excellent).\n",
    "\n",
    "The key difference between nominal data and ordinal data is the presence or absence of an order or ranking among the values. In nominal data, the values are just categories or labels with no specific order, whereas in ordinal data, the values have a specific order or ranking."
   ]
  },
  {
   "cell_type": "markdown",
   "id": "ca2b3f6a-ad37-44fb-8c3b-c3f86e925160",
   "metadata": {},
   "source": [
    "### --------------------------------------------------------------------------------------"
   ]
  },
  {
   "cell_type": "markdown",
   "id": "58665348-9eca-49c3-8c01-c90e029c29bf",
   "metadata": {},
   "source": [
    "#### Q8. Which type of plot can be used to display data in terms of range?"
   ]
  },
  {
   "cell_type": "markdown",
   "id": "9c2de0ae-67c9-40ec-bd83-00a0b4fed723",
   "metadata": {},
   "source": [
    "Ans -> A box plot, also known as a box-and-whisker plot, is a type of plot that can be used to display data in terms of range. Box plots provide a visual representation of the distribution of a dataset by showing the median, quartiles, and outliers.\n",
    "\n",
    "The box in a box plot represents the middle 50% of the data, with the median indicated by a line within the box. The bottom and top of the box represent the first and third quartiles, respectively, and the whiskers extend from the box to the minimum and maximum values in the data that are not considered outliers.\n",
    "\n",
    "Box plots are useful for comparing the range and distribution of data across different categories or groups. They can also help identify potential outliers or skewness in the data.\n",
    "\n",
    "For example, a box plot could be used to display the range of test scores for different classes in a school. The box plot would show the median, quartiles, and outliers for each class, allowing for easy comparison of the range and distribution of scores across the different classes. "
   ]
  },
  {
   "cell_type": "markdown",
   "id": "bf0ca1c2-bd32-4ed3-8c77-c3f844115f89",
   "metadata": {},
   "source": [
    "### --------------------------------------------------------------------------------------"
   ]
  },
  {
   "cell_type": "markdown",
   "id": "8a4a2477-d254-422f-8b09-f98f4ddc5ce8",
   "metadata": {},
   "source": [
    "#### Q9. Describe the difference between descriptive and inferential statistics. Give an example of each\n",
    "#### type of statistics and explain how they are used."
   ]
  },
  {
   "cell_type": "markdown",
   "id": "b5eda80d-2348-46c5-b185-fd6b77209e79",
   "metadata": {},
   "source": [
    "Ans -> Descriptive Statistics refers to the techniques used to describe and summarize a set of data. It is used to analyze and describe the characteristics of a data set. Mean while Inferential Statistics is used to make inferences or draw conclusions about a population based on a sample of data. It is used to test hypotheses and make predictions. Example of descriptive statistics is analyzing the performance of a class in a test by finding out the measure of central tendencies or varaibilities.Example of Inferential statistics are exit polls that helps in finding out which party is winning an election based on the data of small sample of population."
   ]
  },
  {
   "cell_type": "markdown",
   "id": "012baf2d-d21e-48c8-9c59-20c706186976",
   "metadata": {},
   "source": [
    "### --------------------------------------------------------------------------------------"
   ]
  },
  {
   "cell_type": "markdown",
   "id": "5c44f99b-06f2-4851-b9e1-9d769b0a38d9",
   "metadata": {},
   "source": [
    "#### Q10. What are some common measures of central tendency and variability used in statistics? Explain\n",
    "#### how each measure can be used to describe a dataset."
   ]
  },
  {
   "cell_type": "markdown",
   "id": "a62a145e-4f1b-4fd2-b0ac-c132392e3dd3",
   "metadata": {},
   "source": [
    "Ans -> Measures of central tendency and variability are important in statistics because they provide a summary of the data and help us to understand its distribution.\n",
    "\n",
    "   - Measures of Central Tendency: \n",
    "\n",
    "Measures of central tendency are used to describe the central or typical value of a dataset. Some common measures of central tendency include:\n",
    "\n",
    "Mean: The mean is the arithmetic average of a set of values. It is calculated by summing all the values and dividing by the total number of values. The mean can be used to describe the typical value of a dataset, assuming the data is normally distributed.\n",
    "\n",
    "Median: The median is the middle value in a sorted dataset. It is useful for describing the typical value of a dataset when the data is skewed or has extreme values that could distort the mean.\n",
    "\n",
    "Mode: The mode is the most common value in a dataset. It is useful for describing the most frequent value or category in a dataset.\n",
    "\n",
    "   - Measures of Variability:\n",
    "\n",
    "Measures of variability are used to describe the spread or dispersion of a dataset. Some common measures of variability include:\n",
    "\n",
    "Range: The range is the difference between the maximum and minimum values in a dataset. It is useful for describing the spread of a dataset, but can be influenced by extreme values.\n",
    "\n",
    "Variance: The variance is a measure of the average distance of the values in a dataset from the mean. It is calculated by taking the squared difference between each value and the mean, and then dividing by the total number of values. A higher variance indicates a greater spread of the data.\n",
    "\n",
    "Standard Deviation: The standard deviation is the square root of the variance. It is a more commonly used measure of variability than variance because it is easier to interpret. A higher standard deviation indicates a greater spread of the data.\n",
    "\n",
    "These measures can be used together to provide a complete description of a dataset. For example, the mean and standard deviation can be used to describe the typical value and spread of a normally distributed dataset, while the median and range can be used to describe the typical value and spread of a skewed dataset."
   ]
  }
 ],
 "metadata": {
  "kernelspec": {
   "display_name": "Python 3 (ipykernel)",
   "language": "python",
   "name": "python3"
  },
  "language_info": {
   "codemirror_mode": {
    "name": "ipython",
    "version": 3
   },
   "file_extension": ".py",
   "mimetype": "text/x-python",
   "name": "python",
   "nbconvert_exporter": "python",
   "pygments_lexer": "ipython3",
   "version": "3.10.8"
  }
 },
 "nbformat": 4,
 "nbformat_minor": 5
}
