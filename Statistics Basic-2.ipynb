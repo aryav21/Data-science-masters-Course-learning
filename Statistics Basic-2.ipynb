{
 "cells": [
  {
   "cell_type": "markdown",
   "id": "81c42fd8-43b4-4de8-9f00-bb32ce4d7bdd",
   "metadata": {},
   "source": [
    "## Statistics Basic-2"
   ]
  },
  {
   "cell_type": "markdown",
   "id": "9344e9bf-3901-4338-8361-32f57c8ad2cb",
   "metadata": {},
   "source": [
    "### --------------------------------------------------------------------------"
   ]
  },
  {
   "cell_type": "markdown",
   "id": "8f0309ae-3623-4f00-a7ce-129918f0f7f6",
   "metadata": {},
   "source": [
    "#### Q1. What are the three measures of central tendency?"
   ]
  },
  {
   "cell_type": "markdown",
   "id": "4f14f868-c0e0-4b5c-85e7-e78f33a07156",
   "metadata": {},
   "source": [
    "Ans -> Measures of central tendency are used to describe the central or typical value of a dataset. The three measures of central tendencies are:\n",
    "\n",
    "Mean: The mean is the arithmetic average of a set of values. It is calculated by summing all the values and dividing by the total number of values. The mean can be used to describe the typical value of a dataset, assuming the data is normally distributed.\n",
    "\n",
    "Median: The median is the middle value in a sorted dataset. It is useful for describing the typical value of a dataset when the data is skewed or has extreme values that could distort the mean.\n",
    "\n",
    "Mode: The mode is the most common value in a dataset. It is useful for describing the most frequent value or category in a dataset."
   ]
  },
  {
   "cell_type": "markdown",
   "id": "8330c2af-8050-4586-9b14-10448bc79eff",
   "metadata": {},
   "source": [
    "### --------------------------------------------------------------------------"
   ]
  },
  {
   "cell_type": "markdown",
   "id": "db284892-8c54-464d-8f5e-de6c0e3d0fb0",
   "metadata": {},
   "source": [
    "#### Q2. What is the difference between the mean, median, and mode? How are they used to measure the \n",
    "#### central tendency of a dataset?"
   ]
  },
  {
   "cell_type": "markdown",
   "id": "158ab3a1-02a5-4cdd-b8e8-ed154051c560",
   "metadata": {},
   "source": [
    "Ans -> The mean, median, and mode are three common measures of central tendency used to describe a dataset. They are used to summarize the \"center\" of a dataset, or the value around which the observations tend to cluster.\n",
    "\n",
    "The mean is the arithmetic average of a set of numbers. It is calculated by adding up all of the numbers in the dataset and dividing by the total number of observations. The mean can be influenced by extreme values, or outliers, in the dataset. For example, if we have the numbers 1, 2, 3, 4, and 100, the mean would be 22 because the extreme value of 100 greatly influences the average.\n",
    "\n",
    "The median is the middle value of a dataset when the observations are arranged in order from lowest to highest (or highest to lowest). It is less sensitive to extreme values compared to the mean. For example, if we have the numbers 1, 2, 3, 4, and 100, the median would be 3 because it is the middle value when the observations are arranged in order.\n",
    "\n",
    "The mode is the value that appears most frequently in a dataset. If there is no value that appears more frequently than others, then the dataset is said to have no mode. The mode can be used to describe the most common or typical observation in the dataset.\n",
    "\n",
    "All three measures of central tendency provide information about the center of a dataset, but they may be more or less appropriate depending on the distribution of the data. For example, the mean may be preferred when the data is normally distributed and there are no outliers, while the median may be preferred when the data is skewed or has outliers. The mode may be preferred for categorical data or when identifying the most common response in a survey."
   ]
  },
  {
   "cell_type": "markdown",
   "id": "0ae9d091-ac67-4083-b148-e98f97d921db",
   "metadata": {},
   "source": [
    "### --------------------------------------------------------------------------"
   ]
  },
  {
   "cell_type": "markdown",
   "id": "f3ba0a07-fd95-4834-9b69-84e8a826df6a",
   "metadata": {},
   "source": [
    "#### Q3. Measure the three measures of central tendency for the given height data:\n",
    "\n",
    "#### [178,177,176,177,178.2,178,175,179,180,175,178.9,176.2,177,172.5,178,176.5]"
   ]
  },
  {
   "cell_type": "code",
   "execution_count": 7,
   "id": "9dababb8-ce2d-42c4-ae97-bc543d7dc35e",
   "metadata": {},
   "outputs": [
    {
     "data": {
      "text/plain": [
       "(177.01875, 177.0)"
      ]
     },
     "execution_count": 7,
     "metadata": {},
     "output_type": "execute_result"
    }
   ],
   "source": [
    "import numpy as np\n",
    "\n",
    "l = [178,177,176,177,178.2,178,175,179,180,175,178.9,176.2,177,172.5,178,176.5]\n",
    "np.mean(l),np.median(l)\n"
   ]
  },
  {
   "cell_type": "code",
   "execution_count": 6,
   "id": "3c70b55a-e283-4594-9ac8-5e0b8ac4a3b4",
   "metadata": {},
   "outputs": [
    {
     "name": "stderr",
     "output_type": "stream",
     "text": [
      "/tmp/ipykernel_2954/570538748.py:2: FutureWarning: Unlike other reduction functions (e.g. `skew`, `kurtosis`), the default behavior of `mode` typically preserves the axis it acts along. In SciPy 1.11.0, this behavior will change: the default value of `keepdims` will become False, the `axis` over which the statistic is taken will be eliminated, and the value None will no longer be accepted. Set `keepdims` to True or False to avoid this warning.\n",
      "  stat.mode(l)\n"
     ]
    },
    {
     "data": {
      "text/plain": [
       "ModeResult(mode=array([177.]), count=array([3]))"
      ]
     },
     "execution_count": 6,
     "metadata": {},
     "output_type": "execute_result"
    }
   ],
   "source": [
    "import scipy.stats as stat\n",
    "stat.mode(l)"
   ]
  },
  {
   "cell_type": "markdown",
   "id": "df366908-86ff-4dfa-90aa-45d44f50cc83",
   "metadata": {},
   "source": [
    "### --------------------------------------------------------------------------"
   ]
  },
  {
   "cell_type": "markdown",
   "id": "8a152c33-80e8-4940-ab99-d2804d075237",
   "metadata": {},
   "source": [
    "#### Q4. Find the standard deviation for the given data:\n",
    "\n",
    "#### [178,177,176,177,178.2,178,175,179,180,175,178.9,176.2,177,172.5,178,176.5]"
   ]
  },
  {
   "cell_type": "code",
   "execution_count": 8,
   "id": "eafdc595-f6e9-4f22-89c4-5f1e3480b396",
   "metadata": {},
   "outputs": [
    {
     "data": {
      "text/plain": [
       "1.7885814036548633"
      ]
     },
     "execution_count": 8,
     "metadata": {},
     "output_type": "execute_result"
    }
   ],
   "source": [
    "import numpy as np\n",
    "\n",
    "l = [178,177,176,177,178.2,178,175,179,180,175,178.9,176.2,177,172.5,178,176.5]\n",
    "np.std(l)"
   ]
  },
  {
   "cell_type": "markdown",
   "id": "9e5815ec-f56b-422f-a5c8-824c936d12b2",
   "metadata": {},
   "source": [
    "### --------------------------------------------------------------------------"
   ]
  },
  {
   "cell_type": "markdown",
   "id": "66e33f6f-656c-4c61-8502-f143e697d269",
   "metadata": {},
   "source": [
    "#### Q5. How are measures of dispersion such as range, variance, and standard deviation used to describe \n",
    "#### the spread of a dataset? Provide an example."
   ]
  },
  {
   "cell_type": "markdown",
   "id": "89589cfc-9088-45b0-9492-72594df23218",
   "metadata": {},
   "source": [
    "Ans ->Measures of dispersion such as range, variance, and standard deviation are used to describe the spread of a dataset by measuring how much the data points vary or deviate from the central tendency, which is usually measured by the mean, median or mode. These measures provide information about the degree of variability in the data and help to identify the presence of outliers or extreme values.\n",
    "\n",
    "The range is the simplest measure of dispersion, which is the difference between the maximum and minimum values in the dataset. It provides an indication of the spread of the data but is sensitive to outliers and does not take into account the distribution of the data.\n",
    "\n",
    "Variance and standard deviation are more commonly used measures of dispersion, which take into account both the distance of each data point from the mean and the number of data points. The variance is calculated as the average of the squared deviations from the mean, while the standard deviation is the square root of the variance. These measures provide a more accurate estimate of the variability in the data and are less sensitive to outliers.\n",
    "\n",
    "For example, consider a dataset of the salaries of employees in a company. The salaries of ten employees are $30,000, $35,000, $40,000, $45,000, $50,000, $55,000, $60,000, $65,000, $70,000, and $75,000. The mean salary is $50,000. The range is $45,000, which is the difference between the highest and lowest salaries. The variance is 291,666.67, and the standard deviation is approximately $5398.04. These measures indicate that the salaries are relatively evenly distributed around the mean, with most salaries falling within one standard deviation of the mean."
   ]
  },
  {
   "cell_type": "markdown",
   "id": "c590df63-e9dd-4075-8b90-858606320924",
   "metadata": {},
   "source": [
    "### --------------------------------------------------------------------------"
   ]
  },
  {
   "cell_type": "markdown",
   "id": "5c562afa-fd6a-4115-9c22-89223d121600",
   "metadata": {},
   "source": [
    "#### Q6. What is a Venn diagram?"
   ]
  },
  {
   "cell_type": "markdown",
   "id": "a728f38d-e6b6-4848-a1db-33b98019b1af",
   "metadata": {},
   "source": [
    "Ans -> A Venn diagram is a graphical representation of the relationships between sets. It is a diagram made up of two or more overlapping circles, each representing a set or group. The overlapping parts of the circles show the common elements or attributes shared by the sets, while the non-overlapping parts represent the unique elements or attributes of each set.\n",
    "\n",
    "Venn diagrams are commonly used in mathematics, logic, and statistics to visualize the relationships between sets, to identify overlaps and intersections, and to understand the distribution of data. They are also used in problem-solving and decision-making, to identify areas of agreement or disagreement among different groups or stakeholders."
   ]
  },
  {
   "cell_type": "markdown",
   "id": "c63854ae-6d74-40f0-9827-8d3ec6106c91",
   "metadata": {},
   "source": [
    "### --------------------------------------------------------------------------"
   ]
  },
  {
   "cell_type": "markdown",
   "id": "c070572f-85f7-44a4-8081-7ac0d84f08a3",
   "metadata": {},
   "source": [
    "#### Q7. For the two given sets A = (2,3,4,5,6,7) & B = (0,2,6,8,10). Find:\n",
    "\n",
    "#### (i) \tA |''| B\n",
    "\n",
    "#### (ii)\tA ⋃ B"
   ]
  },
  {
   "cell_type": "code",
   "execution_count": 13,
   "id": "e5c648d8-de08-46f4-98b6-8f501a6c14a7",
   "metadata": {},
   "outputs": [
    {
     "name": "stdout",
     "output_type": "stream",
     "text": [
      "Union:  {0, 2, 3, 4, 5, 6, 7, 8, 10}\n",
      "Intersection:  {2, 6}\n"
     ]
    }
   ],
   "source": [
    "import numpy as np\n",
    "\n",
    "A = {2,3,4,5,6,7}\n",
    "B = {0,2,6,8,10}\n",
    "\n",
    "print('Union: ',A | B)\n",
    "print('Intersection: ', A & B)\n"
   ]
  },
  {
   "cell_type": "markdown",
   "id": "39ef35de-28cc-4e95-9264-e4314fad9b32",
   "metadata": {},
   "source": [
    "### --------------------------------------------------------------------------"
   ]
  },
  {
   "cell_type": "markdown",
   "id": "3732ef9c-c39e-49a8-af43-0dac51c1f704",
   "metadata": {},
   "source": [
    "#### Q8. What do you understand about skewness in data?"
   ]
  },
  {
   "cell_type": "markdown",
   "id": "5353a3f9-95c2-4537-9f5e-b0cc525318f1",
   "metadata": {},
   "source": [
    "Ans -> Skewness is a measure of the asymmetry of a distribution. It refers to the degree to which a dataset is not symmetrically distributed around its mean. If the data are symmetrically distributed, the mean, median, and mode are all equal. However, if the distribution is skewed, these measures will be different.\n",
    "\n",
    "If the tail of a distribution is longer on the left side, the distribution is said to be left-skewed or negatively skewed. This means that there are more observations with values above the mean than there are below it, and the mean will be less than the median. Conversely, if the tail of the distribution is longer on the right side, the distribution is said to be right-skewed or positively skewed. This means that there are more observations with values below the mean than there are above it, and the mean will be greater than the median.\n",
    "\n",
    "Skewness can have an impact on statistical analyses, as it can affect the assumptions of certain tests and models. For example, some statistical tests assume that the data are normally distributed, which means that they are symmetric and have zero skewness. If the data are skewed, it may be necessary to transform the data or use nonparametric tests instead. It is therefore important to check for skewness when analyzing data and to choose appropriate methods based on the distribution of the data."
   ]
  },
  {
   "cell_type": "markdown",
   "id": "8e01dda4-4624-4e80-a00c-94890da469d6",
   "metadata": {},
   "source": [
    "### --------------------------------------------------------------------------"
   ]
  },
  {
   "cell_type": "markdown",
   "id": "9e26a457-2e23-46a3-9b01-5125d076bc1a",
   "metadata": {},
   "source": [
    "#### Q9. If a data is right skewed then what will be the position of median with respect to mean"
   ]
  },
  {
   "cell_type": "markdown",
   "id": "ba47ef0d-1898-463f-9894-c9f29400ad39",
   "metadata": {},
   "source": [
    "Ans-> For right skewed data : mean>median>mode"
   ]
  },
  {
   "cell_type": "markdown",
   "id": "d067a451-fd89-45b9-96df-0867af39b7cf",
   "metadata": {},
   "source": [
    "### --------------------------------------------------------------------------"
   ]
  },
  {
   "cell_type": "markdown",
   "id": "c5d9088a-b1da-4058-9d68-175a94cdcbc1",
   "metadata": {},
   "source": [
    "#### Q10. Explain the difference between covariance and correlation. How are these measures used in \n",
    "#### statistical analysis?"
   ]
  },
  {
   "cell_type": "markdown",
   "id": "b9cb62b9-406e-4fc6-94f1-9eea2c3bb8df",
   "metadata": {},
   "source": [
    "Ans ->  Covariance and correlation are both measures of the relationship between two variables, but they differ in their scale and interpretation.\n",
    "\n",
    "Covariance measures the direction and strength of the linear relationship between two variables. It measures how much two variables vary together,The formula for the sample covariance between two variables X and Y with n data points is:\n",
    "\n",
    "cov(X, Y) = Σ[(Xi - X̄)(Yi - Ȳ)] / (n - 1)\n",
    "\n",
    "where Xi and Yi are the ith observations of X an\n",
    "d Y, X̄ and Ȳ are the sample means of X and Y, and n is the number of data points.\n",
    "\n",
    "The sign of the covariance indicates the direction of the relationship, where positive values indicate a positive relationship (i.e., as one variable increases, the other variable also tends to increase) and negative values indicate a negative relationship (i.e., as one variable increases, the other variable tends to decrease). However, the magnitude of the covariance is affected by the scale of the variables, which can make it difficult to interpret.\n",
    "\n",
    "Correlation, on the other hand, is a standardized version of covariance that is not affected by the scale of the variables. Correlation measures the strength and direction of the linear relationship between two variables on a scale from -1 to 1, where -1 indicates a perfect negative correlation, 0 indicates no correlation, and 1 indicates a perfect positive correlation. The formula for the sample correlation coefficient between two variables X and Y with n data points is:\n",
    "\n",
    "r(X, Y) = cov(X, Y) / (sX * sY)\n",
    "\n",
    "where cov(X, Y) is the sample covariance between X and Y, and sX and sY are the sample standard deviations of X and Y.\n",
    "\n",
    "Correlation is a more interpretable measure of the strength of the relationship between two variables because it is on a standardized scale. Additionally, correlation can indicate the direction of a relationship, where a negative correlation indicates an inverse relationship (i.e., as one variable increases, the other variable tends to decrease), and a positive correlation indicates a direct relationship (i.e., as one variable increases, the other variable also tends to increase).\n",
    "\n",
    "In summary, covariance measures the direction and strength of the linear relationship between two variables, while correlation measures the strength and direction of the linear relationship between two variables on a standardized scale.\n",
    "\n",
    "Covariance and correlation measures are commonly used in statistical analysis to understand the relationship between two variables. They provide valuable information about the direction and strength of the relationship, which can be used to guide further analysis or inform decision making.\n",
    "\n",
    "In exploratory data analysis, covariance and correlation can be used to identify possible relationships between variables. For example, if there is a strong positive correlation between two variables, it may suggest that there is a direct relationship between them, and further investigation may be warranted to understand this relationship.\n",
    "\n",
    "Covariance and correlation are also used in regression analysis to determine the strength of the relationship between a dependent variable and one or more independent variables. In regression analysis, the covariance between the dependent variable and independent variable(s) is used to estimate the slope of the regression line, which represents the relationship between the variables. Additionally, the correlation coefficient is used to measure the strength and direction of the relationship, and to check assumptions about the model."
   ]
  },
  {
   "cell_type": "markdown",
   "id": "f7a07a86-8684-4ba4-b98b-0af9f762c7fa",
   "metadata": {},
   "source": [
    "### --------------------------------------------------------------------------"
   ]
  },
  {
   "cell_type": "markdown",
   "id": "7bba199e-7523-43aa-a737-54c4cc4fec08",
   "metadata": {},
   "source": [
    "#### Q11. What is the formula for calculating the sample mean? Provide an example calculation for a \n",
    "#### dataset"
   ]
  },
  {
   "cell_type": "markdown",
   "id": "aaad268f-cd63-4b9e-9b7b-f47ffd1cbb34",
   "metadata": {},
   "source": [
    "Ans -> The formula for calculating the sample mean is:\n",
    "\n",
    "sample mean = (sum of all values in the sample) / (number of values in the sample)\n",
    "\n",
    "In mathematical notation:\n",
    "\n",
    "x̄ = Σx / n\n",
    "\n",
    "where x̄ is the sample mean, Σx is the sum of all values in the sample, and n is the number of values in the sample."
   ]
  },
  {
   "cell_type": "code",
   "execution_count": 1,
   "id": "49a0bbdd-67bd-4483-b014-4cf55c8dfd28",
   "metadata": {},
   "outputs": [
    {
     "data": {
      "text/plain": [
       "61.625"
      ]
     },
     "execution_count": 1,
     "metadata": {},
     "output_type": "execute_result"
    }
   ],
   "source": [
    "import numpy as np\n",
    "\n",
    "sample = [45,94,49,66,33,77,59,70]\n",
    "np.mean(sample)"
   ]
  },
  {
   "cell_type": "markdown",
   "id": "abf7ab30-6de0-4368-b99e-e7a99084270b",
   "metadata": {},
   "source": [
    "### --------------------------------------------------------------------------"
   ]
  },
  {
   "cell_type": "markdown",
   "id": "b15079ac-e5d6-414f-b7a4-81f68921602e",
   "metadata": {},
   "source": [
    "#### Q12. For a normal distribution data what is the relationship between its measure of central tendency"
   ]
  },
  {
   "cell_type": "markdown",
   "id": "eba6ae72-c43f-477c-9988-730453208a3e",
   "metadata": {},
   "source": [
    "Ans ->In a normal distribution, the mean, median, and mode are equal, and they are all located at the center of the distribution. This is because the normal distribution is a symmetric distribution where the data is evenly distributed on both sides of the mean."
   ]
  },
  {
   "cell_type": "markdown",
   "id": "25d62481-1093-42f6-b417-09589e19733d",
   "metadata": {},
   "source": [
    "### --------------------------------------------------------------------------"
   ]
  },
  {
   "cell_type": "markdown",
   "id": "77336c7e-d1bc-48e3-a5c2-e297ada141f4",
   "metadata": {},
   "source": [
    "#### Q13. How is covariance different from correlation"
   ]
  },
  {
   "cell_type": "markdown",
   "id": "0db56467-fff1-4143-ad5f-f536fbaa5ea3",
   "metadata": {},
   "source": [
    "Ans -> Covariance and correlation are both measures of the relationship between two variables, but they differ in their scale and interpretation.\n",
    "\n",
    "Covariance measures the direction and strength of the linear relationship between two variables. It measures how much two variables vary together,The formula for the sample covariance between two variables X and Y with n data points is:\n",
    "\n",
    "cov(X, Y) = Σ[(Xi - X̄)(Yi - Ȳ)] / (n - 1)\n",
    "\n",
    "where Xi and Yi are the ith observations of X and Y, X̄ and Ȳ are the sample means of X and Y, and n is the number of data points.\n",
    "\n",
    "The sign of the covariance indicates the direction of the relationship, where positive values indicate a positive relationship (i.e., as one variable increases, the other variable also tends to increase) and negative values indicate a negative relationship (i.e., as one variable increases, the other variable tends to decrease). However, the magnitude of the covariance is affected by the scale of the variables, which can make it difficult to interpret.\n",
    "\n",
    "Correlation, on the other hand, is a standardized version of covariance that is not affected by the scale of the variables. Correlation measures the strength and direction of the linear relationship between two variables on a scale from -1 to 1, where -1 indicates a perfect negative correlation, 0 indicates no correlation, and 1 indicates a perfect positive correlation. The formula for the sample correlation coefficient between two variables X and Y with n data points is:\n",
    "\n",
    "r(X, Y) = cov(X, Y) / (sX * sY)\n",
    "\n",
    "where cov(X, Y) is the sample covariance between X and Y, and sX and sY are the sample standard deviations of X and Y.\n",
    "\n",
    "Correlation is a more interpretable measure of the strength of the relationship between two variables because it is on a standardized scale. Additionally, correlation can indicate the direction of a relationship, where a negative correlation indicates an inverse relationship (i.e., as one variable increases, the other variable tends to decrease), and a positive correlation indicates a direct relationship (i.e., as one variable increases, the other variable also tends to increase).\n",
    "\n",
    "In summary, covariance measures the direction and strength of the linear relationship between two variables, while correlation measures the strength and direction of the linear relationship between two variables on a standardized scale."
   ]
  },
  {
   "cell_type": "markdown",
   "id": "439a971c-73ae-4a47-b87f-e759404d1214",
   "metadata": {},
   "source": [
    "### --------------------------------------------------------------------------"
   ]
  },
  {
   "cell_type": "markdown",
   "id": "3b8c7407-f6e5-4a1f-b64e-cabcde00fbe4",
   "metadata": {},
   "source": [
    "#### Q14. How do outliers affect measures of central tendency and dispersion? Provide an example"
   ]
  },
  {
   "cell_type": "markdown",
   "id": "2f799447-6402-4d94-bc42-ea51153c5ebf",
   "metadata": {},
   "source": [
    "Ans -> Outliers are data points that are significantly different from the rest of the data in a dataset. They can have a significant impact on measures of central tendency and dispersion.\n",
    "\n",
    "In terms of measures of central tendency, outliers can skew the mean towards their direction. For example, if we have a dataset of incomes that includes a very high income outlier, then the mean income of the dataset will be pulled towards the high-income outlier, making it a less accurate representation of the typical income in the dataset. The median and mode, however, are less sensitive to outliers and may provide a better estimate of the typical income.\n",
    "\n",
    "In terms of measures of dispersion, outliers can increase the range of the data, making it seem more spread out than it really is. Additionally, outliers can increase the variance and standard deviation of the data, since these measures are sensitive to extreme values that are far from the mean. For example, suppose we have a dataset of test scores for a class of students. Most students scored in the range of 60-90, but one student scored a 10. This outlier will increase the range of the dataset and also increase the variance and standard deviation, making it seem like the class had more variation in test scores than they really did.\n",
    "\n",
    "Example:\n",
    "\n",
    "Suppose we have a dataset of the ages of a group of people, and the dataset is: 20, 25, 26, 27, 28, 29, 30, 32, 35, 70. The mean age is 33.2, the median age is 28, and the mode is not applicable because there are no repeating values. The presence of the outlier (age 70) has pulled the mean age up significantly higher than the median age, indicating that the mean may not be the best representation of the central tendency of this dataset.\n",
    "\n",
    "Furthermore, the standard deviation of the dataset is 17.56, which is quite high and suggests a large amount of variation in ages. However, if we remove the outlier, the standard deviation drops to 5.98, which is much lower and suggests less variation in the ages. Therefore, the presence of the outlier has significantly affected both the measure of central tendency and dispersion of the dataset."
   ]
  }
 ],
 "metadata": {
  "kernelspec": {
   "display_name": "Python 3 (ipykernel)",
   "language": "python",
   "name": "python3"
  },
  "language_info": {
   "codemirror_mode": {
    "name": "ipython",
    "version": 3
   },
   "file_extension": ".py",
   "mimetype": "text/x-python",
   "name": "python",
   "nbconvert_exporter": "python",
   "pygments_lexer": "ipython3",
   "version": "3.10.8"
  }
 },
 "nbformat": 4,
 "nbformat_minor": 5
}
