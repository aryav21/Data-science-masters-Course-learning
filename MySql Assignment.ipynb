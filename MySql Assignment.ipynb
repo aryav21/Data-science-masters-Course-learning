{
 "cells": [
  {
   "cell_type": "markdown",
   "id": "3b6892a4-9e86-438a-b783-0fd2fefc89ad",
   "metadata": {},
   "source": [
    "## MySql Assignment"
   ]
  },
  {
   "cell_type": "markdown",
   "id": "1dcb6700-b386-417e-901f-c7eacec42f80",
   "metadata": {},
   "source": [
    "### --------------------------------------------------------------------------------"
   ]
  },
  {
   "cell_type": "markdown",
   "id": "548d744f-0c0e-4a16-8e21-d78df14d5c84",
   "metadata": {},
   "source": [
    "#### Q1. What is a database? Differentiate between SQL and NoSQL databases."
   ]
  },
  {
   "cell_type": "markdown",
   "id": "02575a2a-9b94-4a25-bfa7-f197a20688fa",
   "metadata": {},
   "source": [
    "Ans -> A database is information that is set up for easy access, management and updating. Computer databases typically store aggregations of data records or files that contain information, such as sales transactions, customer data, financials and product information.Databases are used for storing, maintaining and accessing any sort of data.\n",
    "\n",
    "Differnce betwenn SQL and NoSQL is as follows:\n",
    "\n",
    " - Databases are categorized as Relational Database Management System (RDBMS).\tNoSQL databases are categorized as Non-relational or distributed database system.\n",
    " - SQL databases have fixed or static or predefined schema.\tNoSQL databases have dynamic schema.\n",
    " - SQL databases display data in form of tables so it is known as table-based database.\tNoSQL databases display data as collection of key-value pair, documents, graph databases or wide-column stores.\n",
    "- SQL databases are vertically scalable.\tNoSQL databases are horizontally scalable.\n",
    "- SQL databases use a powerful language \"Structured Query Language\" to define and manipulate the data.\tIn NoSQL databases, collection of documents are used to query the data. It is also called unstructured query language. It varies from database to database.\n",
    "- SQL databases are best suited for complex queries.\tNoSQL databases are not so good for complex queries because these are not as powerful as SQL queries.\n",
    " - SQL databases are not best suited for hierarchical data storage.\tNoSQL databases are best suited for hierarchical data storage.\n",
    " - MySQL, Oracle, Sqlite, PostgreSQL and MS-SQL etc. are the example of SQL database.\tMongoDB, BigTable, Redis, RavenDB, Cassandra, Hbase, Neo4j, CouchDB etc. are the example of nosql database"
   ]
  },
  {
   "cell_type": "markdown",
   "id": "a2abbb47-67a9-4c0e-9936-a7a819168db6",
   "metadata": {},
   "source": [
    "### --------------------------------------------------------------------------------"
   ]
  },
  {
   "cell_type": "markdown",
   "id": "d3991423-0198-4e4f-94a7-98afe82f35d7",
   "metadata": {},
   "source": [
    "#### Q2. What is DDL? Explain why CREATE, DROP, ALTER, and TRUNCATE are used with an example."
   ]
  },
  {
   "cell_type": "markdown",
   "id": "f98cc250-af50-491c-9495-cbed24cdb534",
   "metadata": {},
   "source": [
    "Ans -> DDL or Data Definition Language actually consists of the SQL commands that can be used to define the database schema. It simply deals with descriptions of the database schema and is used to create and modify the structure of database objects in the database. DDL is a set of SQL commands used to create, modify, and delete database structures but not data. These commands are normally not used by a general user, who should be accessing the database via an application."
   ]
  },
  {
   "cell_type": "markdown",
   "id": "cb50836e-73b3-4111-aa53-a748084737b4",
   "metadata": {},
   "source": [
    " - CREATE: This command is used to create the database or its objects (like table, index, function, views, store procedure, and triggers)."
   ]
  },
  {
   "cell_type": "code",
   "execution_count": null,
   "id": "2a110e4c-c715-4316-9ac1-ea6ea6f7f520",
   "metadata": {},
   "outputs": [],
   "source": [
    " # Example\n",
    "        - create DATABASE CBS\n",
    "        - create table NPS.studentsmaster(Rollno varchar(50) NOT NULL PRIMARY KEY , Name varchar(50) , Class varchar(20))"
   ]
  },
  {
   "cell_type": "markdown",
   "id": "0e29ed93-e668-4b29-9bf3-60b137624772",
   "metadata": {},
   "source": [
    " -  DROP: This command is used to delete objects from the database. It can be used  to delete a whole database or just a table."
   ]
  },
  {
   "cell_type": "code",
   "execution_count": null,
   "id": "35cf154f-4b30-49c5-b443-07c5d74af420",
   "metadata": {},
   "outputs": [],
   "source": [
    "  # Example\n",
    "        - DROP TABLE table_name\n",
    "        - DROP DATABASE database_name"
   ]
  },
  {
   "cell_type": "markdown",
   "id": "6c758e3c-6d0a-4b0b-8cec-c82edce8ed3c",
   "metadata": {},
   "source": [
    " - TRUNCATE: This command is used to delete all the rows or tuples from a table. Unlike the DELETE command, the TRUNCATE command does not contain a WHERE clause. "
   ]
  },
  {
   "cell_type": "code",
   "execution_count": null,
   "id": "9e4bfcb0-63f1-49ab-b7ce-51bfbacf5ae8",
   "metadata": {},
   "outputs": [],
   "source": [
    " # Example \n",
    "        - TRUNCATE TABLE TableName"
   ]
  },
  {
   "cell_type": "markdown",
   "id": "5ec16ce9-f54f-4127-827a-c65d0fdb04d8",
   "metadata": {},
   "source": [
    " - Diffrence between ALTER and DROP"
   ]
  },
  {
   "cell_type": "markdown",
   "id": "c5512bc6-6812-4971-a537-dc6830742f04",
   "metadata": {},
   "source": [
    "  1. Truncate is normally ultra-fast and its ideal for deleting data from a temporary table.\n",
    "  2. Truncate preserves the structure of the table for future use, unlike drop table where the table is deleted with its full structure.\n",
    "  3. Table or Database deletion using DROP statement cannot be rolled back, so it must be used wisely."
   ]
  },
  {
   "cell_type": "markdown",
   "id": "2d22e370-eb43-424f-9454-995d748569f9",
   "metadata": {},
   "source": [
    " - ALTER: The statement changes the structure or schema of an already created database table by adding or removing one or more columns. The ALTER statement can be used to change several other attributes of the tables such as the name of the table and name of the columns.The ALTER also adds or removes one or more constraints and indexes as well."
   ]
  },
  {
   "cell_type": "code",
   "execution_count": null,
   "id": "742935dd-da3f-4407-b48b-b4e2773ea5c9",
   "metadata": {},
   "outputs": [],
   "source": [
    " # Example:\n",
    "        - ALTER TABLE table_name ADD new_column_name column_definition [FIRST | AFTER column_name]\n",
    "        - ALTER TABLE table_name DROP COLUMN column_name \n",
    "        - ALTER TABLE table_name MODIFY column_name column_definition [ FIRST | AFTER column_name ]"
   ]
  },
  {
   "cell_type": "markdown",
   "id": "28c8386b-cccd-402b-aec8-8fb36fcdd60e",
   "metadata": {},
   "source": [
    "### --------------------------------------------------------------------------------"
   ]
  },
  {
   "cell_type": "markdown",
   "id": "4c43745d-c0a1-46f3-a1bf-4c5f69793af5",
   "metadata": {},
   "source": [
    "#### Q3. What is DML? Explain INSERT, UPDATE, and DELETE with an example."
   ]
  },
  {
   "cell_type": "markdown",
   "id": "2f3e4b2b-4b94-4274-b671-eb2d01539cbb",
   "metadata": {},
   "source": [
    "Ans -> The SQL commands that deals with the manipulation of data present in the database belong to DML or Data Manipulation Language and this includes insert , update and delete statements"
   ]
  },
  {
   "cell_type": "markdown",
   "id": "8b40fef7-5814-45db-9fdc-f9fb66744395",
   "metadata": {},
   "source": [
    "##### Insert statement:"
   ]
  },
  {
   "cell_type": "code",
   "execution_count": null,
   "id": "25681505-c171-4671-be3d-312ec9ef666a",
   "metadata": {},
   "outputs": [],
   "source": [
    "import mysql.connector\n",
    "mydb = mysql.connector.connect(\n",
    "  host=\"localhost\",\n",
    "  user=\"abc\",\n",
    "  password=\"password\"\n",
    ")\n",
    "mycursor = mydb.cursor()\n",
    "mycursor.execute(\"insert into MANIT.studentsmaster values('181112003','Aryav Dubey','CSE')\")\n",
    "mycursor.execute(\"insert into MANIT.studentsmaster values('181112001','Rishab Jaiswal','CSE')\")\n",
    "mycursor.execute(\"insert into MANIT.studentsmaster values('181112002','Adite Khandelwal','CSE')\")\n",
    "mydb.commit()\n",
    "mydb.close()"
   ]
  },
  {
   "cell_type": "markdown",
   "id": "8d653ecc-d987-4b26-a168-2bf8b151b2a3",
   "metadata": {},
   "source": [
    "##### Update statement:"
   ]
  },
  {
   "cell_type": "code",
   "execution_count": null,
   "id": "3ebcc827-62a2-4764-a17b-508fa696b2fe",
   "metadata": {},
   "outputs": [],
   "source": [
    "import mysql.connector\n",
    "mydb = mysql.connector.connect(\n",
    "  host=\"localhost\",\n",
    "  user=\"abc\",\n",
    "  password=\"password\"\n",
    ")\n",
    "mycursor = mydb.cursor()\n",
    "mycursor.execute(\"update MANIT.studentsmaster set Branch = 'Mech' where name = 'Aryav Dubey'\")\n",
    "mydb.commit()\n",
    "mydb.close()"
   ]
  },
  {
   "cell_type": "markdown",
   "id": "9bafd5fc-fbf0-4897-92f8-dd61ff2e6658",
   "metadata": {},
   "source": [
    "##### Delete statement:"
   ]
  },
  {
   "cell_type": "code",
   "execution_count": null,
   "id": "5c90d779-19f4-486b-9dc9-4858f0cb50bb",
   "metadata": {},
   "outputs": [],
   "source": [
    "import mysql.connector\n",
    "mydb = mysql.connector.connect(\n",
    "  host=\"localhost\",\n",
    "  user=\"abc\",\n",
    "  password=\"password\"\n",
    ")\n",
    "mycursor = mydb.cursor()\n",
    "sql = \"DELETE FROM MANIT.studentsmaster WHERE Rollno = '181112003'\"\n",
    "mycursor.execute(sql)\n",
    "mydb.commit()\n",
    "print(mycursor.rowcount, \"record(s) deleted\")\n",
    "mydb.close()"
   ]
  },
  {
   "cell_type": "markdown",
   "id": "7374fa1e-2773-4394-9185-31c846467003",
   "metadata": {},
   "source": [
    "### --------------------------------------------------------------------------------"
   ]
  },
  {
   "cell_type": "markdown",
   "id": "f1f52f3f-66f6-4894-a75e-cf65cdd7dcc3",
   "metadata": {},
   "source": [
    "#### Q4.What is DQL? Explain SELECT with an example."
   ]
  },
  {
   "cell_type": "markdown",
   "id": "68e0d94c-6278-4117-8a6f-599ab54f5cc2",
   "metadata": {},
   "source": [
    "Ans -> Data query language (DQL) is a component of SQL statement that allows getting data from the database and imposing order upon it. It includes the SELECT statement. This command allows getting the data out of the database to perform operations with it. When a SELECT is fired against a table or tables the result is compiled into a further temporary table, which is displayed or perhaps received by the program i.e. a front-end. In python we use fetchall() which is one of the method of cursor object which fetches all rows from the last executed statement."
   ]
  },
  {
   "cell_type": "code",
   "execution_count": null,
   "id": "ff8d4778-4452-4709-a712-2535a535341b",
   "metadata": {},
   "outputs": [],
   "source": [
    "import mysql.connector\n",
    "mydb = mysql.connector.connect(\n",
    "  host=\"localhost\",\n",
    "  user=\"abc\",\n",
    "  password=\"password\"\n",
    ")\n",
    "print(mydb)\n",
    "mycursor = mydb.cursor()\n",
    "mycursor.execute(\"select * from MANIT.studentsmaster\")\n",
    "for i in mycursor.fetchall():\n",
    "    print(i)"
   ]
  },
  {
   "cell_type": "markdown",
   "id": "97359521-0a93-4fa7-9777-f8b4683b5529",
   "metadata": {},
   "source": [
    "### --------------------------------------------------------------------------------"
   ]
  },
  {
   "cell_type": "markdown",
   "id": "b18c9d4f-cee6-4380-96cd-b32e5e9fef7a",
   "metadata": {},
   "source": [
    "#### Q5. Explain Primary Key and Foreign Key."
   ]
  },
  {
   "cell_type": "markdown",
   "id": "d6a14621-3b27-495c-b06c-50e1220be19e",
   "metadata": {},
   "source": [
    "Ans -> A primary key generally focuses on the uniqueness of the table. It is a column or a set of columns that uniquely distinguishes every row in the database. It means it should not have any duplicate value. Also, it doesn’t contain a NULL value. Ex- rollno in students database.\n"
   ]
  },
  {
   "cell_type": "code",
   "execution_count": null,
   "id": "9b793ad4-2421-437f-8fa5-ed1df9d34ff8",
   "metadata": {},
   "outputs": [],
   "source": [
    "create table MANIT.studentsmaster\n",
    "(Rollno varchar(50) NOT NULL PRIMARY KEY,\n",
    " Name varchar(50),\n",
    " Branch varchar(20)\n",
    ")"
   ]
  },
  {
   "cell_type": "markdown",
   "id": "c2812f65-e3ed-4624-8982-ca4c4445d524",
   "metadata": {},
   "source": [
    "Ans -> A foreign key is generally used to build a relationship between the two tables. The major purpose of the foreign key is to sustain data integrity between two separate instances of an entity.It is a column (or columns) that references a column (most often the primary key) of another table.It can contain duplicate values and null values. This is mostly useful when we need to join two or more tables.\n",
    "\n"
   ]
  },
  {
   "cell_type": "code",
   "execution_count": null,
   "id": "d346735f-e790-4d5a-9679-4fa2748aa026",
   "metadata": {},
   "outputs": [],
   "source": [
    "create table NPS.librarylends (\n",
    "    OrderID int NOT NULL PRIMARY KEY,\n",
    "    OrderDate DATE NOT NULL,\n",
    "    OrderDurationWeeks int NOT NULL\n",
    "    StudentID varchar(50) FOREIGN KEY REFERENCES MANIT.studentsmaster(Rollno)\n",
    ");"
   ]
  },
  {
   "cell_type": "markdown",
   "id": "5456f0ce-f060-486d-9a43-dfd60fb8a921",
   "metadata": {},
   "source": [
    "### --------------------------------------------------------------------------------"
   ]
  },
  {
   "cell_type": "markdown",
   "id": "d2aaa1bc-3e46-48d5-b249-ee513e6de680",
   "metadata": {},
   "source": [
    "#### Q6. Write a python code to connect MySQL to python. Explain the cursor() and execute() method."
   ]
  },
  {
   "cell_type": "markdown",
   "id": "e8642e43-b723-4437-91dc-47b61e9b5395",
   "metadata": {},
   "source": [
    "Ans -> cursor() is one of the method of the connection object which helps to execute the query and fetch the records from the database. It is created after the connection is established and gives cursor object which acts as a middleware between database connection and SQL query.\n",
    "\n",
    "The execute () method helps us to execute the query just like normal SQL and return records according to the query.The passed query should be a string type. Its return type is int and gives 0 for successful execution and 1 for error. Also it gives no of rows affected if qurey is \n",
    "to alter the rows."
   ]
  },
  {
   "cell_type": "code",
   "execution_count": null,
   "id": "5efd4fa5-ceb0-48bf-812d-493cdb6f54f3",
   "metadata": {},
   "outputs": [],
   "source": [
    "import mysql.connector\n",
    "mydb = mysql.connector.connect(\n",
    "  host=\"localhost\",\n",
    "  user=\"abc\",\n",
    "  password=\"password\"\n",
    ")\n",
    "\n",
    "mycursor = mydb.cursor()\n",
    "mycursor.execute(\"CREATE DATABASE MANIT\")\n",
    "mydb.close()\n"
   ]
  },
  {
   "cell_type": "markdown",
   "id": "68f6b53e-e6e4-4e53-ba3a-3146a0acea94",
   "metadata": {},
   "source": [
    "### --------------------------------------------------------------------------------"
   ]
  },
  {
   "cell_type": "markdown",
   "id": "2bec8399-fafd-4fd7-bac8-722c1980fe28",
   "metadata": {},
   "source": [
    "#### Q7. Give the order of execution of SQL clauses in an SQL query."
   ]
  },
  {
   "cell_type": "markdown",
   "id": "b401e62b-de83-4e4e-85cc-db3cffa32a80",
   "metadata": {},
   "source": [
    "Ans -> Queries in SQL are no actually read from top to bottom when carried out.\n",
    "\n",
    "The order in which the clauses in queries are executed is as follows:\n",
    "\n",
    "1. FROM/JOIN: The FROM and/or JOIN clauses are executed first to determine the data of interest.\n",
    "\n",
    "2. WHERE: The WHERE clause is executed to filter out records that do not meet the constraints.\n",
    "\n",
    "3. GROUP BY: The GROUP BY clause is executed to group the data based on the values in one or more columns.\n",
    "\n",
    "4. HAVING: The HAVING clause is executed to remove the created grouped records that don’t meet the constraints.\n",
    "\n",
    "5. SELECT: The SELECT clause is executed to derive all desired columns and expressions.\n",
    "\n",
    "6. ORDER BY: The ORDER BY clause is executed to sort the derived values in ascending or descending order.\n",
    "\n",
    "7. LIMIT/OFFSET: Finally, the LIMIT and/or OFFSET clauses are executed to keep or skip a specified number of rows."
   ]
  }
 ],
 "metadata": {
  "kernelspec": {
   "display_name": "Python 3 (ipykernel)",
   "language": "python",
   "name": "python3"
  },
  "language_info": {
   "codemirror_mode": {
    "name": "ipython",
    "version": 3
   },
   "file_extension": ".py",
   "mimetype": "text/x-python",
   "name": "python",
   "nbconvert_exporter": "python",
   "pygments_lexer": "ipython3",
   "version": "3.10.8"
  }
 },
 "nbformat": 4,
 "nbformat_minor": 5
}
