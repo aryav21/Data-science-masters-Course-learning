{
 "cells": [
  {
   "cell_type": "markdown",
   "id": "726d7240-0b47-4c32-9d78-de7e16bf095e",
   "metadata": {},
   "source": [
    "## Statistics Advance-2\n"
   ]
  },
  {
   "cell_type": "markdown",
   "id": "f0ad18bc-46c8-4fb1-ba96-c370093e2ae1",
   "metadata": {},
   "source": [
    "### -----------------------------------------------------------------"
   ]
  },
  {
   "cell_type": "markdown",
   "id": "d0c9a072-8a54-48bc-b700-f0b75cb65e64",
   "metadata": {},
   "source": [
    "#### Q1: What are the Probability Mass Function (PMF) and Probability Density Function (PDF)? Explain with an example"
   ]
  },
  {
   "cell_type": "markdown",
   "id": "e1222f92-2036-48b4-ae61-521f7591b784",
   "metadata": {},
   "source": [
    "Ans -> Probability mass function (PMF) or Probability density function (PDF), both are type of probability distribution functions for discrete and continious random variable respectively.\n",
    "\n",
    " - Probability Mass Function (PMF):\n",
    "\n",
    "The PMF is a function that gives the probability of each possible outcome of a discrete random variable. It is defined as follows:  P(X = x) = p(x), where X is the random variable, x is the value taken by X, and p(x) is the probability that X takes the value x. An example of a PMF is the probability distribution of the number of heads obtained when flipping a fair coin 3 times. The possible outcomes are 0, 1, 2, or 3 heads. The PMF of this distribution is given by:\n",
    "\n",
    "p(0) = 1/8,\n",
    "p(1) = 3/8,\n",
    "p(2) = 3/8,\n",
    "p(3) = 1/8\n",
    "\n",
    " - Probability Density Function (PDF):\n",
    "\n",
    "The PDF is a function that gives the probability density of a continuous random variable. It is defined as follows:\n",
    "f(x) = dF(x)/dx , where F(x) is the cumulative distribution function (CDF) of the random variable X. An example of a PDF is the probability distribution of the heights of adult males in a population.\n",
    "\n",
    "Also area under the PDF curve and summation of PMF for all values of random variable must be equal to 1, and the probability of a random variable taking a specific value is zero in a continuous distribution. However, the probability of the random variable taking a value within a specific interval can be calculated by integrating the PDF over that interval."
   ]
  },
  {
   "cell_type": "markdown",
   "id": "ccd7d3d0-301c-48f8-8285-b7899390c2bb",
   "metadata": {},
   "source": [
    "### -----------------------------------------------------------------"
   ]
  },
  {
   "cell_type": "markdown",
   "id": "7458dffa-0262-4b8f-8e39-d70e9e323751",
   "metadata": {},
   "source": [
    "#### Q2: What is Cumulative Density Function (CDF)? Explain with an example. Why CDF is used?"
   ]
  },
  {
   "cell_type": "markdown",
   "id": "279276d9-3e52-401d-894f-10364b9f3250",
   "metadata": {},
   "source": [
    "Ans-> The cumulative density function (CDF) is a function that gives the probability that a random variable X takes a value less than or equal to x, for any value x in the domain of X. In other words, the CDF gives the cumulative distribution of the probability of a random variable taking a value less than or equal to a specific value.\n",
    "\n",
    "In other words probaility distribution function is gradient descent of CDF and its value can be found out by integrating the pdf function between specified limits for continious distribution or by summation of probability for all values less than, equal to specified value for discrete distribution."
   ]
  },
  {
   "cell_type": "markdown",
   "id": "2fd0c561-ccd8-47c1-bdfa-7ccec32710ac",
   "metadata": {},
   "source": [
    "### -----------------------------------------------------------------"
   ]
  },
  {
   "cell_type": "markdown",
   "id": "ced6f74f-3d4a-4143-b0a2-a1f832413e24",
   "metadata": {},
   "source": [
    "#### Q3: What are some examples of situations where the normal distribution might be used as a model? Explain how the parameters of the normal distribution relate to the shape of the distribution."
   ]
  },
  {
   "cell_type": "markdown",
   "id": "5f936931-4db9-403b-ad36-eed29d59f9a3",
   "metadata": {},
   "source": [
    "Ans -> The normal distribution, also known as the Gaussian distribution, is a commonly used probability distribution that describes the distribution of many natural phenomena in the real world. Here are some examples of situations where the normal distribution might be used as a model:\n",
    "\n",
    " - Height: The heights of adult humans are often modeled using a normal distribution, with mean around 5'7\" and standard deviation of 2-3 inches.\n",
    "\n",
    " - Weight: Similarly, the weight of adult humans can also be modeled using a normal distribution, with mean around 150-170 pounds and standard deviation of 20-30 pounds.\n",
    "\n",
    " - IQ scores: IQ scores are commonly modeled using a normal distribution, with mean 100 and standard deviation 15.\n",
    "\n",
    " - Error in measurements: In many scientific experiments and studies, measurements are subject to some level of error. The magnitude of the error can often be modeled using a normal distribution, with mean 0 and some standard deviation that depends on the precision of the measurement instrument.\n",
    "\n",
    "The parameters of the normal distribution are the mean (μ) and the standard deviation (σ). The mean represents the center of the distribution, and the standard deviation represents the spread or width of the distribution. Specifically, the standard deviation determines how much the values in the distribution deviate from the mean. A larger standard deviation indicates a wider distribution, while a smaller standard deviation indicates a more narrow distribution. When the standard deviation is equal to zero, the normal distribution becomes a single point at the mean value. When the standard deviation is very large, the normal distribution becomes very flat, indicating that the values in the distribution are spread out over a very wide range. When the standard deviation is very small, the normal distribution becomes very tall and narrow, indicating that the values in the distribution are clustered closely around the mean."
   ]
  },
  {
   "cell_type": "markdown",
   "id": "a3091ba5-bb10-4845-a6e9-69bcbcbda776",
   "metadata": {},
   "source": [
    "### -----------------------------------------------------------------"
   ]
  },
  {
   "cell_type": "markdown",
   "id": "f0634480-0c09-4968-82fd-4bf199c37907",
   "metadata": {},
   "source": [
    "#### Q4: Explain the importance of Normal Distribution. Give a few real-life examples of Normal Distribution."
   ]
  },
  {
   "cell_type": "markdown",
   "id": "068f4029-c3cd-4fc2-809a-e6ec4f1ce928",
   "metadata": {},
   "source": [
    "Ans -> The normal distribution is one of the most important probability distributions in statistics and has many applications in various fields. It is essential in statistical inference, where it is often used to model and analyze data, as well as in hypothesis testing and confidence interval estimation. The normal distribution also plays a key role in machine learning algorithms, such as linear regression and classification, where it is often assumed that the data follows a normal distribution.\n",
    "\n",
    "Here are some real-life examples of normal distribution:\n",
    "\n",
    "IQ scores: IQ scores are often distributed normally with a mean of 100 and a standard deviation of 15. This means that most people have an IQ score between 70 and 130, with very few people having scores below 55 or above 145.\n",
    "\n",
    "Body weight: Body weight is often distributed normally with a mean of around 150-170 pounds and a standard deviation of 20-30 pounds. This means that most people have a body weight between 120 and 200 pounds, with very few people having a weight below 60 or above 250 pounds.\n",
    "\n",
    "Height: Height is often distributed normally with a mean of around 5'7\" and a standard deviation of 2-3 inches. This means that most people have a height between 5'4\" and 5'10\", with very few people having a height below 4'11\" or above 6'4\".\n",
    "\n",
    "Exam scores: Exam scores are often distributed normally, especially when the exam is designed to have a reasonable level of difficulty. This means that most students will score around the average score, with fewer students scoring very high or very low.\n",
    "\n",
    "Environmental factors: Many environmental factors, such as temperature, humidity, rainfall, and pollution levels, are often distributed normally. This makes it easier for scientists to model and predict changes in these factors over time.\n",
    "\n",
    "In summary, the normal distribution is important because it allows us to model and analyze data from a wide range of real-world phenomena. Its symmetry and well-known properties make it a valuable tool in statistical analysis, machine learning, and scientific research.Ans -> "
   ]
  },
  {
   "cell_type": "markdown",
   "id": "b9d254ca-890b-489e-a680-1110bef4303b",
   "metadata": {},
   "source": [
    "### -----------------------------------------------------------------"
   ]
  },
  {
   "cell_type": "markdown",
   "id": "b798f438-561d-4491-aa56-2240e48642a2",
   "metadata": {},
   "source": [
    "#### Q5: What is Bernoulli Distribution? Give an Example. What is the difference between Bernoulli Distribution and Binomial Distribution?"
   ]
  },
  {
   "cell_type": "markdown",
   "id": "087aeb58-463e-4e1b-925c-3e81a2d48cf9",
   "metadata": {},
   "source": [
    "Ans -> The Bernoulli distribution is a discrete probability distribution that models the probability of a single binary event, such as a coin toss or the success or failure of a single trial in an experiment. It is named after the Swiss mathematician, Jacob Bernoulli. The Bernoulli distribution has a single parameter, p, which represents the probability of a success (or \"1\") in a single trial. The probability of a failure (or \"0\") is simply 1-p. The binomial distribution, on the other hand, is a discrete probability distribution that models the number of successes in a fixed number of independent trials, each with the same probability of success. The binomial distribution has two parameters: n, which is the number of trials, and p, which is the probability of success in each trial.\n",
    "\n",
    "The main difference between the Bernoulli distribution and the binomial distribution is that the Bernoulli distribution models the probability of a single binary event, while the binomial distribution models the number of successes in a fixed number of independent trials. In other words, the Bernoulli distribution is a special case of the binomial distribution where n = 1.\n",
    "\n",
    "To illustrate the difference, let's consider the example of flipping a fair coin three times. If we want to know the probability of getting exactly one head, we would use the binomial distribution with n = 3 and p = 0.5. On the other hand, if we want to know the probability of getting a head on the first flip only, we would use the Bernoulli distribution with p = 0.5."
   ]
  },
  {
   "cell_type": "markdown",
   "id": "f4d820cc-a126-454a-a998-491a25ac897b",
   "metadata": {},
   "source": [
    "### -----------------------------------------------------------------"
   ]
  },
  {
   "cell_type": "markdown",
   "id": "e342c2eb-3fa4-4df1-8e2e-0d1909b0a7eb",
   "metadata": {},
   "source": [
    "#### Q6. Consider a dataset with a mean of 50 and a standard deviation of 10. If we assume that the dataset is normally distributed, what is the probability that a randomly selected observation will be greater than 60? Use the appropriate formula and show your calculations"
   ]
  },
  {
   "cell_type": "code",
   "execution_count": 2,
   "id": "bab296b2-8f4f-40e9-9105-d9f35aa4f3e7",
   "metadata": {},
   "outputs": [
    {
     "name": "stdout",
     "output_type": "stream",
     "text": [
      "Probability of observation being greater than 60 is:  0.15865525393145707\n"
     ]
    }
   ],
   "source": [
    "import scipy.stats as stat\n",
    "mean = 50 \n",
    "std = 10\n",
    "var = 100\n",
    "\n",
    "x = 60\n",
    "z_score = (x - mean)/std\n",
    "cdf = stat.norm.cdf(z_score)\n",
    "print('Probability of observation being greater than 60 is: ',1-cdf)"
   ]
  },
  {
   "cell_type": "markdown",
   "id": "0c844a57-a739-4e18-9103-61b1db4761f2",
   "metadata": {},
   "source": [
    "### -----------------------------------------------------------------"
   ]
  },
  {
   "cell_type": "markdown",
   "id": "bf1d2e15-b62a-445a-b8a2-5b084a0ab46a",
   "metadata": {},
   "source": [
    "#### Q7: Explain uniform Distribution with an example."
   ]
  },
  {
   "cell_type": "markdown",
   "id": "36b429eb-16e7-4260-a801-27c94b79a6f9",
   "metadata": {},
   "source": [
    "Ans -> The uniform distribution is a continuous probability distribution that models random variables with equal probability of falling within a given interval. It is also known as the rectangular distribution, since the probability density function (PDF) is a constant value within the interval and zero outside of it. \n",
    "The PDF of the uniform distribution is given by:\n",
    "\n",
    "   - f(x) = 1 / (b - a), for a ≤ x ≤ b, and 0 otherwise,where a and b are the endpoints of the interval.\n",
    "\n",
    "   - The mean or expected value of the uniform distribution is given by: E(X) = (a + b) / 2\n",
    "The variance of the distribution is given by: Var(X) = (b - a)^2 / 12. \n",
    "\n",
    "Uniform distribution could also be of discrete random variable where probability of each outcome in an expriment are equal For example, let's say we have a fair six-sided die. The probability of rolling any one of the six faces is equal, as each face has the same chance of coming up. We can represent this as a uniform distribution where the probability of each outcome is 1/6.\n",
    "\n",
    "Another example could be the height of students in a classroom, assuming that the heights are distributed uniformly. If the heights of students in the class fall within a range of 4 feet to 6 feet, then each height within that range has an equal probability of occurring, and the probability density function of the uniform distribution would be a constant value between 4 and 6."
   ]
  },
  {
   "cell_type": "markdown",
   "id": "7fc9551b-44e1-45e2-a9b2-2fa8b4ef4dbf",
   "metadata": {},
   "source": [
    "### -----------------------------------------------------------------"
   ]
  },
  {
   "cell_type": "markdown",
   "id": "db7da920-e614-4142-821e-63db6a8766f0",
   "metadata": {},
   "source": [
    "#### Q8: What is the z score? State the importance of the z score"
   ]
  },
  {
   "cell_type": "markdown",
   "id": "fe039b3c-c6f9-4af9-800d-699089c089a5",
   "metadata": {},
   "source": [
    "Ans -> The z-score, also known as the standard score, is a measure of how many standard deviations a data point is from the mean of a distribution. The z-score is calculated by subtracting the mean from the data point and dividing the result by the standard deviation of the distribution. Mathematically, it can be represented as:\n",
    "\n",
    "z = (x - μ) / σ\n",
    "\n",
    "where x is the data point, μ is the mean, and σ is the standard deviation.\n",
    "\n",
    "The z-score is important because it allows us to compare data points from different distributions on a common scale. By converting the data to standard units, we can make meaningful comparisons between data points that have different units or scales. For example, if we want to compare the performance of students who took two different exams with different scoring systems, we can convert the scores to z-scores and then compare them on a common scale.\n",
    "\n",
    "The z-score also helps us to understand the relative position of a data point within a distribution. A z-score of 0 indicates that the data point is at the mean of the distribution, while a positive z-score indicates that the data point is above the mean, and a negative z-score indicates that the data point is below the mean. Additionally, the magnitude of the z-score tells us how far the data point is from the mean in terms of standard deviations.\n",
    "\n",
    "Overall, the z-score is an important tool in statistics and data analysis, as it helps us to standardize data and make meaningful comparisons between data points from different distributions."
   ]
  },
  {
   "cell_type": "markdown",
   "id": "d43b4206-8031-496d-955a-1ccd75d77271",
   "metadata": {},
   "source": [
    "### -----------------------------------------------------------------"
   ]
  },
  {
   "cell_type": "markdown",
   "id": "bed1282a-1c20-4d92-82c1-e4a9a849d85c",
   "metadata": {},
   "source": [
    "#### Q9: What is Central Limit Theorem? State the significance of the Central Limit Theorem."
   ]
  },
  {
   "cell_type": "markdown",
   "id": "ef96567b-4c65-4501-9235-cd897bf35f32",
   "metadata": {},
   "source": [
    "Ans -> The central limit theorem relies on the concept of a sampling distribution, which is the probability distribution of a statistic for a large number of samples taken from a population and states that if you take sufficiently large samples from a population, the samples means will be normally distributed, even if the population isn’t normally distributed. \n",
    "\n",
    "The parameters of the sampling distribution of the mean are determined by the parameters of the population:\n",
    "\n",
    " -  mean of the sampling distribution is equal to mean of population\n",
    " -  standard deviation of the sampling distribution is the standard deviation of the population divided by the square root of the sample size.\n",
    " \n",
    " The significance of the Central Limit Theorem is that it allows us to make important statistical inferences about a population based on a sample. Specifically, it enables us to estimate the mean and standard deviation of a population, even when the underlying distribution is unknown or complex. The CLT also provides the basis for many statistical tests and models, such as hypothesis testing, confidence intervals, and regression analysis.\n",
    " "
   ]
  },
  {
   "cell_type": "markdown",
   "id": "41b5a19a-fa1d-46e2-bfd2-f5295d256e6a",
   "metadata": {},
   "source": [
    "### -----------------------------------------------------------------"
   ]
  },
  {
   "cell_type": "markdown",
   "id": "82ec2767-990e-490d-95ec-ab385c937bc7",
   "metadata": {},
   "source": [
    "#### Q10: State the assumptions of the Central Limit Theorem"
   ]
  },
  {
   "cell_type": "markdown",
   "id": "c7d2667a-cc5e-4564-817b-cb3d03121762",
   "metadata": {},
   "source": [
    "Ans -> The central limit theorem states that the sampling distribution of the mean will always follow a normal distribution under the following conditions:\n",
    "\n",
    " 1. The sample size is sufficiently large. This condition is usually met if the sample size is n ≥ 30.\n",
    " 2. The samples are independent and identically distributed (i.i.d.) random variables. This condition is usually met if the sampling is random.\n",
    " 3. The population’s distribution has finite variance. Central limit theorem doesn’t apply to distributions with infinite variance, such as the Cauchy distribution. Most distributions have finite variance."
   ]
  }
 ],
 "metadata": {
  "kernelspec": {
   "display_name": "Python 3 (ipykernel)",
   "language": "python",
   "name": "python3"
  },
  "language_info": {
   "codemirror_mode": {
    "name": "ipython",
    "version": 3
   },
   "file_extension": ".py",
   "mimetype": "text/x-python",
   "name": "python",
   "nbconvert_exporter": "python",
   "pygments_lexer": "ipython3",
   "version": "3.10.8"
  }
 },
 "nbformat": 4,
 "nbformat_minor": 5
}
