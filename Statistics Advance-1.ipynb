{
 "cells": [
  {
   "cell_type": "markdown",
   "id": "e2ae3fd2-ccd5-419b-9005-833c4a7c848b",
   "metadata": {},
   "source": [
    "## Statistics Advance-1"
   ]
  },
  {
   "cell_type": "markdown",
   "id": "b066a222-052c-469a-bbdb-08630af98ade",
   "metadata": {},
   "source": [
    "### --------------------------------------------------------------------------------------------------------------"
   ]
  },
  {
   "cell_type": "markdown",
   "id": "214670b7-e0be-403e-8f2e-fd9c43d9e36a",
   "metadata": {},
   "source": [
    "#### Q1. What is the Probability density function?"
   ]
  },
  {
   "cell_type": "markdown",
   "id": "b894048c-e0c9-4685-8568-b042fd7685b0",
   "metadata": {},
   "source": [
    "Ans -> The probability density function (PDF) is a mathematical function that describes the probability distribution of a continuous random variable. It specifies the relative likelihood that the value of the random variable will fall within a particular range of values, as opposed to taking on any one specific value.\n",
    "\n",
    "The PDF is defined as the derivative of the cumulative distribution function (CDF), which gives the probability that the random variable is less than or equal to a particular value. Mathematically, the PDF is often denoted as f(x), where x is the random variable, and it is defined as:\n",
    "\n",
    "f(x) = d/dx F(x)\n",
    "\n",
    "where F(x) is the cumulative distribution function.\n",
    "\n",
    "The PDF has several properties, including that it must be non-negative for all values of x, and the total area under the curve of the PDF must equal one, as the total probability of all possible outcomes is equal to one. The PDF can be used to calculate probabilities of events or ranges of values, by integrating the function over the relevant range of values."
   ]
  },
  {
   "cell_type": "markdown",
   "id": "7cbb4f73-9643-4aab-8bc7-9808149d7d94",
   "metadata": {},
   "source": [
    "### --------------------------------------------------------------------------------------------------------------"
   ]
  },
  {
   "cell_type": "markdown",
   "id": "3f7030cc-fb0a-42ec-bd11-20592d5068a6",
   "metadata": {},
   "source": [
    "#### Q2. What are the types of Probability distribution"
   ]
  },
  {
   "cell_type": "markdown",
   "id": "d5291111-7a71-4de3-9437-a795b0e38251",
   "metadata": {},
   "source": [
    "Ans -> Types of Distributions\n",
    " 1. Bernoulli Distribution - \n",
    " \n",
    " The Bernoulli distribution is a discrete probability distribution that models a single trial of a binary experiment. A binary experiment is an experiment with two possible outcomes, usually referred to as \"success\" and \"failure\".The Bernoulli distribution is characterized by a single parameter, denoted by p, which represents the probability of success in a single trial. The probability of failure is therefore 1-p. The distribution takes on the value 1 with probability p and the value 0 with probability 1-p. The probability mass function (PMF) of the Bernoulli distribution is given by: P(X = 1) = p P(X = 0) = 1 - p where X is the random variable representing the outcome of a single trial.\n",
    "The mean or expected value of the Bernoulli distribution is given by: E(X) = p The variance of the distribution is given by: Var(X) = p(1 - p).\n",
    "\n",
    " 2. Binomial Distribution\n",
    " \n",
    " The binomial distribution is a discrete probability distribution that models the number of successes in a fixed number of independent Bernoulli trials.The binomial distribution is characterized by two parameters: n, the number of trials, and p, the probability of success in a single trial. The probability of failure is therefore 1-p. The probability mass function (PMF) of the binomial distribution is given by:\n",
    " P(X = k) = (n choose k) * p^k * (1 - p)^(n - k)\n",
    "where X is the random variable representing the number of successes in n trials, k is the number of successes, (n choose k) is the binomial coefficient, which is the number of ways to choose k items from a set of n items, and p^k * (1 - p)^(n - k) is the probability of getting k successes and n - k failures.The mean or expected value of the binomial distribution is given by: E(X) = n * p The variance of the distribution is given by:\n",
    "Var(X) = n * p * (1 - p).\n",
    "    \n",
    " 3. Normal Distribution\n",
    " \n",
    " The normal distribution is characterized by two parameters: the mean (μ) and the standard deviation (σ). The probability density function (PDF) of the normal distribution is given by:\n",
    "f(x) = (1 / (σ * sqrt(2π))) * exp(-((x - μ)^2 / (2σ^2)))\n",
    ",where x is the random variable, μ is the mean, σ is the standard deviation, π is the mathematical constant pi, and exp is the exponential function.\n",
    "The normal distribution is a bell-shaped curve that is symmetric around the mean. The peak of the curve is at the mean, and the curve tapers off as we move away from the mean in either direction. The standard deviation determines the spread of the curve - a smaller standard deviation produces a narrower curve, while a larger standard deviation produces a wider curve.The normal distribution is important because it arises naturally in many real-world situations, such as the heights of people, the weights of objects, and the errors in measurements. In fact, the central limit theorem states that the sum or average of a large number of independent random variables tends to follow a normal distribution, regardless of the distribution of the individual variables.\n",
    "\n",
    " 4. Poisson Distribution\n",
    " \n",
    " The Poisson distribution is a discrete probability distribution that models the number of occurrences of an event in a fixed interval of time or space. The Poisson distribution is characterized by a single parameter, λ, which represents the expected number of occurrences of the event in the interval. The probability mass function (PMF) of the Poisson distribution is given by: P(X = k) = (e^(-λ) * λ^k) / k! ,where X is the random variable representing the number of occurrences of the event, k is the number of occurrences, e is the mathematical constant approximately equal to 2.718, and k! is the factorial function, which is the product of all positive integers up to k. The mean or expected value of the Poisson distribution is given by: E(X) = λ\n",
    "The variance of the distribution is also equal to λ. The Poisson distribution is useful for modeling events that occur randomly and independently of each other, such as the number of phone calls received by a call center in an hour or the number of defects in a production line. It can also be used to approximate the binomial distribution when the number of trials is large and the probability of success is small.\n",
    "\n",
    " 5. Log Normal Distribution\n",
    " \n",
    "The log-normal distribution is a continuous probability distribution of a random variable whose logarithm is normally distributed. It is used to model variables that are positive and skewed, such as income, stock prices, or the size of biological populations.The probability density function (PDF) of the log-normal distribution is given by:\n",
    "f(x) = (1 / (x * σ * sqrt(2π))) * exp(-((ln(x) - μ)^2 / (2σ^2)))\n",
    "where x is the random variable, μ and σ are the mean and standard deviation of the logarithm of x, respectively, π is the mathematical constant pi, ln is the natural logarithm function, and exp is the exponential function. The log-normal distribution is widely used in finance, economics, and ecology, among other fields. It is often used to model stock prices, where the logarithm of the price is normally distributed, or to model the size of populations, where the logarithm of the size is normally distributed. It is also used to model income distribution, where the logarithm of income is often normally distributed.\n",
    "\n",
    " 6. Uniform Distribution\n",
    " \n",
    "The uniform distribution is a continuous probability distribution that models random variables with equal probability of falling within a given interval. It is also known as the rectangular distribution, since the probability density function (PDF) is a constant value within the interval and zero outside of it.\n",
    "The PDF of the uniform distribution is given by: f(x) = 1 / (b - a),for a ≤ x ≤ b, and 0 otherwise, where a and b are the endpoints of the interval.\n",
    "The mean or expected value of the uniform distribution is given by:\n",
    "E(X) = (a + b) / 2 .The variance of the distribution is given by: Var(X) = (b - a)^2 / 12. Uniform distribution could also be of discrete random variable where probability of each outcome in an expriment are equal i.e. throwing a dice."
   ]
  },
  {
   "cell_type": "markdown",
   "id": "98cf1aaa-f2d0-4a15-a6a4-d553900745bb",
   "metadata": {},
   "source": [
    "### --------------------------------------------------------------------------------------------------------------"
   ]
  },
  {
   "cell_type": "markdown",
   "id": "197383d2-3408-4007-a7db-338155b46f0c",
   "metadata": {},
   "source": [
    "#### Q3. Write a Python function to calculate the probability density function of a normal distribution with given mean and standard deviation at a given point"
   ]
  },
  {
   "cell_type": "code",
   "execution_count": 14,
   "id": "8539655d-c83f-4376-9ace-5ead9e414df0",
   "metadata": {},
   "outputs": [],
   "source": [
    "import seaborn as sns\n",
    "import numpy as np\n",
    "import math\n",
    "\n",
    "\n",
    "df = sns.load_dataset('iris')\n",
    "x = list(df['sepal_width'])\n",
    "s = np.mean(x)\n",
    "std = np.std(x)\n",
    "var = np.var(x)"
   ]
  },
  {
   "cell_type": "code",
   "execution_count": 5,
   "id": "1e6a1fff-770e-419d-8a22-6031ac57738c",
   "metadata": {},
   "outputs": [],
   "source": [
    "def pdf_fun(x,s,var,std):\n",
    "    euler = math.exp((-1/2)*((x-s)/std)**2)\n",
    "    pdf = ((2*var*math.pi)**(-1/2))*euler\n",
    "    return pdf   "
   ]
  },
  {
   "cell_type": "code",
   "execution_count": 13,
   "id": "5a3818bc-01c1-4b7f-bb28-51454a78f02a",
   "metadata": {},
   "outputs": [
    {
     "data": {
      "text/plain": [
       "0.8701391255426416"
      ]
     },
     "execution_count": 13,
     "metadata": {},
     "output_type": "execute_result"
    }
   ],
   "source": [
    "pdf_fun(3.2,s,var,std)"
   ]
  },
  {
   "cell_type": "code",
   "execution_count": 7,
   "id": "d0e82cb5-6d73-449e-9191-5b23ed1dedf9",
   "metadata": {},
   "outputs": [],
   "source": [
    "y = []\n",
    "for i in x:\n",
    "    y.append(pdf_fun(i,s,var,std))"
   ]
  },
  {
   "cell_type": "code",
   "execution_count": 8,
   "id": "22230ba7-04cd-4915-a5a3-0678ffe7ce32",
   "metadata": {},
   "outputs": [
    {
     "data": {
      "text/plain": [
       "<AxesSubplot: >"
      ]
     },
     "execution_count": 8,
     "metadata": {},
     "output_type": "execute_result"
    },
    {
     "data": {
      "image/png": "[encoded data removed]",
      "text/plain": [
       "<Figure size 640x480 with 1 Axes>"
      ]
     },
     "metadata": {},
     "output_type": "display_data"
    }
   ],
   "source": [
    "sns.lineplot(x = x , y = y)"
   ]
  },
  {
   "cell_type": "markdown",
   "id": "d66d86fc-8b01-4aa4-afc5-53eb430eecdc",
   "metadata": {},
   "source": [
    "## --------------------------------------------------------------------------------------------------------------"
   ]
  },
  {
   "cell_type": "markdown",
   "id": "8f5c6957-4986-423f-baa3-b35866c9240a",
   "metadata": {},
   "source": [
    "#### Q4. What are the properties of Binomial distribution? Give two examples of events where binomial \n",
    "#### distribution can be applied"
   ]
  },
  {
   "cell_type": "markdown",
   "id": "249012d2-76eb-4bde-b3b0-717abb5e7cae",
   "metadata": {},
   "source": [
    "Ans -> The binomial distribution is a discrete probability distribution that models the number of successes in a fixed number of independent Bernoulli trials. The binomial distribution is characterized by two parameters: n, the number of trials, and p, the probability of success on each trial.\n",
    "\n",
    "Probability mass function for binomial distribution -> \n",
    "P(X = k) = (n choose k) * p^k * (1-p)^(n-k)\n",
    "\n",
    "\n",
    "\n",
    "Some of the properties of binomial distribution are - \n",
    "\n",
    " - Each trial is independent.\n",
    " - There are only two possible outcomes in a trial – success or failure.\n",
    " - A total number of n identical trials are conducted.\n",
    " - The probability of success and failure is the same for all trials. (Trials are identical.)\n",
    " - The mean of the distribution is given by n * p, and the variance is given by n * p * (1 - p).\n",
    " - The shape of the distribution is symmetric when p = 0.5 and becomes more skewed as p moves away from 0.5.\n",
    " \n",
    "Example - \n",
    "\n",
    " Flipping a coin a fixed number of times: Suppose you flip a fair coin 10 times and want to know the probability of getting exactly 7 heads. Each flip is a Bernoulli trial with a probability of success (getting a head) of 0.5. The number of successes in 10 trials follows a Binomial distribution with parameters n = 10 and p = 0.5.\n",
    "\n",
    "Testing the effectiveness of a new drug: Suppose a new drug is being tested for its effectiveness in treating a disease. A clinical trial is conducted on a fixed number of patients, and the success of the treatment (cured or not cured) is recorded. Each patient is a Bernoulli trial with a probability of success (being cured) of p. The number of successes (cured patients) in the trial follows a Binomial distribution with parameters n (the number of patients) and p (the probability of being cured by the drug)."
   ]
  },
  {
   "cell_type": "markdown",
   "id": "c514d120-2be1-4a0b-871f-e29f515d8174",
   "metadata": {},
   "source": [
    "### --------------------------------------------------------------------------------------------------------------"
   ]
  },
  {
   "cell_type": "markdown",
   "id": "5ba5cfd2-2ee6-4824-adc7-605858ccafd8",
   "metadata": {},
   "source": [
    "#### Q5. Generate a random sample of size 1000 from a binomial distribution with probability of success 0.4 and plot a histogram of the results using matplotlib."
   ]
  },
  {
   "cell_type": "code",
   "execution_count": 22,
   "id": "82697fca-3c1e-4ed4-b14d-48733e5f182d",
   "metadata": {},
   "outputs": [
    {
     "name": "stdout",
     "output_type": "stream",
     "text": [
      "[385 422 413 418 383 414 406 411 402 395 382 393 405 416 439 409 411 372\n",
      " 409 388 413 364 396 396 390 414 399 382 388 431 434 408 422 398 392 391\n",
      " 365 391 360 399 378 417 405 406 421 398 415 382 385 384 382 388 377 411\n",
      " 390 396 413 398 398 411 380 406 392 404 407 378 417 404 418 358 389 394\n",
      " 409 419 391 406 404 402 406 388 405 376 404 385 380 400 400 393 396 415\n",
      " 412 416 379 400 391 383 400 407 371 391 385 394 394 411 429 391 391 375\n",
      " 383 388 394 408 391 402 398 405 407 415 416 404 406 380 386 403 369 377\n",
      " 395 400 381 425 403 412 417 400 404 416 406 405 389 392 429 386 396 406\n",
      " 410 394 389 426 408 407 394 374 378 407 377 409 419 393 404 397 397 416\n",
      " 388 392 407 405 377 402 414 372 427 418 357 402 369 386 388 382 381 396\n",
      " 402 425 380 409 413 374 395 374 397 406 407 411 373 435 404 395 413 407\n",
      " 396 392 410 418 391 381 398 410 401 404 393 395 425 427 425 401 390 406\n",
      " 407 402 391 402 414 396 415 413 420 369 405 436 407 411 409 415 435 380\n",
      " 399 398 395 377 403 402 395 397 400 392 416 395 390 400 382 432 401 386\n",
      " 392 416 380 416 400 384 407 389 387 401 375 406 404 433 397 387 397 409\n",
      " 413 402 395 424 414 406 431 386 410 409 390 396 395 366 424 406 418 422\n",
      " 412 387 393 408 418 407 416 409 405 391 380 419 407 395 401 403 392 393\n",
      " 412 422 403 392 409 412 372 411 386 400 393 418 405 427 406 388 417 391\n",
      " 417 391 414 408 408 406 392 384 393 380 419 397 410 413 376 413 407 388\n",
      " 397 388 421 415 415 400 448 404 413 391 401 402 409 406 401 378 394 398\n",
      " 432 355 373 395 410 384 401 401 403 379 410 392 399 382 393 413 397 419\n",
      " 398 386 407 396 378 396 415 397 392 349 378 405 413 396 410 408 395 396\n",
      " 410 406 393 411 370 398 407 404 384 383 385 413 408 399 410 392 389 404\n",
      " 402 384 413 385 398 425 416 391 418 399 394 379 406 422 401 402 412 396\n",
      " 404 391 417 404 395 391 403 423 395 421 419 400 392 390 394 415 381 397\n",
      " 420 425 394 413 400 405 386 398 372 416 432 393 417 390 394 391 391 394\n",
      " 397 408 401 412 373 420 404 429 395 380 388 402 392 405 407 417 410 402\n",
      " 391 401 396 387 403 414 405 376 403 394 392 421 402 398 402 394 395 416\n",
      " 386 393 417 415 377 382 402 416 415 400 382 414 406 392 381 419 380 394\n",
      " 438 409 409 395 381 421 413 390 406 383 417 380 378 425 412 398 386 377\n",
      " 383 402 392 371 416 409 376 419 415 378 370 405 429 393 386 411 424 384\n",
      " 391 391 410 393 405 399 408 379 384 378 413 405 414 408 394 384 385 424\n",
      " 414 405 404 426 402 403 381 405 399 388 384 398 402 397 414 404 401 394\n",
      " 404 385 393 395 387 400 401 403 406 397 410 387 387 411 398 401 403 394\n",
      " 399 424 396 409 402 411 385 394 436 413 372 408 415 377 401 364 415 406\n",
      " 416 402 384 399 424 385 400 408 404 406 397 390 395 419 412 396 382 436\n",
      " 403 410 428 424 412 395 379 376 427 393 395 422 407 400 373 396 381 433\n",
      " 409 418 380 393 425 405 408 397 373 395 394 409 413 405 417 401 390 418\n",
      " 385 403 411 405 410 405 394 403 391 379 405 397 380 414 397 403 372 408\n",
      " 402 425 377 399 411 391 389 390 414 410 402 420 415 398 387 433 407 389\n",
      " 419 383 385 383 390 406 384 387 381 423 410 369 372 393 401 411 393 379\n",
      " 409 375 417 390 401 404 418 395 427 400 423 367 390 405 433 376 381 410\n",
      " 388 408 425 406 393 394 398 401 378 410 416 410 381 403 390 403 389 398\n",
      " 408 395 374 410 408 404 403 410 388 395 415 409 397 402 386 399 429 400\n",
      " 391 387 386 376 381 390 389 417 394 409 389 375 429 403 412 374 394 433\n",
      " 406 388 380 418 404 395 429 405 408 412 427 379 414 406 402 397 378 402\n",
      " 398 406 401 396 378 399 401 403 408 427 396 398 444 417 418 418 415 418\n",
      " 398 384 389 417 419 398 427 374 414 409 389 415 402 387 417 408 397 395\n",
      " 420 441 387 390 403 412 390 423 426 419 399 413 395 417 366 393 386 383\n",
      " 401 403 409 379 414 389 401 409 378 389 403 390 417 409 375 412 400 397\n",
      " 416 398 407 399 430 405 398 378 402 416 405 390 371 426 409 408 411 391\n",
      " 402 399 414 397 408 416 403 391 384 393 382 419 401 396 386 407 416 432\n",
      " 404 426 399 438 425 379 413 409 415 423 428 392 373 414 399 428 396 389\n",
      " 410 382 391 393 415 393 416 402 396 384 390 405 398 408 375 376 424 361\n",
      " 401 407 409 384 385 427 397 434 389 411 409 405 389 386 396 374 383 366\n",
      " 391 403 397 410 390 405 377 412 379 417]\n"
     ]
    },
    {
     "data": {
      "image/png": "[encoded data removed]",
      "text/plain": [
       "<Figure size 640x480 with 1 Axes>"
      ]
     },
     "metadata": {},
     "output_type": "display_data"
    }
   ],
   "source": [
    "import numpy as np\n",
    "import matplotlib.pyplot as plt\n",
    "n = 1000\n",
    "p = 0.4 \n",
    "\n",
    "sample = np.random.binomial(n, p, size=1000)\n",
    "print(sample)\n",
    "plt.hist(sample , edgecolor = \"black\")\n",
    "plt.xlabel('No of success')\n",
    "plt.show()\n",
    "\n"
   ]
  },
  {
   "cell_type": "markdown",
   "id": "cca9a01b-7837-4c07-b6df-37bb5731239f",
   "metadata": {},
   "source": [
    "### --------------------------------------------------------------------------------------------------------------"
   ]
  },
  {
   "cell_type": "markdown",
   "id": "42c6d2b8-a2f4-46bd-bbc3-81474e6f60bc",
   "metadata": {},
   "source": [
    "#### Q6. Write a Python function to calculate the cumulative distribution function of a Poisson distribution with given mean at a given point"
   ]
  },
  {
   "cell_type": "code",
   "execution_count": 17,
   "id": "3feafaa4-8b38-43b5-89a5-17f0e938a1c9",
   "metadata": {},
   "outputs": [],
   "source": [
    "import math\n",
    "def cumulate(m,k):   # m is mean occurences , k is number of occurences \n",
    "    euler = math.exp(-m)\n",
    "    pdf = (((m)**k)/(math.factorial(k)))*euler\n",
    "    cdf = 0\n",
    "    for i in range(k+1):\n",
    "        cdf = cdf +(((m)**i)/(math.factorial(i)))*euler\n",
    "        \n",
    "    return cdf"
   ]
  },
  {
   "cell_type": "code",
   "execution_count": 18,
   "id": "e3352d8f-cadc-4ad6-bd64-5d7b3b0fb7c1",
   "metadata": {},
   "outputs": [
    {
     "data": {
      "text/plain": [
       "0.9473469826562889"
      ]
     },
     "execution_count": 18,
     "metadata": {},
     "output_type": "execute_result"
    }
   ],
   "source": [
    "cumulate(2,4)"
   ]
  },
  {
   "cell_type": "markdown",
   "id": "19118684-328e-43bf-8fd8-8f75f6ceb657",
   "metadata": {},
   "source": [
    "### --------------------------------------------------------------------------------------------------------------"
   ]
  },
  {
   "cell_type": "markdown",
   "id": "b9c55796-c233-4010-a208-cf5eb177293d",
   "metadata": {},
   "source": [
    "#### Q7. How Binomial distribution different from Poisson distribution"
   ]
  },
  {
   "cell_type": "markdown",
   "id": "88df6abf-d515-4ff5-ad0b-3e696998b328",
   "metadata": {},
   "source": [
    "Ans -> The main difference between the binomial distribution and the Poisson distribution is the type of event that they model. The binomial distribution models the number of successes in a fixed number of trials, while the Poisson distribution models the number of rare events in a fixed interval of time or space.\n",
    "\n",
    "Here are some key differences between the two distributions:\n",
    "\n",
    "Probability of success: The binomial distribution requires a fixed probability of success for each trial, while the Poisson distribution does not require a probability of success.\n",
    "\n",
    "Number of trials: The binomial distribution requires a fixed number of trials, while the Poisson distribution does not require a fixed number of events.\n",
    "\n",
    "Mean and variance: The mean and variance of the binomial distribution depend on the number of trials and the probability of success, while the mean and variance of the Poisson distribution depend only on the mean (i.e., the expected number of events).\n",
    "\n",
    "Assumptions: The binomial distribution assumes that the trials are independent and that the probability of success is constant across all trials. The Poisson distribution assumes that the events are rare and independent of each other.\n",
    "\n",
    "Range of values: The binomial distribution is defined for a finite range of values (i.e., from 0 to the number of trials), while the Poisson distribution is defined for an infinite range of values (i.e., from 0 to infinity).\n",
    "\n",
    "In general, the binomial distribution is appropriate when we are counting the number of successes in a fixed number of trials with a fixed probability of success. The Poisson distribution is appropriate when we are counting the number of rare events in a fixed interval of time or space, or when the number of events is very large and the probability of each event is very small.\n",
    "In some cases, the Poisson distribution can also be used to approximate the binomial distribution when the number of trials is large and the probability of success is small.(np = λ)"
   ]
  },
  {
   "cell_type": "markdown",
   "id": "c140270a-ee49-4ad1-bd8d-a661c9630372",
   "metadata": {},
   "source": [
    "### --------------------------------------------------------------------------------------------------------------"
   ]
  },
  {
   "cell_type": "markdown",
   "id": "d75f80ed-cefc-49fb-bed3-2d552bb87df8",
   "metadata": {},
   "source": [
    "#### Q8. Generate a random sample of size 1000 from a Poisson distribution with mean 5 and calculate the sample mean and variance"
   ]
  },
  {
   "cell_type": "code",
   "execution_count": 21,
   "id": "009abaed-4d0a-4c5b-b197-6a672350392f",
   "metadata": {},
   "outputs": [
    {
     "name": "stdout",
     "output_type": "stream",
     "text": [
      "[ 4  6  4  5  6  4  7  8  6  5  8  4  5  5  8  6  9  2  7  7  6  6  6  5\n",
      "  8  4  3  4  7  8  4  2  7  6  3  3  5  6  2  3  3  8  4  6  9  5  4  5\n",
      "  8  3  3  9  1  6  7  3  7  8  5  2  7  0  4  2  1  6  4 12  3  3  5  2\n",
      "  4  5  6  3  4  3  8  2  2  3  4  5  2  7  6  8  5  4  5  1  8  5  5  5\n",
      "  8  3  5  2  7  2  6  6  5  6  7  5  3  5  4  5  4  3  6  9  5  3  2  5\n",
      "  6  5  2  3  5  1  6  7 10  4  5  6  8  4  3  5  8  5  2  5  6  5  8  6\n",
      "  5  5  9  3  3  3  3  7  4  1  4  3  5  3  4  6  6  5  5 11  6  3  5  4\n",
      "  4  6  8  7  1  1  9  2 10  3  9  5  5  2  5  5  8  5  4  5  4  7  4  1\n",
      "  7  9  6  4  7  6  8  5  4  3  6  6  2  3  7  7  9  6  6  3  4  7  6  6\n",
      "  5  2  5  7  5  4  0  2  7  9  4  3  7  7  2  4  4  5  3  8 12  4  1  5\n",
      "  5  3  5  8  3  5  6  4  8  4  5  5  3  3  4  3  4  4  4  3  2  6  7  9\n",
      "  4  5  4  4  6  3  0  6  8  5 13  1  4  5  8  5  6 11  0  7  3  6  6  2\n",
      "  3  4  7  3  4  5  8  7  5  2  7  3  4  7  5  7  4  9  4  2  8  5  5  4\n",
      "  7  4  2  3  3  6  3  8  2  5  2  4  5  4  5  1  4  5  3  6  4  5  5  2\n",
      "  6  6  3  6  2  7  4  2  0  7  4  5  5 10  5  1  4  4  8  6  3  6  4  8\n",
      "  2  4  5  4  7  5  6  6  5  3  4 10  6  6  6  5  6  2  7  8  2  6  6  5\n",
      "  6  6 11  4  1  3  6  9  6  9  7  4  7  6  6  8  2  5  2 10  8  2  8  7\n",
      "  6  6  8  3  5  4  3  4  4  3  6  6  7  6  3 11  7  8  5  6  1  4  4  4\n",
      "  6  3  7  6  7  6  1  7  8  5  7  2  3  5  7  3  2  4  2  4  9  9  7  8\n",
      "  4  2  3  7  4  8  5  5  7  1  4  3  5  2  6  5 11  3  1  7  6  9  6  5\n",
      "  1  2  6  5  4  3  4  4  6  9  7  3  5  6  0  6  4  3  7  3  3  3  4  6\n",
      "  4  5  3  5  9  8  5  4  3  6  7  7  6  4  8  5  4  6  5  5  2  5  6  5\n",
      "  8  4  4  3  2  5  6  4  4  9  7  5  4  4  7  4  7  8  7  2  8  5  6  7\n",
      "  5  3  3  5  4  6  8  8  2 10  6  5  3  6  4  9  5  1  5  2  5  6  6  4\n",
      "  5  4  3  3  8  4  7  5 14  5  2  3  7  4  7  8  3  7  5  2  4  6  8  1\n",
      "  5  3  4  3  5  4  6  2  2  9  4  3  1  3  3  7  6  4  5  4  2  4  5  4\n",
      "  3 10  3  6  5  8  4  8  4  5  1  2  7  4  5  5  5  5  8  6  5  5 11  5\n",
      "  7  4  2  3  3  3  5  4  6  5  5  3  3  6  5  3  7  5  6  5  8  6  3  8\n",
      "  5  2  6  2  3  4  2  6  4  8  3  6  4  3  7  6  8  7  5  1  3  7  6  2\n",
      "  2  5  5  3  4 11  4  2  6  4  5  3  4  4  7  5  4  7  2  5  3  6  3  8\n",
      "  1  6  5  7  4  3  3  5  5  8  5  6  5  4  5  3  7  1  7  6  3  0  6  5\n",
      "  2  4  4  8  6  3  3  5  5  5  5  2  2  6  7  6  5  5  5  5  4  5  1  2\n",
      "  5  8  2  4  0  1  3  5  7  2  6  5  2  2  2  3  6  5  3  7  6  3  5  7\n",
      "  2  5  7  8  1  8  5  4  4  3  4  2  5  7  2  6  5  7  6  3  2  6  6  4\n",
      "  2  4  9  3  2  7  3  2  3  5 10  3  5  4  6  4  6  6  5  4  7  4  5  9\n",
      "  9  2  9  4  6  8  5  6  5  5  5  6  7  9  4  6  5  3  3  5  6  6 10  8\n",
      "  3  7  5 13  4  3  7 12  5  6  3  8  6  6  4  6  3  3  5  7  4  6  3  9\n",
      "  4  6  5  8  3  6  7  2  2  6  5  7  5  3  2  4 10  3  1  4  5  1  4  5\n",
      "  2  1  6  7  5  6  7  5  4  3 10  8  4  8  3  5  5  3  6  7  4  2  6  1\n",
      "  3  7  4 10  3  3  5  6  3  6  1  4  3  4  5  3  7  4  4  6  6  7  4  5\n",
      "  6  0  6  5  4  6  6  3  9 10  3  5  5  3  6  4  2  4  4  4  5  8  3  3\n",
      "  4  6  5  8  7  3  3  4 10  3  3  8  4  4  3  5]\n",
      "Sample Mean: 4.945\n",
      "Sample Variance: 4.836811811811812\n"
     ]
    }
   ],
   "source": [
    "import numpy as np\n",
    "\n",
    "mean = 5\n",
    "sample = np.random.poisson(mean, size=1000)\n",
    "print(sample)\n",
    "sample_mean = np.mean(sample)\n",
    "sample_var = np.var(sample, ddof=1)  ##Bessel's correction\n",
    "print(\"Sample Mean:\", sample_mean)\n",
    "print(\"Sample Variance:\", sample_var)"
   ]
  },
  {
   "cell_type": "markdown",
   "id": "762186a7-c578-40b9-a4f5-230bf2898797",
   "metadata": {},
   "source": [
    "### --------------------------------------------------------------------------------------------------------------"
   ]
  },
  {
   "cell_type": "markdown",
   "id": "1cffc898-3abf-4aae-96c8-43f6f12a16e7",
   "metadata": {},
   "source": [
    "#### Q9. How mean and variance are related in Binomial distribution and Poisson distribution"
   ]
  },
  {
   "cell_type": "markdown",
   "id": "b4b35abc-9b35-4a8c-b802-f3c9becdfc70",
   "metadata": {},
   "source": [
    "Ans -> \n",
    "     \n",
    "     In the binomial distribution, the mean and variance are related by the formula:\n",
    "        mean = n * p\n",
    "        variance = n * p * (1 - p)\n",
    "    \n",
    "    In the Poisson distribution, the mean and variance are equal and are given by:\n",
    "        mean = variance = λ\n",
    "        "
   ]
  },
  {
   "cell_type": "markdown",
   "id": "a89b9ee9-630d-4364-8850-9bf69f69c2cb",
   "metadata": {},
   "source": [
    "### --------------------------------------------------------------------------------------------------------------"
   ]
  },
  {
   "cell_type": "markdown",
   "id": "7a5a06d5-e7eb-449d-a888-2b3d09d284c4",
   "metadata": {},
   "source": [
    "#### Q10. In normal distribution with respect to mean position, where does the least frequent data appear"
   ]
  },
  {
   "cell_type": "markdown",
   "id": "45644703-425d-4d07-ae5e-0c8585c3b60b",
   "metadata": {},
   "source": [
    "Ans -> In a normal distribution, the least frequent data appears at the tails of the distribution. The normal distribution is a bell-shaped curve that is symmetric around its mean. The mean of the distribution represents the center of the curve and is the point at which the distribution is the highest.\n",
    "\n",
    "As we move away from the mean towards the tails of the distribution, the frequency of the data decreases. The tails of the distribution represent the extreme values, which are less likely to occur than values near the mean. The area under the curve between the mean and a certain number of standard deviations away from the mean represents the proportion of data that falls within that range. For example, in a standard normal distribution, about 68% of the data falls within one standard deviation of the mean, about 95% of the data falls within two standard deviations of the mean, and about 99.7% of the data falls within three standard deviations of the mean.\n",
    "\n",
    "Therefore, the least frequent data in a normal distribution appears in the tails of the distribution, which are farthest away from the mean."
   ]
  }
 ],
 "metadata": {
  "kernelspec": {
   "display_name": "Python 3 (ipykernel)",
   "language": "python",
   "name": "python3"
  },
  "language_info": {
   "codemirror_mode": {
    "name": "ipython",
    "version": 3
   },
   "file_extension": ".py",
   "mimetype": "text/x-python",
   "name": "python",
   "nbconvert_exporter": "python",
   "pygments_lexer": "ipython3",
   "version": "3.10.8"
  }
 },
 "nbformat": 4,
 "nbformat_minor": 5
}
