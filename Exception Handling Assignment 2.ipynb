{
 "cells": [
  {
   "cell_type": "markdown",
   "id": "b8ca9e09-5ca1-4a33-b863-58371c188c8d",
   "metadata": {},
   "source": [
    "## Exception Handling Assignment 2"
   ]
  },
  {
   "cell_type": "markdown",
   "id": "33ccf92c-e61e-4909-80f2-bbd9af528bad",
   "metadata": {},
   "source": [
    "### -------------------------------------------------------------------------"
   ]
  },
  {
   "cell_type": "code",
   "execution_count": 1,
   "id": "1d8070e4-ef8b-44eb-a4da-edfb66e74471",
   "metadata": {},
   "outputs": [],
   "source": [
    "import logging \n",
    "\n",
    "logging.basicConfig(filename = 'Assign13Feb.log' , level = logging.INFO)"
   ]
  },
  {
   "cell_type": "markdown",
   "id": "e49383e7-b29c-4fa2-b09f-7e22f9402e70",
   "metadata": {},
   "source": [
    "#### Q1. Explain why we have to use the Exception class while creating a Custom Exception.\n",
    "#### Note: Here Exception class refers to the base class for all the exceptions."
   ]
  },
  {
   "cell_type": "markdown",
   "id": "18f9b7d7-bada-4ae1-bbc1-ec88582a4c85",
   "metadata": {},
   "source": [
    "Ans -> Custom Exception class takes the base Exception class as its parent class to inherit all of its method and also to get accepted as a valid exception when used in try - except block."
   ]
  },
  {
   "cell_type": "code",
   "execution_count": 18,
   "id": "98f72a84-52b8-4ae3-9d5b-0a3bede46919",
   "metadata": {},
   "outputs": [],
   "source": [
    "class validateMarks(Exception):\n",
    "    def __init__(self,msg):\n",
    "        self.msg = msg"
   ]
  },
  {
   "cell_type": "code",
   "execution_count": 19,
   "id": "b21c22d7-b520-4500-aad5-2514db82bb8d",
   "metadata": {},
   "outputs": [],
   "source": [
    "def marksChecker(n):\n",
    "    \n",
    "    if(n<0):\n",
    "        \n",
    "        raise validateMarks('Marks cannot be negative - you cannot be that bad')\n",
    "    elif(n>100):\n",
    "        \n",
    "        raise validateMarks('Marks cannot be greater than 100 - you cannot be that good')\n",
    "    else:\n",
    "        print('Thanks, your marks = {} ,has been entered in the document'.format(n))\n",
    "        "
   ]
  },
  {
   "cell_type": "code",
   "execution_count": 20,
   "id": "d4850e15-2fd2-488a-bb50-39f3ad4dad9d",
   "metadata": {},
   "outputs": [
    {
     "name": "stdin",
     "output_type": "stream",
     "text": [
      "Enter your marks : -8\n"
     ]
    },
    {
     "name": "stdout",
     "output_type": "stream",
     "text": [
      "Marks cannot be negative - you cannot be that bad\n"
     ]
    }
   ],
   "source": [
    "try:\n",
    "    marks = int(input(\"Enter your marks :\"))\n",
    "    marksChecker(marks)\n",
    "    \n",
    "except validateMarks as e:\n",
    "    logging.warning(e)\n",
    "    print(e)\n",
    "    "
   ]
  },
  {
   "cell_type": "markdown",
   "id": "a0c704e7-dc00-4538-a4e9-d81b75d44da4",
   "metadata": {},
   "source": [
    "### -------------------------------------------------------------------------"
   ]
  },
  {
   "cell_type": "markdown",
   "id": "5af5cd84-13a1-43ae-886c-1d91b818aad9",
   "metadata": {},
   "source": [
    "#### Q2. Write a python program to print Python Exception Hierarchy."
   ]
  },
  {
   "cell_type": "code",
   "execution_count": 17,
   "id": "2f3c31e4-061f-42d2-ab2c-8ff3d0b222cd",
   "metadata": {},
   "outputs": [
    {
     "name": "stdout",
     "output_type": "stream",
     "text": [
      "> BaseException\n",
      "---> Exception\n",
      "------> TypeError\n",
      "---------> FloatOperation\n",
      "---------> MultipartConversionError\n",
      "------> StopAsyncIteration\n",
      "------> StopIteration\n",
      "------> ImportError\n",
      "---------> ModuleNotFoundError\n",
      "---------> ZipImportError\n",
      "------> OSError\n",
      "---------> ConnectionError\n",
      "------------> BrokenPipeError\n",
      "------------> ConnectionAbortedError\n",
      "------------> ConnectionRefusedError\n",
      "------------> ConnectionResetError\n",
      "---------------> RemoteDisconnected\n",
      "---------> BlockingIOError\n",
      "---------> ChildProcessError\n",
      "---------> FileExistsError\n",
      "---------> FileNotFoundError\n",
      "---------> IsADirectoryError\n",
      "---------> NotADirectoryError\n",
      "---------> InterruptedError\n",
      "------------> InterruptedSystemCall\n",
      "---------> PermissionError\n",
      "---------> ProcessLookupError\n",
      "---------> TimeoutError\n",
      "---------> UnsupportedOperation\n",
      "---------> itimer_error\n",
      "---------> herror\n",
      "---------> gaierror\n",
      "---------> SSLError\n",
      "------------> SSLCertVerificationError\n",
      "------------> SSLZeroReturnError\n",
      "------------> SSLWantWriteError\n",
      "------------> SSLWantReadError\n",
      "------------> SSLSyscallError\n",
      "------------> SSLEOFError\n",
      "---------> Error\n",
      "------------> SameFileError\n",
      "---------> SpecialFileError\n",
      "---------> ExecError\n",
      "---------> ReadError\n",
      "---------> URLError\n",
      "------------> HTTPError\n",
      "------------> ContentTooShortError\n",
      "---------> BadGzipFile\n",
      "------> EOFError\n",
      "---------> IncompleteReadError\n",
      "------> RuntimeError\n",
      "---------> RecursionError\n",
      "---------> NotImplementedError\n",
      "------------> ZMQVersionError\n",
      "------------> StdinNotImplementedError\n",
      "---------> _DeadlockError\n",
      "---------> BrokenBarrierError\n",
      "---------> BrokenExecutor\n",
      "------------> BrokenThreadPool\n",
      "---------> SendfileNotAvailableError\n",
      "---------> ExtractionError\n",
      "---------> VariableError\n",
      "------> NameError\n",
      "---------> UnboundLocalError\n",
      "------> AttributeError\n",
      "---------> FrozenInstanceError\n",
      "------> SyntaxError\n",
      "---------> IndentationError\n",
      "------------> TabError\n",
      "------> LookupError\n",
      "---------> IndexError\n",
      "---------> KeyError\n",
      "------------> NoSuchKernel\n",
      "------------> UnknownBackend\n",
      "---------> CodecRegistryError\n",
      "------> ValueError\n",
      "---------> UnicodeError\n",
      "------------> UnicodeEncodeError\n",
      "------------> UnicodeDecodeError\n",
      "------------> UnicodeTranslateError\n",
      "---------> UnsupportedOperation\n",
      "---------> JSONDecodeError\n",
      "---------> SSLCertVerificationError\n",
      "---------> Error\n",
      "---------> UnsupportedDigestmodError\n",
      "---------> IllegalMonthError\n",
      "---------> IllegalWeekdayError\n",
      "---------> ParserError\n",
      "---------> ClassNotFound\n",
      "---------> ClipboardEmpty\n",
      "---------> MessageDefect\n",
      "------------> NoBoundaryInMultipartDefect\n",
      "------------> StartBoundaryNotFoundDefect\n",
      "------------> CloseBoundaryNotFoundDefect\n",
      "------------> FirstHeaderLineIsContinuationDefect\n",
      "------------> MisplacedEnvelopeHeaderDefect\n",
      "------------> MissingHeaderBodySeparatorDefect\n",
      "------------> MultipartInvariantViolationDefect\n",
      "------------> InvalidMultipartContentTransferEncodingDefect\n",
      "------------> UndecodableBytesDefect\n",
      "------------> InvalidBase64PaddingDefect\n",
      "------------> InvalidBase64CharactersDefect\n",
      "------------> InvalidBase64LengthDefect\n",
      "------------> HeaderDefect\n",
      "---------------> InvalidHeaderDefect\n",
      "---------------> HeaderMissingRequiredValue\n",
      "---------------> NonPrintableDefect\n",
      "---------------> ObsoleteHeaderDefect\n",
      "---------------> NonASCIILocalPartDefect\n",
      "---------------> InvalidDateDefect\n",
      "---------> MacroToEdit\n",
      "---------> InvalidFileException\n",
      "---------> UnequalIterablesError\n",
      "---------> InvalidVersion\n",
      "---------> _InvalidELFFileHeader\n",
      "---------> InvalidWheelFilename\n",
      "---------> InvalidSdistFilename\n",
      "---------> InvalidSpecifier\n",
      "---------> InvalidMarker\n",
      "---------> UndefinedComparison\n",
      "---------> UndefinedEnvironmentName\n",
      "---------> InvalidRequirement\n",
      "------------> RequirementParseError\n",
      "---------> InvalidVersion\n",
      "------> AssertionError\n",
      "------> ArithmeticError\n",
      "---------> FloatingPointError\n",
      "---------> OverflowError\n",
      "---------> ZeroDivisionError\n",
      "------------> DivisionByZero\n",
      "------------> DivisionUndefined\n",
      "---------> DecimalException\n",
      "------------> Clamped\n",
      "------------> Rounded\n",
      "---------------> Underflow\n",
      "---------------> Overflow\n",
      "------------> Inexact\n",
      "---------------> Underflow\n",
      "---------------> Overflow\n",
      "------------> Subnormal\n",
      "---------------> Underflow\n",
      "------------> DivisionByZero\n",
      "------------> FloatOperation\n",
      "------------> InvalidOperation\n",
      "---------------> ConversionSyntax\n",
      "---------------> DivisionImpossible\n",
      "---------------> DivisionUndefined\n",
      "---------------> InvalidContext\n",
      "------> SystemError\n",
      "---------> CodecRegistryError\n",
      "------> ReferenceError\n",
      "------> MemoryError\n",
      "------> BufferError\n",
      "------> Warning\n",
      "---------> UserWarning\n",
      "------------> GetPassWarning\n",
      "------------> FormatterWarning\n",
      "---------> EncodingWarning\n",
      "---------> DeprecationWarning\n",
      "------------> ProvisionalWarning\n",
      "---------> PendingDeprecationWarning\n",
      "---------> SyntaxWarning\n",
      "---------> RuntimeWarning\n",
      "------------> ProactorSelectorThreadWarning\n",
      "------------> UnknownTimezoneWarning\n",
      "------------> PEP440Warning\n",
      "---------> FutureWarning\n",
      "------------> ProvisionalCompleterWarning\n",
      "---------> ImportWarning\n",
      "---------> UnicodeWarning\n",
      "---------> BytesWarning\n",
      "---------> ResourceWarning\n",
      "---------> DeprecatedTzFormatWarning\n",
      "---------> PkgResourcesDeprecationWarning\n",
      "------> _OptionError\n",
      "------> _Error\n",
      "------> error\n",
      "------> Verbose\n",
      "------> Error\n",
      "------> SubprocessError\n",
      "---------> CalledProcessError\n",
      "---------> TimeoutExpired\n",
      "------> TokenError\n",
      "------> StopTokenizing\n",
      "------> ClassFoundException\n",
      "------> EndOfBlock\n",
      "------> TraitError\n",
      "------> Error\n",
      "------> Error\n",
      "---------> CancelledError\n",
      "---------> TimeoutError\n",
      "---------> InvalidStateError\n",
      "------> _GiveupOnSendfile\n",
      "------> error\n",
      "------> Incomplete\n",
      "------> TimeoutError\n",
      "------> InvalidStateError\n",
      "------> LimitOverrunError\n",
      "------> QueueEmpty\n",
      "------> QueueFull\n",
      "------> Empty\n",
      "------> Full\n",
      "------> ArgumentError\n",
      "------> ZMQBaseError\n",
      "---------> ZMQError\n",
      "------------> ContextTerminated\n",
      "------------> Again\n",
      "------------> InterruptedSystemCall\n",
      "---------> ZMQBindError\n",
      "---------> NotDone\n",
      "------> PickleError\n",
      "---------> PicklingError\n",
      "---------> UnpicklingError\n",
      "------> _Stop\n",
      "------> ArgumentError\n",
      "------> ArgumentTypeError\n",
      "------> ConfigError\n",
      "---------> ConfigLoaderError\n",
      "------------> ArgumentError\n",
      "---------> ConfigFileNotFound\n",
      "------> ConfigurableError\n",
      "---------> MultipleInstanceError\n",
      "------> ApplicationError\n",
      "------> error\n",
      "------> TimeoutError\n",
      "------> error\n",
      "------> ReturnValueIgnoredError\n",
      "------> KeyReuseError\n",
      "------> UnknownKeyError\n",
      "------> LeakedCallbackError\n",
      "------> BadYieldError\n",
      "------> ReturnValueIgnoredError\n",
      "------> Return\n",
      "------> InvalidPortNumber\n",
      "------> error\n",
      "------> LZMAError\n",
      "------> RegistryError\n",
      "------> _GiveupOnFastCopy\n",
      "------> Error\n",
      "---------> NoSectionError\n",
      "---------> DuplicateSectionError\n",
      "---------> DuplicateOptionError\n",
      "---------> NoOptionError\n",
      "---------> InterpolationError\n",
      "------------> InterpolationMissingOptionError\n",
      "------------> InterpolationSyntaxError\n",
      "------------> InterpolationDepthError\n",
      "---------> ParsingError\n",
      "------------> MissingSectionHeaderError\n",
      "------> NoIPAddresses\n",
      "------> BadZipFile\n",
      "------> LargeZipFile\n",
      "------> BadEntryPoint\n",
      "------> NoSuchEntryPoint\n",
      "------> DuplicateKernelError\n",
      "------> ErrorDuringImport\n",
      "------> NotOneValueFound\n",
      "------> CannotEval\n",
      "------> OptionError\n",
      "------> BdbQuit\n",
      "------> Restart\n",
      "------> ExceptionPexpect\n",
      "---------> EOF\n",
      "---------> TIMEOUT\n",
      "------> PtyProcessError\n",
      "------> FindCmdError\n",
      "------> HomeDirError\n",
      "------> ProfileDirError\n",
      "------> IPythonCoreError\n",
      "---------> TryNext\n",
      "---------> UsageError\n",
      "---------> StdinNotImplementedError\n",
      "------> InputRejected\n",
      "------> GetoptError\n",
      "------> ErrorToken\n",
      "------> PrefilterError\n",
      "------> AliasError\n",
      "---------> InvalidAliasError\n",
      "------> Error\n",
      "---------> InterfaceError\n",
      "---------> DatabaseError\n",
      "------------> InternalError\n",
      "------------> OperationalError\n",
      "------------> ProgrammingError\n",
      "------------> IntegrityError\n",
      "------------> DataError\n",
      "------------> NotSupportedError\n",
      "------> Warning\n",
      "------> SpaceInInput\n",
      "------> DOMException\n",
      "---------> IndexSizeErr\n",
      "---------> DomstringSizeErr\n",
      "---------> HierarchyRequestErr\n",
      "---------> WrongDocumentErr\n",
      "---------> InvalidCharacterErr\n",
      "---------> NoDataAllowedErr\n",
      "---------> NoModificationAllowedErr\n",
      "---------> NotFoundErr\n",
      "---------> NotSupportedErr\n",
      "---------> InuseAttributeErr\n",
      "---------> InvalidStateErr\n",
      "---------> SyntaxErr\n",
      "---------> InvalidModificationErr\n",
      "---------> NamespaceErr\n",
      "---------> InvalidAccessErr\n",
      "---------> ValidationErr\n",
      "------> ValidationError\n",
      "------> EditReadOnlyBuffer\n",
      "------> _Retry\n",
      "------> InvalidLayoutError\n",
      "------> HeightIsUnknownError\n",
      "------> ParserSyntaxError\n",
      "------> InternalParseError\n",
      "------> _PositionUpdatingFinished\n",
      "------> SimpleGetItemNotFound\n",
      "------> UncaughtAttributeError\n",
      "------> HasNoContext\n",
      "------> ParamIssue\n",
      "------> _JediError\n",
      "---------> InternalError\n",
      "---------> WrongVersion\n",
      "---------> RefactoringError\n",
      "------> OnErrorLeaf\n",
      "------> InvalidPythonEnvironment\n",
      "------> MessageError\n",
      "---------> MessageParseError\n",
      "------------> HeaderParseError\n",
      "------------> BoundaryError\n",
      "---------> MultipartConversionError\n",
      "---------> CharsetError\n",
      "------> Error\n",
      "------> HTTPException\n",
      "---------> NotConnected\n",
      "---------> InvalidURL\n",
      "---------> UnknownProtocol\n",
      "---------> UnknownTransferEncoding\n",
      "---------> UnimplementedFileMode\n",
      "---------> IncompleteRead\n",
      "---------> ImproperConnectionState\n",
      "------------> CannotSendRequest\n",
      "------------> CannotSendHeader\n",
      "------------> ResponseNotReady\n",
      "---------> BadStatusLine\n",
      "------------> RemoteDisconnected\n",
      "---------> LineTooLong\n",
      "------> InteractivelyDefined\n",
      "------> KillEmbedded\n",
      "------> Error\n",
      "---------> NoSuchProcess\n",
      "------------> ZombieProcess\n",
      "---------> AccessDenied\n",
      "---------> TimeoutExpired\n",
      "------> _Ipv6UnsupportedError\n",
      "------> QueueEmpty\n",
      "------> QueueFull\n",
      "------> DebuggerInitializationError\n",
      "------> ExpatError\n",
      "------> Error\n",
      "---------> ProtocolError\n",
      "---------> ResponseError\n",
      "---------> Fault\n",
      "------> ParseBaseException\n",
      "---------> ParseException\n",
      "---------> ParseFatalException\n",
      "------------> ParseSyntaxException\n",
      "------> RecursiveGrammarException\n",
      "------> ResolutionError\n",
      "---------> VersionConflict\n",
      "------------> ContextualVersionConflict\n",
      "---------> DistributionNotFound\n",
      "---------> UnknownExtra\n",
      "------> _Error\n",
      "------> UnableToResolveVariableException\n",
      "------> InvalidTypeInArgsException\n",
      "---> GeneratorExit\n",
      "---> SystemExit\n",
      "---> KeyboardInterrupt\n",
      "---> CancelledError\n",
      "---> AbortThread\n"
     ]
    }
   ],
   "source": [
    "import inspect\n",
    "  \n",
    "def treeClass(cls, ind = 0):\n",
    "    print ('-' * ind +'>', cls.__name__)\n",
    "    for i in cls.__subclasses__():\n",
    "        treeClass(i, ind + 3)\n",
    "  \n",
    "inspect.getclasstree(inspect.getmro(BaseException))  \n",
    "treeClass(BaseException)"
   ]
  },
  {
   "cell_type": "markdown",
   "id": "b7cb75c1-3247-4c9d-a930-49ecf6aa2ceb",
   "metadata": {},
   "source": [
    "### -------------------------------------------------------------------------"
   ]
  },
  {
   "cell_type": "markdown",
   "id": "20196078-259f-4efc-85f8-be29c7a19f52",
   "metadata": {},
   "source": [
    "#### Q3. What errors are defined in the ArithmeticError class? Explain any two with an example."
   ]
  },
  {
   "cell_type": "markdown",
   "id": "259b89b1-2cc0-42a0-8919-8cc47c2ca602",
   "metadata": {},
   "source": [
    "Ans -> ArithmeticError class contains errors that occurs while performing mathematical operations.\n",
    "Two such errors are : \n",
    "\n",
    "- ZeroDivisionError\n",
    "- OverflowError"
   ]
  },
  {
   "cell_type": "markdown",
   "id": "e22e518b-6213-4b19-bb7f-c3693dff4e9f",
   "metadata": {},
   "source": [
    " ZeroDivisionError ocuurs when a number is divided by 0."
   ]
  },
  {
   "cell_type": "code",
   "execution_count": 24,
   "id": "f63fbc9f-da4b-45ba-a1ef-196205009de0",
   "metadata": {},
   "outputs": [
    {
     "name": "stdout",
     "output_type": "stream",
     "text": [
      "division by zero\n"
     ]
    }
   ],
   "source": [
    "try :\n",
    "    10/0\n",
    "except ZeroDivisionError as e :\n",
    "    logging.error(\"this is my zero dedision error i am handling {} \".format(e))\n",
    "    print(e)"
   ]
  },
  {
   "cell_type": "markdown",
   "id": "4e30a128-41bd-4461-bf8f-e76f3947ecd5",
   "metadata": {},
   "source": [
    " OverflowError occurs when any operations like arithmetic operations or any other variable storing any value above its limit then there occurs an overflow of values that will exceed it’s specified or already defined limit."
   ]
  },
  {
   "cell_type": "code",
   "execution_count": 4,
   "id": "60afd15b-627c-414c-b76e-bda0f5691482",
   "metadata": {},
   "outputs": [
    {
     "name": "stdout",
     "output_type": "stream",
     "text": [
      "Exceeds the limit (4300) for integer string conversion; use sys.set_int_max_str_digits() to increase the limit\n"
     ]
    }
   ],
   "source": [
    "try:\n",
    "    a = pow(5,10000)\n",
    "    print(a)\n",
    "except Exception as e:\n",
    "    print(e)"
   ]
  },
  {
   "cell_type": "markdown",
   "id": "f3f4543f-3920-464d-879d-73bdf0765ce3",
   "metadata": {},
   "source": [
    "### -------------------------------------------------------------------------"
   ]
  },
  {
   "cell_type": "markdown",
   "id": "b242f28f-3e08-4d74-b8c0-080ce5776c75",
   "metadata": {},
   "source": [
    "#### Q4. Why LookupError class is used? Explain with an example KeyError and IndexError."
   ]
  },
  {
   "cell_type": "markdown",
   "id": "d1373a58-6d05-4042-ad1e-e2e7d22c70c0",
   "metadata": {},
   "source": [
    "Ans -> LookupError Exception is the Base class for errors raised when something can’t be found. The base class for the exceptions that are raised when a key or index used on a mapping or sequence is invalid: It has subclasses KeyError and IndexError.\n",
    "\n",
    "An IndexError is raised when a sequence reference is out of range.\n",
    "\n",
    "A KeyError is raised when a value is not found as a key of a dictionary. \n",
    "\n"
   ]
  },
  {
   "cell_type": "code",
   "execution_count": 21,
   "id": "351a0a14-9b98-4f11-bcc0-d6770c6436fb",
   "metadata": {},
   "outputs": [
    {
     "name": "stdin",
     "output_type": "stream",
     "text": [
      "Enter your roll no 6\n"
     ]
    },
    {
     "name": "stdout",
     "output_type": "stream",
     "text": [
      "Kindly enter valid roll number  list index out of range\n"
     ]
    }
   ],
   "source": [
    "## Example\n",
    "\n",
    "try:\n",
    "    l=[89,67,78,45,93]\n",
    "    roll = int(input('Enter your roll no'))\n",
    "    print('Your result is: {} marks'.format(l[roll+1]))\n",
    "except IndexError as e:\n",
    "    print('Kindly enter valid roll number ',e)"
   ]
  },
  {
   "cell_type": "code",
   "execution_count": 23,
   "id": "d8063d1d-354b-4304-b20f-07a596668876",
   "metadata": {},
   "outputs": [
    {
     "name": "stdout",
     "output_type": "stream",
     "text": [
      "city is not available \n",
      "Error : 'city'\n"
     ]
    }
   ],
   "source": [
    "## Example\n",
    "\n",
    "try:\n",
    "    d = {'name':'Aryav','age':'23','state':'M.P'}\n",
    "    s = 'city'\n",
    "    print(d[s])\n",
    "except KeyError as e:\n",
    "    print('{} is not available '.format(s))\n",
    "    print('Error :',e)"
   ]
  },
  {
   "cell_type": "markdown",
   "id": "a7f122f3-e3b1-46ca-807b-79add9fc0750",
   "metadata": {},
   "source": [
    "### -------------------------------------------------------------------------"
   ]
  },
  {
   "cell_type": "markdown",
   "id": "69220ec2-5f97-4e28-a518-e71735c88c58",
   "metadata": {},
   "source": [
    "#### Q5. Explain ImportError. What is ModuleNotFoundError?"
   ]
  },
  {
   "cell_type": "markdown",
   "id": "5a313071-da7e-4e70-8a87-e99d9a80310d",
   "metadata": {},
   "source": [
    "Ans -> ImportError is an exception which occurs when Python has problems with a successful module import. Usually this problem is caused by the incorrect path and is usually displayed with the message that there is “No module named (…)” or “cannot import name (…)”. \n",
    "ModuleNotFoundError is a subclass of ImportError which is raised when a Python module is not able to be found. This exception catches a much narrow range of faults than the parent exception ImportError."
   ]
  },
  {
   "cell_type": "code",
   "execution_count": 6,
   "id": "d4afa5a1-9295-4b13-ba6a-3b65bcf199b8",
   "metadata": {},
   "outputs": [
    {
     "name": "stdout",
     "output_type": "stream",
     "text": [
      "No module named 'res'\n"
     ]
    }
   ],
   "source": [
    "## Example\n",
    "\n",
    "try:\n",
    "    import res\n",
    "    \n",
    "except ImportError as e:\n",
    "    print(e)\n",
    "    "
   ]
  },
  {
   "cell_type": "markdown",
   "id": "02e2c7a1-d7fb-4bcc-8b2a-20578c333459",
   "metadata": {},
   "source": [
    "Sometimes in a project you have to create multiple directories containing multiple files/modules and when you need to use a function present in a different file/module then you need to import that module from the directory and call the function using dot(.) opertor on the module name. "
   ]
  },
  {
   "cell_type": "markdown",
   "id": "e60e8e45-f4d3-4f1a-a7d2-d8dfbafc9559",
   "metadata": {},
   "source": [
    " Example - here payment is a directory you have created in your project which has payment details file in it cotaing the Payment() function\n",
    "                    \n",
    "                    from payment import payment_details\n",
    "                        \n",
    "                        payment_details.Payment()"
   ]
  },
  {
   "cell_type": "markdown",
   "id": "6cb6b6e2-4001-4c81-936b-37c2aad17c58",
   "metadata": {},
   "source": [
    "But many a times importing module like this result in ModuleNotFoundError and to handle it we create __pycache__ file "
   ]
  },
  {
   "cell_type": "markdown",
   "id": "7afbadd1-1c94-41ed-8aa8-bbb91ddfe014",
   "metadata": {},
   "source": [
    "#### Example\n",
    "                    import os,sys\n",
    "                    from os.path import dirname , join , abspath\n",
    "                    sys.path.insert(0,abspath(join(dirname(__file__),'..')))\n",
    "\n",
    "\n",
    "                    from payment import payment_details\n",
    "                    payment_details.Payment()"
   ]
  },
  {
   "cell_type": "markdown",
   "id": "720204e5-fb1b-452c-967f-9d84bbc7454e",
   "metadata": {},
   "source": [
    "### -------------------------------------------------------------------------"
   ]
  },
  {
   "cell_type": "markdown",
   "id": "1b29e39b-1d4c-4e2f-9bc2-831da4f121b1",
   "metadata": {},
   "source": [
    "#### Q6. List down some best practices for exception handling in python."
   ]
  },
  {
   "cell_type": "markdown",
   "id": "968b3217-a2d5-483c-a290-d3b2cefa0e24",
   "metadata": {},
   "source": [
    "Ans -> 1. Always try to mention specific exception that you expect to occur rather than using the base Exception class"
   ]
  },
  {
   "cell_type": "code",
   "execution_count": 5,
   "id": "2346ad15-ba2e-4acf-8222-6708e12da8ea",
   "metadata": {},
   "outputs": [
    {
     "name": "stdout",
     "output_type": "stream",
     "text": [
      "Error:  [Errno 2] No such file or directory: 'abc.txt'\n"
     ]
    }
   ],
   "source": [
    "## Example:\n",
    "try:\n",
    "    f =  open('abc.txt','r')\n",
    "        \n",
    "except FileNotFoundError as e:\n",
    "    print('Error: ',e)\n",
    "    \n",
    "else:\n",
    "    data = f.read()\n",
    "    print(data)"
   ]
  },
  {
   "cell_type": "raw",
   "id": "c921222b-ba94-4ccf-ae7d-c1670a73738d",
   "metadata": {},
   "source": []
  },
  {
   "cell_type": "markdown",
   "id": "b2fbb22b-67f2-4a96-86d4-4cd661bfcb96",
   "metadata": {},
   "source": [
    "Ans -> 2. Always try to print some eaisly understandable message"
   ]
  },
  {
   "cell_type": "code",
   "execution_count": 6,
   "id": "51332f4f-49e3-4090-8cb1-6d89c48bd33e",
   "metadata": {},
   "outputs": [
    {
     "name": "stdout",
     "output_type": "stream",
     "text": [
      "Error No such file exit in working directory:  [Errno 2] No such file or directory: 'abc.txt'\n"
     ]
    }
   ],
   "source": [
    "## Example:\n",
    "try:\n",
    "    f =  open('abc.txt','r')\n",
    "        \n",
    "except FileNotFoundError as e:\n",
    "    print('Error No such file exit in working directory: ',e)\n",
    "    \n",
    "else:\n",
    "    data = f.read()\n",
    "    print(data)"
   ]
  },
  {
   "cell_type": "raw",
   "id": "0c158276-d1ef-4705-a924-e34ef7e73650",
   "metadata": {},
   "source": []
  },
  {
   "cell_type": "markdown",
   "id": "bd34802c-618c-418f-9151-2acebb378a2f",
   "metadata": {},
   "source": [
    "Ans -> 3. Always try to log all the excetions rather than printing in console. "
   ]
  },
  {
   "cell_type": "code",
   "execution_count": 7,
   "id": "c3cdfc7e-c8a9-4d25-b59d-ee2263f2f157",
   "metadata": {},
   "outputs": [
    {
     "name": "stdout",
     "output_type": "stream",
     "text": [
      "Error No such file exit in working directory:  [Errno 2] No such file or directory: 'abc.txt'\n"
     ]
    }
   ],
   "source": [
    "## Example:\n",
    "try:\n",
    "    f =  open('abc.txt','r')\n",
    "        \n",
    "except FileNotFoundError as e:\n",
    "    print('Error No such file exit in working directory: ',e)\n",
    "    logging.error(e)\n",
    "    \n",
    "else:\n",
    "    data = f.read()\n",
    "    print(data)"
   ]
  },
  {
   "cell_type": "code",
   "execution_count": null,
   "id": "61e4f986-bb31-4cdf-a9ac-b4e01b3714dc",
   "metadata": {},
   "outputs": [],
   "source": []
  },
  {
   "cell_type": "markdown",
   "id": "5f83ea7f-81c8-41d8-8e5a-5d080a62aa76",
   "metadata": {},
   "source": [
    "Ans -> 4. Always try to avoid writing multiple exception handling statements"
   ]
  },
  {
   "cell_type": "code",
   "execution_count": 11,
   "id": "20defe36-c962-45a5-bf40-7e92f8886dd4",
   "metadata": {},
   "outputs": [
    {
     "name": "stdout",
     "output_type": "stream",
     "text": [
      "division by zero\n"
     ]
    }
   ],
   "source": [
    "## Example\n",
    "try :\n",
    "    10/0\n",
    "except FileNotFoundError as e : \n",
    "    logging.error(\"this is my file not found  {} \".format(e))\n",
    "except AttributeError as e : \n",
    "    logging.error(\"this is my attribute error  {} \".format(e))\n",
    "except ZeroDivisionError as e :\n",
    "    logging.error(\"this is my zero dedision error i am handling {} \".format(e))\n",
    "    print(e)"
   ]
  },
  {
   "cell_type": "raw",
   "id": "f891eec9-a49d-4404-afa2-1474bfa05809",
   "metadata": {},
   "source": []
  },
  {
   "cell_type": "markdown",
   "id": "d746cd3b-6c8c-4be3-8f23-16374a3109d3",
   "metadata": {},
   "source": [
    "Ans -> 5. Always try to write those statements that necessarily need to be executed inspite of exceptions in finally block."
   ]
  },
  {
   "cell_type": "code",
   "execution_count": 12,
   "id": "830560fa-2d02-4b62-8401-c98c3e63211e",
   "metadata": {},
   "outputs": [
    {
     "name": "stdout",
     "output_type": "stream",
     "text": [
      "There is some issue with my code 'type' object is not iterable\n"
     ]
    }
   ],
   "source": [
    "try:\n",
    "    f = open(\"ab.txt\",\"w\")\n",
    "    lists = [1,2,3,4,5]\n",
    "    f.writelines(list)\n",
    "    \n",
    "    \n",
    "except Exception as e:\n",
    "    print(\"There is some issue with my code\",e)\n",
    "    \n",
    "finally:\n",
    "    f.close()   \n",
    "    "
   ]
  }
 ],
 "metadata": {
  "kernelspec": {
   "display_name": "Python 3 (ipykernel)",
   "language": "python",
   "name": "python3"
  },
  "language_info": {
   "codemirror_mode": {
    "name": "ipython",
    "version": 3
   },
   "file_extension": ".py",
   "mimetype": "text/x-python",
   "name": "python",
   "nbconvert_exporter": "python",
   "pygments_lexer": "ipython3",
   "version": "3.10.8"
  }
 },
 "nbformat": 4,
 "nbformat_minor": 5
}
