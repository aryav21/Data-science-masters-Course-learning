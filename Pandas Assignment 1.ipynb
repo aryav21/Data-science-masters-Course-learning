{
 "cells": [
  {
   "cell_type": "markdown",
   "id": "ca45f4ab-728c-438e-8983-6529bd567826",
   "metadata": {},
   "source": [
    "## Pandas Assignment 1\n"
   ]
  },
  {
   "cell_type": "markdown",
   "id": "51e4d67c-53d8-44ba-bac3-c5ca3c693b75",
   "metadata": {},
   "source": [
    "### --------------------------------------------------------------------"
   ]
  },
  {
   "cell_type": "code",
   "execution_count": 3,
   "id": "3c4ff8d2-307c-4d56-8f3b-975beb4a0bd9",
   "metadata": {},
   "outputs": [],
   "source": [
    "import pandas as pd"
   ]
  },
  {
   "cell_type": "markdown",
   "id": "5a073fc5-efbd-4bf8-a987-bb09eaf3c9dc",
   "metadata": {},
   "source": [
    "#### Q1. Create a Pandas Series that contains the following data: 4, 8, 15, 16, 23, and 42. Then, print the series."
   ]
  },
  {
   "cell_type": "code",
   "execution_count": 4,
   "id": "6e8f276b-2615-4d93-958b-95c883b79c68",
   "metadata": {},
   "outputs": [],
   "source": [
    "s = pd.Series([4,8,15,23,42])"
   ]
  },
  {
   "cell_type": "code",
   "execution_count": 6,
   "id": "3407eb5f-9d84-4731-a19b-4f6112f8b616",
   "metadata": {},
   "outputs": [
    {
     "name": "stdout",
     "output_type": "stream",
     "text": [
      "0     4\n",
      "1     8\n",
      "2    15\n",
      "3    23\n",
      "4    42\n",
      "dtype: int64\n",
      "<class 'pandas.core.series.Series'>\n"
     ]
    }
   ],
   "source": [
    "print(s)\n",
    "print(type(s))"
   ]
  },
  {
   "cell_type": "markdown",
   "id": "9af4f0cb-3960-4425-b1fa-f78af86eeff6",
   "metadata": {},
   "source": [
    "### --------------------------------------------------------------------"
   ]
  },
  {
   "cell_type": "markdown",
   "id": "aceb8091-a467-4192-8a16-b6e3a9d92dc5",
   "metadata": {},
   "source": [
    "#### Q2. Create a variable of list type containing 10 elements in it, and apply pandas.Series function on the\n",
    "#### variable print it."
   ]
  },
  {
   "cell_type": "code",
   "execution_count": 7,
   "id": "858e74b6-fddd-4663-8a64-e60fb009d19d",
   "metadata": {},
   "outputs": [],
   "source": [
    "ls = [i**2 for i in range(10)]"
   ]
  },
  {
   "cell_type": "code",
   "execution_count": 36,
   "id": "0937a5d2-1fda-41d5-8058-e8f3ed2c59e0",
   "metadata": {},
   "outputs": [
    {
     "name": "stdout",
     "output_type": "stream",
     "text": [
      "0     0\n",
      "1     1\n",
      "2     4\n",
      "3     9\n",
      "4    16\n",
      "5    25\n",
      "6    36\n",
      "7    49\n",
      "8    64\n",
      "9    81\n",
      "dtype: int64\n"
     ]
    }
   ],
   "source": [
    "print(pd.Series(ls))"
   ]
  },
  {
   "cell_type": "markdown",
   "id": "c3c0d50b-2e31-4e0c-92a3-d9c3f34a4918",
   "metadata": {},
   "source": [
    "### --------------------------------------------------------------------"
   ]
  },
  {
   "cell_type": "markdown",
   "id": "1338c524-1220-4c3d-b070-9787e8f95912",
   "metadata": {},
   "source": [
    "#### Q3. Create a Pandas DataFrame that contains the following data:\n"
   ]
  },
  {
   "cell_type": "code",
   "execution_count": 10,
   "id": "e45b10a4-b2e4-43af-889f-f03fa4dadff6",
   "metadata": {},
   "outputs": [],
   "source": [
    "data = {'Name':['Alice','Bob','Claire'] ,'Age':[25,30,27] ,'Gender':['Female','Male','Female']}"
   ]
  },
  {
   "cell_type": "code",
   "execution_count": 33,
   "id": "109d29db-1030-4d5f-99e5-dafbe7ef904c",
   "metadata": {},
   "outputs": [],
   "source": [
    "df = pd.DataFrame(data)"
   ]
  },
  {
   "cell_type": "code",
   "execution_count": 35,
   "id": "7f09ab57-eb85-4599-ae13-124839fb7770",
   "metadata": {},
   "outputs": [
    {
     "data": {
      "text/html": [
       "<div>\n",
       "<style scoped>\n",
       "    .dataframe tbody tr th:only-of-type {\n",
       "        vertical-align: middle;\n",
       "    }\n",
       "\n",
       "    .dataframe tbody tr th {\n",
       "        vertical-align: top;\n",
       "    }\n",
       "\n",
       "    .dataframe thead th {\n",
       "        text-align: right;\n",
       "    }\n",
       "</style>\n",
       "<table border=\"1\" class=\"dataframe\">\n",
       "  <thead>\n",
       "    <tr style=\"text-align: right;\">\n",
       "      <th></th>\n",
       "      <th>Name</th>\n",
       "      <th>Age</th>\n",
       "      <th>Gender</th>\n",
       "    </tr>\n",
       "  </thead>\n",
       "  <tbody>\n",
       "    <tr>\n",
       "      <th>0</th>\n",
       "      <td>Alice</td>\n",
       "      <td>25</td>\n",
       "      <td>Female</td>\n",
       "    </tr>\n",
       "    <tr>\n",
       "      <th>1</th>\n",
       "      <td>Bob</td>\n",
       "      <td>30</td>\n",
       "      <td>Male</td>\n",
       "    </tr>\n",
       "    <tr>\n",
       "      <th>2</th>\n",
       "      <td>Claire</td>\n",
       "      <td>27</td>\n",
       "      <td>Female</td>\n",
       "    </tr>\n",
       "  </tbody>\n",
       "</table>\n",
       "</div>"
      ],
      "text/plain": [
       "     Name  Age  Gender\n",
       "0   Alice   25  Female\n",
       "1     Bob   30    Male\n",
       "2  Claire   27  Female"
      ]
     },
     "execution_count": 35,
     "metadata": {},
     "output_type": "execute_result"
    }
   ],
   "source": [
    "df"
   ]
  },
  {
   "cell_type": "markdown",
   "id": "52ee64ac-629c-47eb-9f4c-d36c0d5407b9",
   "metadata": {},
   "source": [
    "### --------------------------------------------------------------------"
   ]
  },
  {
   "cell_type": "markdown",
   "id": "26d3c52e-41df-4a42-b81d-dc0530cec611",
   "metadata": {},
   "source": [
    "#### Q4. What is ‘DataFrame’ in pandas and how is it different from pandas.series? Explain with an example."
   ]
  },
  {
   "cell_type": "markdown",
   "id": "27fa7cfb-2959-4bee-b2b4-83d5e7e309ea",
   "metadata": {},
   "source": [
    "Ans -> In Pandas, a DataFrame is a two-dimensional table-like data structure consisting of rows and columns, similar to a spreadsheet or SQL table. Each column in a DataFrame can be of a different data type (e.g. integer, float, string, etc.). DataFrames are a fundamental data structure in Pandas and are commonly used for data manipulation and analysis.\n",
    "\n",
    "On the other hand, a Pandas Series is a one-dimensional labeled array capable of holding any data type (integers, strings, floating-point numbers, Python objects, etc.). The axis labels of a Series are collectively referred to as its index. Series are often used to represent a single column of data from a DataFrame or a single variable in a statistical model."
   ]
  },
  {
   "cell_type": "code",
   "execution_count": 16,
   "id": "40277a9f-f501-4fd0-a26e-a35a550f8e51",
   "metadata": {},
   "outputs": [
    {
     "data": {
      "text/html": [
       "<div>\n",
       "<style scoped>\n",
       "    .dataframe tbody tr th:only-of-type {\n",
       "        vertical-align: middle;\n",
       "    }\n",
       "\n",
       "    .dataframe tbody tr th {\n",
       "        vertical-align: top;\n",
       "    }\n",
       "\n",
       "    .dataframe thead th {\n",
       "        text-align: right;\n",
       "    }\n",
       "</style>\n",
       "<table border=\"1\" class=\"dataframe\">\n",
       "  <thead>\n",
       "    <tr style=\"text-align: right;\">\n",
       "      <th></th>\n",
       "      <th>Name</th>\n",
       "      <th>Age</th>\n",
       "      <th>Gender</th>\n",
       "    </tr>\n",
       "  </thead>\n",
       "  <tbody>\n",
       "    <tr>\n",
       "      <th>0</th>\n",
       "      <td>Alice</td>\n",
       "      <td>25</td>\n",
       "      <td>Female</td>\n",
       "    </tr>\n",
       "    <tr>\n",
       "      <th>1</th>\n",
       "      <td>Bob</td>\n",
       "      <td>30</td>\n",
       "      <td>Male</td>\n",
       "    </tr>\n",
       "    <tr>\n",
       "      <th>2</th>\n",
       "      <td>Claire</td>\n",
       "      <td>27</td>\n",
       "      <td>Female</td>\n",
       "    </tr>\n",
       "  </tbody>\n",
       "</table>\n",
       "</div>"
      ],
      "text/plain": [
       "     Name  Age  Gender\n",
       "0   Alice   25  Female\n",
       "1     Bob   30    Male\n",
       "2  Claire   27  Female"
      ]
     },
     "execution_count": 16,
     "metadata": {},
     "output_type": "execute_result"
    }
   ],
   "source": [
    "##Example for Dataframe\n",
    "df   "
   ]
  },
  {
   "cell_type": "code",
   "execution_count": 21,
   "id": "1761f0b9-20fe-466e-9235-8470cea30f43",
   "metadata": {},
   "outputs": [
    {
     "name": "stdout",
     "output_type": "stream",
     "text": [
      "0     Alice\n",
      "1       Bob\n",
      "2    Claire\n",
      "Name: Name, dtype: object\n",
      "<class 'pandas.core.series.Series'>\n"
     ]
    }
   ],
   "source": [
    "#Example of Series\n",
    "print(df['Name'])\n",
    "print(type(df['Name']))"
   ]
  },
  {
   "cell_type": "markdown",
   "id": "59efed5d-2e78-4484-ba8e-52b4b7074143",
   "metadata": {},
   "source": [
    "### --------------------------------------------------------------------"
   ]
  },
  {
   "cell_type": "markdown",
   "id": "fb76684a-62ad-4fb4-9993-3b4afa8eaea5",
   "metadata": {},
   "source": [
    "#### Q5. What are some common functions you can use to manipulate data in a Pandas DataFrame? Can\n",
    "#### you give an example of when you might use one of these functions?"
   ]
  },
  {
   "cell_type": "markdown",
   "id": "be77a1a5-38ae-46cf-a781-5eeb8540272d",
   "metadata": {},
   "source": [
    "Ans -> Some of the common functions for data manipulation in a dataframe are:\n",
    "\n",
    " - .columns\n",
    " \n",
    " To get all the columns headers name\n",
    " - .head() and .tail()\n",
    " \n",
    " To get first 5 or last 5 records(or any number of record depending on passed paremeter\n",
    " \n",
    " - .dtypes\n",
    " \n",
    " To get data types of all the columns\n",
    " \n",
    " - .to_csv('doc.csv')\n",
    " \n",
    " To import a csv file to local system\n",
    " \n",
    " - .describe() \n",
    " \n",
    " To get all the mathematical details of all numeric columns\n",
    " \n",
    " - len(df)\n",
    " \n",
    " To get number of records in a dataframe\n",
    " \n",
    " - .iloc[] and .loc[]\n",
    " \n",
    " To get selected record and selected columns\n",
    " \n",
    " - .drop('column_name'/row_index,inplac = True)\n",
    " \n",
    " To delete a row (axis = 0) or a column (axis = 1)\n",
    " \n",
    " - .set_index('column_name') and .reset_index\n",
    " \n",
    " To set a column as index and to reset to inbuilt indexing\n",
    " \n",
    " - .applymap(func)\n",
    " \n",
    " To apply some fuction on all the values in a dataframe\n",
    " \n",
    " - .T\n",
    " \n",
    " To Transpose\n",
    " \n",
    " - .dropna() and fillna()\n",
    " \n",
    " To remove a row(axis = 0) or column(axis =1) containg NA entery or fill it up with some value\n",
    " \n",
    " - .groupby()\n",
    " \n",
    " To group data and get results based on category\n",
    " \n",
    " - pd.concat([df1 ,df2]\n",
    "\n",
    " To concatenate two dataframes either horizontally or vertically\n",
    " \n",
    " - pd.merge(df1,df2) or pd.join(df1,df2)\n",
    " \n",
    " To merge(based on primarykey) or join(based on index value) two data frame with options like how = left,right,outer,cross\n",
    " \n",
    " - .iterrows() or .iteritems()\n",
    " \n",
    " To iterate a dataframe based on index or column\n",
    "\n"
   ]
  },
  {
   "cell_type": "code",
   "execution_count": 22,
   "id": "6282c1cd-154e-46b4-97b5-9ccee7f01b71",
   "metadata": {},
   "outputs": [],
   "source": [
    "#Example\n",
    "\n",
    "df = pd.read_csv('https://raw.githubusercontent.com/datasciencedojo/datasets/master/titanic.csv')"
   ]
  },
  {
   "cell_type": "code",
   "execution_count": 23,
   "id": "5fcc2159-d72d-46ab-ac8a-bafd57d1be07",
   "metadata": {},
   "outputs": [
    {
     "data": {
      "text/html": [
       "<div>\n",
       "<style scoped>\n",
       "    .dataframe tbody tr th:only-of-type {\n",
       "        vertical-align: middle;\n",
       "    }\n",
       "\n",
       "    .dataframe tbody tr th {\n",
       "        vertical-align: top;\n",
       "    }\n",
       "\n",
       "    .dataframe thead th {\n",
       "        text-align: right;\n",
       "    }\n",
       "</style>\n",
       "<table border=\"1\" class=\"dataframe\">\n",
       "  <thead>\n",
       "    <tr style=\"text-align: right;\">\n",
       "      <th></th>\n",
       "      <th>PassengerId</th>\n",
       "      <th>Survived</th>\n",
       "      <th>Pclass</th>\n",
       "      <th>Name</th>\n",
       "      <th>Sex</th>\n",
       "      <th>Age</th>\n",
       "      <th>SibSp</th>\n",
       "      <th>Parch</th>\n",
       "      <th>Ticket</th>\n",
       "      <th>Fare</th>\n",
       "      <th>Cabin</th>\n",
       "      <th>Embarked</th>\n",
       "    </tr>\n",
       "  </thead>\n",
       "  <tbody>\n",
       "    <tr>\n",
       "      <th>0</th>\n",
       "      <td>1</td>\n",
       "      <td>0</td>\n",
       "      <td>3</td>\n",
       "      <td>Braund, Mr. Owen Harris</td>\n",
       "      <td>male</td>\n",
       "      <td>22.0</td>\n",
       "      <td>1</td>\n",
       "      <td>0</td>\n",
       "      <td>A/5 21171</td>\n",
       "      <td>7.2500</td>\n",
       "      <td>NaN</td>\n",
       "      <td>S</td>\n",
       "    </tr>\n",
       "    <tr>\n",
       "      <th>1</th>\n",
       "      <td>2</td>\n",
       "      <td>1</td>\n",
       "      <td>1</td>\n",
       "      <td>Cumings, Mrs. John Bradley (Florence Briggs Th...</td>\n",
       "      <td>female</td>\n",
       "      <td>38.0</td>\n",
       "      <td>1</td>\n",
       "      <td>0</td>\n",
       "      <td>PC 17599</td>\n",
       "      <td>71.2833</td>\n",
       "      <td>C85</td>\n",
       "      <td>C</td>\n",
       "    </tr>\n",
       "    <tr>\n",
       "      <th>2</th>\n",
       "      <td>3</td>\n",
       "      <td>1</td>\n",
       "      <td>3</td>\n",
       "      <td>Heikkinen, Miss. Laina</td>\n",
       "      <td>female</td>\n",
       "      <td>26.0</td>\n",
       "      <td>0</td>\n",
       "      <td>0</td>\n",
       "      <td>STON/O2. 3101282</td>\n",
       "      <td>7.9250</td>\n",
       "      <td>NaN</td>\n",
       "      <td>S</td>\n",
       "    </tr>\n",
       "    <tr>\n",
       "      <th>3</th>\n",
       "      <td>4</td>\n",
       "      <td>1</td>\n",
       "      <td>1</td>\n",
       "      <td>Futrelle, Mrs. Jacques Heath (Lily May Peel)</td>\n",
       "      <td>female</td>\n",
       "      <td>35.0</td>\n",
       "      <td>1</td>\n",
       "      <td>0</td>\n",
       "      <td>113803</td>\n",
       "      <td>53.1000</td>\n",
       "      <td>C123</td>\n",
       "      <td>S</td>\n",
       "    </tr>\n",
       "    <tr>\n",
       "      <th>4</th>\n",
       "      <td>5</td>\n",
       "      <td>0</td>\n",
       "      <td>3</td>\n",
       "      <td>Allen, Mr. William Henry</td>\n",
       "      <td>male</td>\n",
       "      <td>35.0</td>\n",
       "      <td>0</td>\n",
       "      <td>0</td>\n",
       "      <td>373450</td>\n",
       "      <td>8.0500</td>\n",
       "      <td>NaN</td>\n",
       "      <td>S</td>\n",
       "    </tr>\n",
       "  </tbody>\n",
       "</table>\n",
       "</div>"
      ],
      "text/plain": [
       "   PassengerId  Survived  Pclass  \\\n",
       "0            1         0       3   \n",
       "1            2         1       1   \n",
       "2            3         1       3   \n",
       "3            4         1       1   \n",
       "4            5         0       3   \n",
       "\n",
       "                                                Name     Sex   Age  SibSp  \\\n",
       "0                            Braund, Mr. Owen Harris    male  22.0      1   \n",
       "1  Cumings, Mrs. John Bradley (Florence Briggs Th...  female  38.0      1   \n",
       "2                             Heikkinen, Miss. Laina  female  26.0      0   \n",
       "3       Futrelle, Mrs. Jacques Heath (Lily May Peel)  female  35.0      1   \n",
       "4                           Allen, Mr. William Henry    male  35.0      0   \n",
       "\n",
       "   Parch            Ticket     Fare Cabin Embarked  \n",
       "0      0         A/5 21171   7.2500   NaN        S  \n",
       "1      0          PC 17599  71.2833   C85        C  \n",
       "2      0  STON/O2. 3101282   7.9250   NaN        S  \n",
       "3      0            113803  53.1000  C123        S  \n",
       "4      0            373450   8.0500   NaN        S  "
      ]
     },
     "execution_count": 23,
     "metadata": {},
     "output_type": "execute_result"
    }
   ],
   "source": [
    "df.head()"
   ]
  },
  {
   "cell_type": "code",
   "execution_count": 26,
   "id": "c101879d-d879-46e6-9231-6f1ef09426b6",
   "metadata": {},
   "outputs": [
    {
     "data": {
      "text/html": [
       "<div>\n",
       "<style scoped>\n",
       "    .dataframe tbody tr th:only-of-type {\n",
       "        vertical-align: middle;\n",
       "    }\n",
       "\n",
       "    .dataframe tbody tr th {\n",
       "        vertical-align: top;\n",
       "    }\n",
       "\n",
       "    .dataframe thead th {\n",
       "        text-align: right;\n",
       "    }\n",
       "</style>\n",
       "<table border=\"1\" class=\"dataframe\">\n",
       "  <thead>\n",
       "    <tr style=\"text-align: right;\">\n",
       "      <th></th>\n",
       "      <th>Name</th>\n",
       "      <th>Age</th>\n",
       "      <th>Survived</th>\n",
       "    </tr>\n",
       "  </thead>\n",
       "  <tbody>\n",
       "    <tr>\n",
       "      <th>1</th>\n",
       "      <td>Cumings, Mrs. John Bradley (Florence Briggs Th...</td>\n",
       "      <td>38.0</td>\n",
       "      <td>1</td>\n",
       "    </tr>\n",
       "    <tr>\n",
       "      <th>2</th>\n",
       "      <td>Heikkinen, Miss. Laina</td>\n",
       "      <td>26.0</td>\n",
       "      <td>1</td>\n",
       "    </tr>\n",
       "    <tr>\n",
       "      <th>3</th>\n",
       "      <td>Futrelle, Mrs. Jacques Heath (Lily May Peel)</td>\n",
       "      <td>35.0</td>\n",
       "      <td>1</td>\n",
       "    </tr>\n",
       "    <tr>\n",
       "      <th>4</th>\n",
       "      <td>Allen, Mr. William Henry</td>\n",
       "      <td>35.0</td>\n",
       "      <td>0</td>\n",
       "    </tr>\n",
       "    <tr>\n",
       "      <th>5</th>\n",
       "      <td>Moran, Mr. James</td>\n",
       "      <td>NaN</td>\n",
       "      <td>0</td>\n",
       "    </tr>\n",
       "    <tr>\n",
       "      <th>6</th>\n",
       "      <td>McCarthy, Mr. Timothy J</td>\n",
       "      <td>54.0</td>\n",
       "      <td>0</td>\n",
       "    </tr>\n",
       "    <tr>\n",
       "      <th>7</th>\n",
       "      <td>Palsson, Master. Gosta Leonard</td>\n",
       "      <td>2.0</td>\n",
       "      <td>0</td>\n",
       "    </tr>\n",
       "  </tbody>\n",
       "</table>\n",
       "</div>"
      ],
      "text/plain": [
       "                                                Name   Age  Survived\n",
       "1  Cumings, Mrs. John Bradley (Florence Briggs Th...  38.0         1\n",
       "2                             Heikkinen, Miss. Laina  26.0         1\n",
       "3       Futrelle, Mrs. Jacques Heath (Lily May Peel)  35.0         1\n",
       "4                           Allen, Mr. William Henry  35.0         0\n",
       "5                                   Moran, Mr. James   NaN         0\n",
       "6                            McCarthy, Mr. Timothy J  54.0         0\n",
       "7                     Palsson, Master. Gosta Leonard   2.0         0"
      ]
     },
     "execution_count": 26,
     "metadata": {},
     "output_type": "execute_result"
    }
   ],
   "source": [
    "df.loc[1:7 ,['Name','Age','Survived']]"
   ]
  },
  {
   "cell_type": "markdown",
   "id": "916a8c94-717a-4316-8b9e-96d99a703ee9",
   "metadata": {},
   "source": [
    "### --------------------------------------------------------------------"
   ]
  },
  {
   "cell_type": "markdown",
   "id": "a48a9302-91f9-4fab-8d6f-38955ee5bcab",
   "metadata": {},
   "source": [
    "#### Q6. Which of the following is mutable in nature Series, DataFrame, Panel?"
   ]
  },
  {
   "cell_type": "markdown",
   "id": "9569bb5f-5a7a-4bec-846f-9c5dd41320c0",
   "metadata": {},
   "source": [
    "Ans -> \n",
    "- Series – 1D labeled homogeneous array, sizeimmutable,valuemutable\n",
    "- Data Frames – 2D labeled, size&data mutable tabular structure with heterogenic columns\n",
    "- Panel – 3D labeled size mutable array.\n",
    "\n",
    "So DataFrame and Panel are mutable , but series is only value mutable but not sizemutable."
   ]
  },
  {
   "cell_type": "markdown",
   "id": "26a77a5c-4377-4605-a178-c93498036330",
   "metadata": {},
   "source": [
    "### --------------------------------------------------------------------"
   ]
  },
  {
   "cell_type": "markdown",
   "id": "1e101f4b-b58a-437f-9fa0-9b5f0c5be539",
   "metadata": {},
   "source": [
    "#### Q7. Create a DataFrame using multiple Series. Explain with an example."
   ]
  },
  {
   "cell_type": "code",
   "execution_count": 28,
   "id": "650b5c37-e5a5-4b94-bcbc-4f1c1579ff46",
   "metadata": {},
   "outputs": [],
   "source": [
    "s1 = pd.Series(['Aryav','Vivek','Abhinav','Nayan'])\n",
    "s2 = pd.Series([23 , 24 , 27 , 15])\n",
    "s3 = pd.Series(['XI','IX','X','XII'])"
   ]
  },
  {
   "cell_type": "code",
   "execution_count": 30,
   "id": "c703766d-6e9d-4618-9bbd-4f75bc4b4082",
   "metadata": {},
   "outputs": [],
   "source": [
    "df1 = pd.DataFrame({'Name':s1 , 'Age':s2 , 'Class':s3})"
   ]
  },
  {
   "cell_type": "code",
   "execution_count": 31,
   "id": "892db7bb-e9ae-4dee-9ecf-8ba686ed6a7b",
   "metadata": {},
   "outputs": [
    {
     "data": {
      "text/html": [
       "<div>\n",
       "<style scoped>\n",
       "    .dataframe tbody tr th:only-of-type {\n",
       "        vertical-align: middle;\n",
       "    }\n",
       "\n",
       "    .dataframe tbody tr th {\n",
       "        vertical-align: top;\n",
       "    }\n",
       "\n",
       "    .dataframe thead th {\n",
       "        text-align: right;\n",
       "    }\n",
       "</style>\n",
       "<table border=\"1\" class=\"dataframe\">\n",
       "  <thead>\n",
       "    <tr style=\"text-align: right;\">\n",
       "      <th></th>\n",
       "      <th>Name</th>\n",
       "      <th>Age</th>\n",
       "      <th>Class</th>\n",
       "    </tr>\n",
       "  </thead>\n",
       "  <tbody>\n",
       "    <tr>\n",
       "      <th>0</th>\n",
       "      <td>Aryav</td>\n",
       "      <td>23</td>\n",
       "      <td>XI</td>\n",
       "    </tr>\n",
       "    <tr>\n",
       "      <th>1</th>\n",
       "      <td>Vivek</td>\n",
       "      <td>24</td>\n",
       "      <td>IX</td>\n",
       "    </tr>\n",
       "    <tr>\n",
       "      <th>2</th>\n",
       "      <td>Abhinav</td>\n",
       "      <td>27</td>\n",
       "      <td>X</td>\n",
       "    </tr>\n",
       "    <tr>\n",
       "      <th>3</th>\n",
       "      <td>Nayan</td>\n",
       "      <td>15</td>\n",
       "      <td>XII</td>\n",
       "    </tr>\n",
       "  </tbody>\n",
       "</table>\n",
       "</div>"
      ],
      "text/plain": [
       "      Name  Age Class\n",
       "0    Aryav   23    XI\n",
       "1    Vivek   24    IX\n",
       "2  Abhinav   27     X\n",
       "3    Nayan   15   XII"
      ]
     },
     "execution_count": 31,
     "metadata": {},
     "output_type": "execute_result"
    }
   ],
   "source": [
    "df1"
   ]
  }
 ],
 "metadata": {
  "kernelspec": {
   "display_name": "Python 3 (ipykernel)",
   "language": "python",
   "name": "python3"
  },
  "language_info": {
   "codemirror_mode": {
    "name": "ipython",
    "version": 3
   },
   "file_extension": ".py",
   "mimetype": "text/x-python",
   "name": "python",
   "nbconvert_exporter": "python",
   "pygments_lexer": "ipython3",
   "version": "3.10.8"
  }
 },
 "nbformat": 4,
 "nbformat_minor": 5
}
