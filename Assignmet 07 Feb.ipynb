{
 "cells": [
  {
   "cell_type": "markdown",
   "id": "16aa53bd-aea6-4c92-adba-06b61e438338",
   "metadata": {},
   "source": [
    "## ASSIGNMENT 07 Feb"
   ]
  },
  {
   "cell_type": "markdown",
   "id": "58210cab-18c0-4516-94b2-123c142b4136",
   "metadata": {},
   "source": [
    "### ------------------------------------------------------------------------"
   ]
  },
  {
   "cell_type": "markdown",
   "id": "6414a6fe-f306-4a76-96c2-799a0e4c966f",
   "metadata": {},
   "source": [
    "#### Q1. You are writing code for a company. The requirement of the company is that you create a python\n",
    "#### function that will check whether the password entered by the user is correct or not. The function should\n",
    "#### take the password as input and return the string “Valid Password” if the entered password follows the\n",
    "#### below-given password guidelines else it should return “Invalid Password”.\n",
    "#### Note: 1. The Password should contain at least two uppercase letters and at least two lowercase letters.\n",
    "#### 2. The Password should contain at least a number and three special characters.\n",
    "#### 3. The length of the password should be 10 characters long."
   ]
  },
  {
   "cell_type": "code",
   "execution_count": 42,
   "id": "e26e834f-0b48-4d47-b1d2-fde289737081",
   "metadata": {},
   "outputs": [],
   "source": [
    "def validator(s):\n",
    "    if(len(s)!=10):\n",
    "        return 0\n",
    "    countU = 0\n",
    "    countL = 0\n",
    "    for i in s:\n",
    "        if(ord(i)>=65 and ord(i)<=90):\n",
    "            countU = countU+1\n",
    "        elif(ord(i)>=97 and ord(i)<=122):\n",
    "            countL = countL+1\n",
    "    if(countU<2):\n",
    "        return 0\n",
    "    if(countL<2):\n",
    "        return 0\n",
    "    numCount = 0\n",
    "    for j in s:\n",
    "        if(ord(j)>=48 and ord(j)<=57):\n",
    "            numCount = numCount+1\n",
    "    if(numCount==0):\n",
    "        return 0\n",
    "    specCount = 0\n",
    "    for k in s:\n",
    "        if((ord(k)>=33 and ord(k)<=47) or (ord(k)>=53 and ord(k)<=64) or (ord(k)>=94 and ord(k)<=96) or (ord(k)>=123 and ord(k)<=126)):\n",
    "            specCount = specCount + 1\n",
    "    if(specCount!=3):\n",
    "        return 0\n",
    "    \n",
    "    return 1\n",
    "        \n",
    "        \n",
    "        "
   ]
  },
  {
   "cell_type": "code",
   "execution_count": 43,
   "id": "88e8ee77-f99e-4343-9b1e-facd21ef50d5",
   "metadata": {},
   "outputs": [
    {
     "name": "stdin",
     "output_type": "stream",
     "text": [
      "Enter the password:  AryAv12@@@\n"
     ]
    },
    {
     "name": "stdout",
     "output_type": "stream",
     "text": [
      "AryAv12@@@ is a valid password\n"
     ]
    }
   ],
   "source": [
    "s = input(\"Enter the password: \")\n",
    "verify = validator(s)\n",
    "if(verify):\n",
    "    print(f'{s} is a valid password')\n",
    "else:\n",
    "    print(f'{s} is not a valid password')"
   ]
  },
  {
   "cell_type": "markdown",
   "id": "c3569414-8eb3-44dd-be16-6ee8e75690d1",
   "metadata": {},
   "source": [
    "### ------------------------------------------------------------------------"
   ]
  },
  {
   "cell_type": "markdown",
   "id": "439bdf62-3191-4099-9298-f2d3d5c590ce",
   "metadata": {},
   "source": [
    "#### Q2. Solve the below-given questions using at least one of the following:\n",
    "#### 1. Lambda functioJ\n",
    "#### 2. Filter functioJ\n",
    "#### 3. Zap functioJ\n",
    "#### 4. List ComprehensioI\n",
    "#### B Check if the string starts with a particular letterY\n",
    "#### B Check if the string is numericY\n",
    "#### B Sort a list of tuples having fruit names and their quantity. [(\"mango\",99),(\"orange\",80), (\"grapes\", 1000)-\n",
    "#### B Find the squares of numbers from 1 to 10Y\n",
    "#### B Find the cube root of numbers from 1 to 10Y\n",
    "#### B Check if a given number is evenY\n",
    "#### B Filter odd numbers from the given list.\n",
    "#### [1,2,3,4,5,6,7,8,9,10-\n",
    "#### B Sort a list of integers into positive and negative integers lists.\n",
    "#### [1,2,3,4,5,6,-1,-2,-3,-4,-5,0]"
   ]
  },
  {
   "cell_type": "code",
   "execution_count": null,
   "id": "0175ceb3-1973-4523-a959-2f37e4f6b20f",
   "metadata": {},
   "outputs": [],
   "source": []
  },
  {
   "cell_type": "raw",
   "id": "5cfc624d-7ddb-4af0-8fa1-e3633d3ab0ea",
   "metadata": {},
   "source": [
    "Que. Check if a given number is evenY"
   ]
  },
  {
   "cell_type": "code",
   "execution_count": 48,
   "id": "b0d2915e-f158-4959-b7b0-34dba3e9f56e",
   "metadata": {},
   "outputs": [
    {
     "data": {
      "text/plain": [
       "True"
      ]
     },
     "execution_count": 48,
     "metadata": {},
     "output_type": "execute_result"
    }
   ],
   "source": [
    "evenFinder = lambda x : x%2==0\n",
    "evenFinder(4)"
   ]
  },
  {
   "cell_type": "raw",
   "id": "d7ef74f0-2e90-452f-bbec-914101bf459a",
   "metadata": {},
   "source": [
    "Que. Filter odd numbers from the given list.[1,2,3,4,5,6,7,8,9,10]"
   ]
  },
  {
   "cell_type": "code",
   "execution_count": 50,
   "id": "2a9fa897-0cfc-40f1-b515-6ed8f484664d",
   "metadata": {},
   "outputs": [
    {
     "name": "stdout",
     "output_type": "stream",
     "text": [
      "[1, 3, 5, 7, 9]\n"
     ]
    }
   ],
   "source": [
    "l = [1,2,3,4,5,6,7,8,9,10]\n",
    "print(list(filter(lambda x: x%2!=0 , l)))"
   ]
  },
  {
   "cell_type": "raw",
   "id": "3e006f8b-fa75-4f60-8bc0-c47ff15d96de",
   "metadata": {},
   "source": [
    "Que. Find the cube root of numbers from 1 to 10"
   ]
  },
  {
   "cell_type": "code",
   "execution_count": 52,
   "id": "85aebd7d-85cc-42f3-9460-f5d0b58fae39",
   "metadata": {},
   "outputs": [
    {
     "data": {
      "text/plain": [
       "[1, 8, 27, 64, 125, 216, 343, 512, 729, 1000]"
      ]
     },
     "execution_count": 52,
     "metadata": {},
     "output_type": "execute_result"
    }
   ],
   "source": [
    "[x**3 for x in range (1,11)]"
   ]
  },
  {
   "cell_type": "raw",
   "id": "9ee0bece-676c-45c6-9bb4-c22f9e7db8be",
   "metadata": {},
   "source": [
    "Que. Find the squares of numbers from 1 to 10"
   ]
  },
  {
   "cell_type": "code",
   "execution_count": 55,
   "id": "888fa1da-29a5-4c8a-98dc-db0eaa6fa68c",
   "metadata": {},
   "outputs": [
    {
     "name": "stdout",
     "output_type": "stream",
     "text": [
      "[1, 4, 9, 16, 25, 36, 49, 64, 81, 100]\n"
     ]
    }
   ],
   "source": [
    "l = [x for x in range(1,11)]\n",
    "print(list(map(lambda x: x**2 ,l)))"
   ]
  },
  {
   "cell_type": "raw",
   "id": "2c9e0b95-e5d6-40ee-beb6-6543e426e24b",
   "metadata": {},
   "source": [
    "Que. Check if the string starts with a particular letter (A)"
   ]
  },
  {
   "cell_type": "code",
   "execution_count": 56,
   "id": "04ee9fa6-9de0-483e-9540-fb31180f2c88",
   "metadata": {},
   "outputs": [
    {
     "data": {
      "text/plain": [
       "True"
      ]
     },
     "execution_count": 56,
     "metadata": {},
     "output_type": "execute_result"
    }
   ],
   "source": [
    "string = 'Aryav'\n",
    "\n",
    "verify = lambda x: x[0]=='A' \n",
    "verify(string)\n",
    "\n"
   ]
  },
  {
   "cell_type": "raw",
   "id": "059acb3b-3544-4b60-839c-29724346cd66",
   "metadata": {},
   "source": [
    "Que. Sort a list of integers into positive and negative integers lists.\n",
    "[1,2,3,4,5,6,-1,-2,-3,-4,-5,0]"
   ]
  },
  {
   "cell_type": "code",
   "execution_count": 57,
   "id": "511083fc-9c08-4a3d-9e1e-232a767a1827",
   "metadata": {},
   "outputs": [
    {
     "name": "stdout",
     "output_type": "stream",
     "text": [
      "[1, 2, 3, 4, 5, 6]\n",
      "[-1, -2, -3, -4, -5]\n"
     ]
    }
   ],
   "source": [
    "l = [1,2,3,4,5,6,-1,-2,-3,-4,-5,0]\n",
    "l1 = list(filter(lambda x:x>0 ,l))\n",
    "l2 = list(filter(lambda x:x<0 ,l))\n",
    "print(l1)\n",
    "print(l2)"
   ]
  },
  {
   "cell_type": "raw",
   "id": "bf9af26b-77ee-4623-a4a4-e265012764a1",
   "metadata": {},
   "source": [
    "Que. Check if the string is numeric"
   ]
  },
  {
   "cell_type": "code",
   "execution_count": 67,
   "id": "7751954f-b19b-49ff-bea4-5672e3d9b023",
   "metadata": {},
   "outputs": [
    {
     "name": "stdout",
     "output_type": "stream",
     "text": [
      "False\n"
     ]
    }
   ],
   "source": [
    "string1 = '12345A'\n",
    "list1 = [x for x in string1 if(ord(x)>=48 and ord(x)<=57)]\n",
    "if(len(string1)==len(list1)):\n",
    "    print(True)\n",
    "else:\n",
    "    print(False)"
   ]
  },
  {
   "cell_type": "raw",
   "id": "4138d613-d409-46ab-ba41-dc0c00040277",
   "metadata": {},
   "source": [
    "Que. Sort a list of tuples having fruit names and their quantity. [(\"mango\",99),(\"orange\",80), (\"grapes\", 1000)"
   ]
  },
  {
   "cell_type": "code",
   "execution_count": 10,
   "id": "d5ed49b8-6762-4af4-92de-0b00aead365c",
   "metadata": {},
   "outputs": [],
   "source": [
    "lst = [(\"mango\",99),(\"orange\",80), (\"grapes\", 1000)]\n",
    "\n",
    "def finder(t):\n",
    "    return t[1]\n",
    "\n",
    "lst.sort(key = finder)"
   ]
  },
  {
   "cell_type": "code",
   "execution_count": 11,
   "id": "4667929b-cabe-49de-94c9-8c8ffd522052",
   "metadata": {},
   "outputs": [
    {
     "data": {
      "text/plain": [
       "[('orange', 80), ('mango', 99), ('grapes', 1000)]"
      ]
     },
     "execution_count": 11,
     "metadata": {},
     "output_type": "execute_result"
    }
   ],
   "source": [
    "lst"
   ]
  },
  {
   "cell_type": "code",
   "execution_count": null,
   "id": "80c435cd-22d0-42e6-935b-27fff17b0994",
   "metadata": {},
   "outputs": [],
   "source": []
  }
 ],
 "metadata": {
  "kernelspec": {
   "display_name": "Python 3 (ipykernel)",
   "language": "python",
   "name": "python3"
  },
  "language_info": {
   "codemirror_mode": {
    "name": "ipython",
    "version": 3
   },
   "file_extension": ".py",
   "mimetype": "text/x-python",
   "name": "python",
   "nbconvert_exporter": "python",
   "pygments_lexer": "ipython3",
   "version": "3.10.8"
  }
 },
 "nbformat": 4,
 "nbformat_minor": 5
}
