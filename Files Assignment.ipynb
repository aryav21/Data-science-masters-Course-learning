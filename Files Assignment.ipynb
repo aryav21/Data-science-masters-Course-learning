{
 "cells": [
  {
   "cell_type": "markdown",
   "id": "36e5b650-69aa-486b-a3ad-46a8d4e9e56a",
   "metadata": {},
   "source": [
    "## Files Assignment"
   ]
  },
  {
   "cell_type": "markdown",
   "id": "04a66173-714b-481c-ba25-eae6d06b3c96",
   "metadata": {},
   "source": [
    "### -----------------------------------------------------------------------"
   ]
  },
  {
   "cell_type": "markdown",
   "id": "d4bea851-a9bb-4647-86a8-466fb9a45ed1",
   "metadata": {},
   "source": [
    "#### Q1. Which function is used to open a file? What are the different modes of opening a file? Explain each mode\n",
    "#### of file opening."
   ]
  },
  {
   "cell_type": "markdown",
   "id": "c56d1527-7278-4035-80c7-15dfb57839db",
   "metadata": {},
   "source": [
    "Ans -> open() function is used to open file and return file object. It takes two parameter filename and mode. A file can be opend in any one of the following modes:\n",
    "\n",
    "\n",
    "           1. “r”: Read   - Default value. Opens a file for reading, error if the file does not exist\n",
    "           2. “w”: Write  - Opens a file for writing, creates the file if it does not exist and overwrite if it does.\n",
    "           3. “a”: Append - Opens a file for appending, creates the file if it does not exist\n",
    "           4. “x”: Create - Creates the specified file, returns an error if the file exist\n",
    "           5. “t”: Text   - Default value.Text mode,This string is used to handle files in text mode.\n",
    "           6. “b”: Binary - This string is used when the user wants to handle the file in binary mode(e.g. images)\n",
    "            "
   ]
  },
  {
   "cell_type": "code",
   "execution_count": 2,
   "id": "f4440ad0-9a9c-4fac-b783-dd1c491a3222",
   "metadata": {},
   "outputs": [],
   "source": [
    "## Example for binary\n",
    "\n",
    "f = open('abc.bin','wb')\n",
    "f.write(b\"\\x01\\x02\\x03\")\n",
    "f.close()"
   ]
  },
  {
   "cell_type": "markdown",
   "id": "ddd214bf-61de-460d-b817-cb9660205d2f",
   "metadata": {},
   "source": [
    "### -----------------------------------------------------------------------"
   ]
  },
  {
   "cell_type": "markdown",
   "id": "eb8ba433-4d72-4d85-88f0-1cd4a3979c47",
   "metadata": {},
   "source": [
    "#### Q2. Why close() function is used? Why is it important to close a file?"
   ]
  },
  {
   "cell_type": "markdown",
   "id": "2228a208-fffc-426e-87cc-24a6f9509669",
   "metadata": {},
   "source": [
    "Ans -> Python file method close() closes the opened file. Any operation, which requires that the file be opened will raise a ValueError after the file has been closed. Python automatically closes a file when the reference object of a file is reassigned to another file. But it is a good practice to use the close() method to close a file. This is because python delegates file operations to the operating system. When you open a file with open(), you make a system call to the operating system to locate that file on the hard drive and prepare it for reading or writing. The operating system will then return an unsigned integer called a file handle on Windows and a file descriptor on UNIX. Once you have the number associated with the file, you’re ready to do read or write operations. Whenever Python wants to read, write, or close the file, it’ll make another system call, providing the file handle number. The Python file object has a .fileno() method that you can use to find the file handle.\n",
    "\n",
    "Because files are limited resources managed by the operating system, making sure files are closed after use will protect against hard-to-debug issues like running out of file handles or losing data. The best defense is always to open files with a context manager."
   ]
  },
  {
   "cell_type": "markdown",
   "id": "dead47e5-c52e-418c-8c82-6904f1a7cd45",
   "metadata": {},
   "source": [
    "### -----------------------------------------------------------------------"
   ]
  },
  {
   "cell_type": "markdown",
   "id": "24bc9f9b-fb3d-4eec-9722-9df83141648e",
   "metadata": {},
   "source": [
    "#### Q3. Write a python program to create a text file. Write ‘I want to become a Data Scientist’ in that file. Then\n",
    "#### close the file. Open this file and read the content of the file."
   ]
  },
  {
   "cell_type": "code",
   "execution_count": 20,
   "id": "9fbef3d8-9107-4581-af4c-be2f46e99bde",
   "metadata": {},
   "outputs": [],
   "source": [
    "with open('text1.txt','w') as f:\n",
    "    f.write('I want to become a Data Scientist.\\n')\n"
   ]
  },
  {
   "cell_type": "code",
   "execution_count": 21,
   "id": "68bf1c80-3e8a-4729-81a8-5c8ee2675ac0",
   "metadata": {},
   "outputs": [
    {
     "name": "stdout",
     "output_type": "stream",
     "text": [
      "I want to become a Data Scientist.\n",
      "\n"
     ]
    }
   ],
   "source": [
    "with open('text1.txt','r') as f:\n",
    "    data = f.read()\n",
    "    print(data)"
   ]
  },
  {
   "cell_type": "markdown",
   "id": "873d6f05-e505-450a-97e1-f3db93accf90",
   "metadata": {},
   "source": [
    "### -----------------------------------------------------------------------"
   ]
  },
  {
   "cell_type": "markdown",
   "id": "1a63cdde-616f-4d5c-98db-5571b877b4d5",
   "metadata": {},
   "source": [
    "#### Q4. Explain the following with python code: read(), readline() and readlines()."
   ]
  },
  {
   "cell_type": "markdown",
   "id": "c03758a9-7548-4630-99a7-9954a7b232d2",
   "metadata": {},
   "source": [
    "Ans  1) read() --> Reads and returns the entire file as a single string."
   ]
  },
  {
   "cell_type": "code",
   "execution_count": 22,
   "id": "c2a1eed7-d4de-47f1-8403-f617fcc756c9",
   "metadata": {},
   "outputs": [
    {
     "name": "stdout",
     "output_type": "stream",
     "text": [
      "I want to become a Data Scientist.\n",
      "Working as a data scientist can be intellectually challenging, analytically satisfying, and put you at the forefront of new advances in technology.\n",
      "Data scientists have become more common and in demand, as big data  continues to be increasingly important to the way organizations make decisions.\n",
      "Here’s a closer look at what they are and do—and how to become one.\n"
     ]
    }
   ],
   "source": [
    "with open('text1.txt','a') as f:\n",
    "    f.write('Working as a data scientist can be intellectually challenging, analytically satisfying, and put you at the forefront of new advances in technology.\\nData scientists have become more common and in demand, as big data  continues to be increasingly important to the way organizations make decisions.\\nHere’s a closer look at what they are and do—and how to become one.')\n",
    "    \n",
    "with open('text1.txt', 'r') as f:\n",
    "    s = f.read()\n",
    "print(s)"
   ]
  },
  {
   "cell_type": "raw",
   "id": "1b5beea2-d2e7-4b99-b5f9-d2c0eed55262",
   "metadata": {},
   "source": []
  },
  {
   "cell_type": "markdown",
   "id": "d3b39b29-6e95-4d4a-8680-8fe5ccb4be06",
   "metadata": {},
   "source": [
    "2)readline() --> Reads and return a line from the file when called.If n is provided as a parameter than only n characters will be returned if the line is longer than n."
   ]
  },
  {
   "cell_type": "code",
   "execution_count": 26,
   "id": "6a3c7b48-9b43-4138-8f79-c3c91fcea328",
   "metadata": {},
   "outputs": [
    {
     "name": "stdout",
     "output_type": "stream",
     "text": [
      "I want to become a Data Scientist.\n",
      "\n",
      "Working as a data scientist can be intellectually challenging, analytically satisfying, and put you at the forefront of new advances in technology.\n",
      "\n"
     ]
    }
   ],
   "source": [
    "with open('text1.txt', 'r') as f:\n",
    "    print(f.readline())\n",
    "    print(f.readline())"
   ]
  },
  {
   "cell_type": "raw",
   "id": "029c6ec8-d3fd-48ed-8fa8-14169a63efe2",
   "metadata": {},
   "source": []
  },
  {
   "cell_type": "markdown",
   "id": "cc05c6fe-085d-4b5f-a6e7-d3403a104b93",
   "metadata": {},
   "source": [
    "3)readlines() --> Reads and return all the lines in a file in the format of a list where each element is a line in the file."
   ]
  },
  {
   "cell_type": "code",
   "execution_count": 25,
   "id": "6055b516-81e3-4773-a5cf-13b2ea087199",
   "metadata": {},
   "outputs": [
    {
     "name": "stdout",
     "output_type": "stream",
     "text": [
      "I want to become a Data Scientist.\n",
      "\n",
      "Working as a data scientist can be intellectually challenging, analytically satisfying, and put you at the forefront of new advances in technology.\n",
      "\n",
      "Data scientists have become more common and in demand, as big data  continues to be increasingly important to the way organizations make decisions.\n",
      "\n",
      "Here’s a closer look at what they are and do—and how to become one.\n"
     ]
    }
   ],
   "source": [
    "with open('text1.txt', 'r') as f:\n",
    "    l = f.readlines()\n",
    "for i in l:\n",
    "    print(i)"
   ]
  },
  {
   "cell_type": "markdown",
   "id": "f159f2f6-d33e-4aa9-a0ed-933605b95e81",
   "metadata": {},
   "source": [
    "### -----------------------------------------------------------------------"
   ]
  },
  {
   "cell_type": "markdown",
   "id": "1e92b2bc-1701-4ece-bbb9-eea0c2d0d7ca",
   "metadata": {},
   "source": [
    "#### Q5. Explain why with statement is used with open(). What is the advantage of using with statement and\n",
    "#### open() together?"
   ]
  },
  {
   "cell_type": "markdown",
   "id": "89a59afe-0bc0-47c1-ba6e-6828321a828b",
   "metadata": {},
   "source": [
    "Ans -> With statement helps avoiding bugs and leaks by ensuring that a resource is properly released when the code using the resource is completely executed. Thus when with statement is used with open for performing file operations, there is no need to call file.close() , as it ensures proper acquisition and release of resources. It also making the code compact and much more readable. \n"
   ]
  },
  {
   "cell_type": "code",
   "execution_count": 1,
   "id": "2a76cb8b-7ae2-4c0a-b860-4db1993b3b73",
   "metadata": {},
   "outputs": [
    {
     "name": "stdout",
     "output_type": "stream",
     "text": [
      "I want to become a Data Scientist.\n",
      "\n"
     ]
    }
   ],
   "source": [
    "with open('text1.txt', 'r') as f:\n",
    "    print(f.readline())"
   ]
  },
  {
   "cell_type": "markdown",
   "id": "862c3ad2-1155-47b7-8013-300cb58b10ff",
   "metadata": {},
   "source": [
    "### -----------------------------------------------------------------------"
   ]
  },
  {
   "cell_type": "markdown",
   "id": "9f601a87-4c5a-4b52-b8fc-59debd1e9c8a",
   "metadata": {},
   "source": [
    "#### Q6. Explain the write() and writelines() functions. Give a suitable example."
   ]
  },
  {
   "cell_type": "markdown",
   "id": "fa5865d9-e345-422a-b078-fbf7a5e17580",
   "metadata": {},
   "source": [
    "Ans -> write() - method will write the content in the file without adding any extra a new line character.\n"
   ]
  },
  {
   "cell_type": "code",
   "execution_count": 29,
   "id": "2c9661a6-2498-41df-8782-de2898f95db8",
   "metadata": {},
   "outputs": [],
   "source": [
    "with open('text2.txt','w') as f:\n",
    "    f.write('One')\n",
    "    f.write('Two')\n",
    "    f.write('Three')"
   ]
  },
  {
   "cell_type": "code",
   "execution_count": 31,
   "id": "9d39bc0e-f218-4a9b-b963-2fbe678916e2",
   "metadata": {},
   "outputs": [
    {
     "name": "stdout",
     "output_type": "stream",
     "text": [
      "OneTwoThree\n"
     ]
    }
   ],
   "source": [
    "with open('text2.txt','r') as f:\n",
    "    d = f.read()\n",
    "    print(d)"
   ]
  },
  {
   "cell_type": "markdown",
   "id": "874f109e-5c5b-437b-92ee-92ab30a7d3d9",
   "metadata": {},
   "source": [
    "Ans -> writelines() - This function writes the content of a list to a file without adding a new line character."
   ]
  },
  {
   "cell_type": "code",
   "execution_count": 40,
   "id": "82e9a584-f6b0-4428-a37c-92f3920bf04b",
   "metadata": {},
   "outputs": [],
   "source": [
    "l = ['One\\n','Two\\n','Three\\n']\n",
    "with open('text2.txt','w') as f:\n",
    "    f.writelines(l)"
   ]
  },
  {
   "cell_type": "code",
   "execution_count": 41,
   "id": "7ac932da-cc76-40a1-b96a-65bab8b85d6f",
   "metadata": {},
   "outputs": [
    {
     "name": "stdout",
     "output_type": "stream",
     "text": [
      "One\n",
      "Two\n",
      "Three\n",
      "\n"
     ]
    }
   ],
   "source": [
    "with open('text2.txt','r') as f:\n",
    "    d = f.read()\n",
    "    print(d)"
   ]
  }
 ],
 "metadata": {
  "kernelspec": {
   "display_name": "Python 3 (ipykernel)",
   "language": "python",
   "name": "python3"
  },
  "language_info": {
   "codemirror_mode": {
    "name": "ipython",
    "version": 3
   },
   "file_extension": ".py",
   "mimetype": "text/x-python",
   "name": "python",
   "nbconvert_exporter": "python",
   "pygments_lexer": "ipython3",
   "version": "3.10.8"
  }
 },
 "nbformat": 4,
 "nbformat_minor": 5
}
