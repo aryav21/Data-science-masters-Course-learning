{
 "cells": [
  {
   "cell_type": "markdown",
   "id": "1264a0bf-68f7-4e42-bf07-de33c3b16703",
   "metadata": {},
   "source": [
    "## API Assignment"
   ]
  },
  {
   "cell_type": "markdown",
   "id": "a90883e3-c8ff-4d5d-b20c-e0ba9d1df4be",
   "metadata": {},
   "source": [
    "### ---------------------------------------------------------------------------------------"
   ]
  },
  {
   "cell_type": "markdown",
   "id": "fd2a3a3a-6fbc-45ff-be90-cf79c3a0e4e2",
   "metadata": {},
   "source": [
    "#### Q1. What is an API? Give an example, where an API is used in real life."
   ]
  },
  {
   "cell_type": "markdown",
   "id": "c29705f4-d0fa-4197-a075-beb3ee263b5f",
   "metadata": {},
   "source": [
    "Ans -> APIs are mechanisms that enable two software components to communicate with each other using a set of definitions and protocols. For example, the weather bureau’s software system contains daily weather data. The weather app on your phone “talks” to this system via APIs and shows you daily weather updates on your phone. Another example are travel booking websites which uses variour API to connect with all the flights, buses and hotel companies to book tickets and rooms based on availability."
   ]
  },
  {
   "cell_type": "markdown",
   "id": "f427576f-a880-4719-a605-0b51b1de12e9",
   "metadata": {},
   "source": [
    "### ---------------------------------------------------------------------------------------"
   ]
  },
  {
   "cell_type": "markdown",
   "id": "48b12d29-981c-4591-b30e-d33e9dcafec5",
   "metadata": {},
   "source": [
    "#### Q2. Give advantages and disadvantages of using API."
   ]
  },
  {
   "cell_type": "markdown",
   "id": "43154837-d105-4c8b-bada-417358b2f745",
   "metadata": {},
   "source": [
    "Ans -> Advantages of API are as follows -\n",
    "\n",
    "- Access to APIs ensures more flexibility in information-transfer processes.\n",
    "\n",
    "- APIs let you create layers in apps in order to distribute information to different audiences.\n",
    "\n",
    "- When you have content that is automatically published and made available on different channels simultaneously, APIs allow for more         efficient data distribution.\n",
    "\n",
    "- APIs are used to integrate new applications with existing software systems. This increases development speed because each functionality     doesn’t have to be written from scratch. You can use APIs to leverage existing code.\n",
    "\n",
    "- APIs present a unique opportunity for businesses to meet their clients needs across different platforms. For example, maps API allows       map information integration that is helpful in food delivery apps. Any business can give similar access to their internal databases by using free or paid APIs.\n",
    "\n",
    "- API has various levels of security depending upon the type of API that you use which ensures that only authorized personnel have access     to the data generated using API.\n",
    "\n",
    "\n",
    "Some of the disadvantages of API are as follows:\n",
    "\n",
    "- As a single point of entry, an API is a gateway and can become a hacker's primary target. Once the API is compromised, all other           applications and systems become vulnerable.\n",
    "\n",
    "- Implementing and providing API capabilities can be costly in terms of development times, ongoing maintenance requirements, and providing   support.\n",
    "\n",
    "- If API depends on a third-party service, your application will also be unavailable and if it uses The HTTP protocol it does not offer any   guarantee of delivery of the response and is unreliable."
   ]
  },
  {
   "cell_type": "markdown",
   "id": "b8f84a0c-a14b-42fe-87fc-500d117de5c1",
   "metadata": {},
   "source": [
    "### ---------------------------------------------------------------------------------------"
   ]
  },
  {
   "cell_type": "markdown",
   "id": "b3289b51-b6a9-4686-9735-7301f063a21f",
   "metadata": {},
   "source": [
    "#### What is a Web API? Differentiate between API and Web API."
   ]
  },
  {
   "cell_type": "markdown",
   "id": "f86d631f-8a5f-416a-9196-d5f1673b9858",
   "metadata": {},
   "source": [
    "Ans -> Web APIs are a subset of APIs that are accessed over the web using HTTPS protocol.It is a framework that helps you to create and develop HTTP based RESTFUL services.REST stands for Representational State Transfer, which is a set of principles for building web services that use HTTP (Hypertext Transfer Protocol) as the communication protocol. \n",
    "\n",
    "Difference between API and Web API are-\n",
    "\n",
    "- APIs uses TCP(Transmission Control Protocol) , SMTP(Simple Mail Transfer Protocol) and HTTPS (Hypertext Transfer Protocol) communication protocol while web Api which is a subset of Api only works over HTTPs protocol.\n",
    "\n"
   ]
  },
  {
   "cell_type": "markdown",
   "id": "540beafa-b882-4a62-b07d-8f8b8607aa39",
   "metadata": {},
   "source": [
    "### ---------------------------------------------------------------------------------------"
   ]
  },
  {
   "cell_type": "markdown",
   "id": "5bc3696f-a481-47d8-9e29-4eef5134e0e4",
   "metadata": {},
   "source": [
    "#### Q4. Explain REST and SOAP Architecture. Mention shortcomings of SOAP."
   ]
  },
  {
   "cell_type": "markdown",
   "id": "4493a1d6-07ca-4f2a-8128-767c266203fc",
   "metadata": {},
   "source": [
    "Ans ->\n",
    "### REST ARCHITECTURE\n",
    "\n",
    "REST is a set of architectural principles attuned to the needs of lightweight web services and mobile applications. Because it's a set of guidelines, it leaves the implementation of these recommendations to developers.\n",
    "\n",
    "When a request for data is sent to a REST API, it’s usually done through hypertext transfer protocol (commonly referred to as HTTP). Once a request is received, APIs designed for REST (called RESTful APIs or RESTful web services) can return messages in a variety of formats: HTML, XML, plain text, and JSON. JSON (JavaScript object notation) is favored as a message format because it can be read by any programming language (despite the name), is human- and machine-readable, and is lightweight. In this way, RESTful APIs are more flexible and can be easier to set up.\n",
    "\n",
    "An application is said to be RESTful if it follows 6 architectural guidelines. A RESTful application must have:\n",
    "\n",
    "1. A client-server architecture composed of clients, servers, and resources.\n",
    "\n",
    "2. Stateless client-server communication, meaning no client content is stored on the server between requests. Information about the session’s state is instead held with the client.\n",
    "\n",
    "3. Cacheable data to eliminate the need for some client-server interactions.\n",
    "\n",
    "4. A uniform interface between components so that information is transferred in a standardized form using HTTP verbs (GET,POST,PUT,DELETE). \n",
    "\n",
    "5. A layered system constraint, where client-server interactions can be mediated by hierarchical layers.\n",
    "\n",
    "6. Code on demand, allowing servers to extend the functionality of a client by transferring executable code (though also reducing visibility, making this an optional guideline).\n",
    "\n",
    "\n",
    "### SOAP ARCHITECTURE\n",
    "\n",
    "SOAP is a standard protocol that was first designed so that applications built with different languages and on different platforms could communicate. Because it is a protocol, it imposes built-in rules that increase its complexity and overhead, which can lead to longer page load times. However, these standards also offer built-in compliances that can make it preferable for enterprise scenarios. The built-in compliance standards include security, atomicity, consistency, isolation, and durability (ACID), which is a set of properties for ensuring reliable database transactions.\n",
    "When a request for data is sent to a SOAP API, it can be handled through any of the application layer protocols: HTTP (for web browsers), SMTP (for email), TCP, and others. However, once a request is received, return SOAP messages must be returned as XML documents—a markup language.\n",
    "\n",
    "#### SOAP shortcoming:\n",
    "SOAP uses XML format that must be parsed to be read. It defines many standards that must be followed while developing the SOAP applications. So it is slow and consumes more bandwidth and resource."
   ]
  },
  {
   "cell_type": "markdown",
   "id": "75f005ef-83e7-4038-8dd3-71b4393f5e86",
   "metadata": {},
   "source": [
    "### ---------------------------------------------------------------------------------------"
   ]
  },
  {
   "cell_type": "markdown",
   "id": "ee24dfd5-52f5-4fd9-98e7-b49cf69abf4d",
   "metadata": {},
   "source": [
    "#### Q5. Differentiate between REST and SOAP."
   ]
  },
  {
   "cell_type": "markdown",
   "id": "9ae431e5-a450-4ae6-8313-7fd105b411a8",
   "metadata": {},
   "source": [
    "Ans -> Some of the key differences between REST and SOAP  APIs are as follows-\n",
    "\n",
    "- REST APIs relies on Representational state transfer (REST) architecture while SOAP APIs relies on simple object access protocol.\n",
    "\n",
    "- REST APIs work over HTTP or HTTPS communication protocol while SOPA APIs works TCP or SMTP protocol.\n",
    "\n",
    "- REST APIs have variour uniform function like - GET, POST, PUT, DELETE to establish communication between the client and server while SOAP   API utilizes XML based communication based on WSDL.\n",
    "\n",
    "- REST APIs are less structured and more flexible while SOAP APIs are highly structured and less flexible.\n",
    "\n",
    "- REST APIs are easy to create and scale while SOAP APIs have higer complexity and difficult to scale.\n",
    "\n",
    "- Since SOAP is a protocol, it follows a strict standard to allow communication between the client and the server whereas REST is an        architectural style that doesn’t follow any strict standard but follows six constraints. Those constraints are – Uniform Interface, Client-Server, Stateless, Cacheable, Layered System, Code on Demand.\n",
    "\n",
    "- SOAP requires more bandwidth for its usage. Since SOAP Messages are of XML format which contains a lot of information inside of it, the amount of data transfer using SOAP is generally a lot while REST APIs does not need much bandwidth when requests are sent to the server. REST messages mostly just consist of JSON messages. \n",
    "\n"
   ]
  }
 ],
 "metadata": {
  "kernelspec": {
   "display_name": "Python 3 (ipykernel)",
   "language": "python",
   "name": "python3"
  },
  "language_info": {
   "codemirror_mode": {
    "name": "ipython",
    "version": 3
   },
   "file_extension": ".py",
   "mimetype": "text/x-python",
   "name": "python",
   "nbconvert_exporter": "python",
   "pygments_lexer": "ipython3",
   "version": "3.10.8"
  }
 },
 "nbformat": 4,
 "nbformat_minor": 5
}
