{
 "cells": [
  {
   "cell_type": "markdown",
   "id": "bfcc7af5-409d-4815-a20a-50ab3e697c96",
   "metadata": {},
   "source": [
    "### ASSIGNMENT 05 FEB\n"
   ]
  },
  {
   "cell_type": "markdown",
   "id": "1eaa7b03-f20e-4329-a857-af528010d02a",
   "metadata": {},
   "source": [
    "#### Q1. Explain Class and Object with respect to Object-Oriented Programming. Give a suitable example."
   ]
  },
  {
   "cell_type": "raw",
   "id": "48e5620d-8e9b-4d40-8814-89c97f45fabb",
   "metadata": {},
   "source": [
    "Class is a bluprint or a tempelate based on which object or instances are created, each having thier specific info but same sturcture based on class.\n",
    "It helps in code reusability and giving a clear structure to our code.Along with giving features like inheritance, polymorphism etc"
   ]
  },
  {
   "cell_type": "code",
   "execution_count": 1,
   "id": "0fd09d28-153c-4d02-8a1f-7d40190530c0",
   "metadata": {},
   "outputs": [],
   "source": [
    "###Example\n",
    "\n",
    "class student:\n",
    "    \n",
    "    def __init__(self , roll_no , name , branch):\n",
    "        \n",
    "        self.roll_no = roll_no\n",
    "        self.name = name\n",
    "        self.branch = branch\n",
    "        \n",
    "    def display(self):\n",
    "        return self.name , self.roll_no , self.branch\n",
    "    \n"
   ]
  },
  {
   "cell_type": "code",
   "execution_count": 2,
   "id": "30e29bed-b086-4a6b-97fe-1ab605832078",
   "metadata": {},
   "outputs": [
    {
     "data": {
      "text/plain": [
       "('Aryav Dubey', 181112003, 'CSE')"
      ]
     },
     "execution_count": 2,
     "metadata": {},
     "output_type": "execute_result"
    }
   ],
   "source": [
    "Aryav = student(181112003,'Aryav Dubey','CSE')\n",
    "Aryav.display()"
   ]
  },
  {
   "cell_type": "markdown",
   "id": "23ed8606-a92c-4d24-93c2-5ae45c1b162d",
   "metadata": {},
   "source": [
    "### ------------------------------------------------------------"
   ]
  },
  {
   "cell_type": "markdown",
   "id": "c5fb09a0-39b6-429a-ba18-2b08b265cfd5",
   "metadata": {},
   "source": [
    "#### Q2. Name the four pillars of OOPs."
   ]
  },
  {
   "cell_type": "raw",
   "id": "db04706a-da2a-4448-86f7-fd389fc68331",
   "metadata": {},
   "source": [
    "1) Encapsulation 2) Inheritance 3) Polhymorphism 4) Abstraction"
   ]
  },
  {
   "cell_type": "markdown",
   "id": "946e36a5-db10-4395-a890-4aadf3fab66a",
   "metadata": {},
   "source": [
    "### ------------------------------------------------------------\n"
   ]
  },
  {
   "cell_type": "markdown",
   "id": "4f3d147b-5617-42be-9cce-32e4882b0c7f",
   "metadata": {},
   "source": [
    "#### Q3. Explain why the __init__() function is used. Give a suitable example."
   ]
  },
  {
   "cell_type": "markdown",
   "id": "3ef9d455-126f-441b-8d11-164fbe87d08d",
   "metadata": {},
   "source": [
    "init() is a constructor fuction that is used to intialize an object of a class."
   ]
  },
  {
   "cell_type": "code",
   "execution_count": 2,
   "id": "932369fa-387b-446c-abd0-a9bba76b3db2",
   "metadata": {},
   "outputs": [],
   "source": [
    "## Example\n",
    "\n",
    "class student:\n",
    "    \n",
    "    def __init__(self , roll_no , name , branch):\n",
    "        \n",
    "        self.roll_no = roll_no\n",
    "        self.name = name\n",
    "        self.branch = branch\n",
    "        \n",
    "    def display(self):\n",
    "        return self.name , self.roll_no , self.branch\n",
    "    \n",
    "\n",
    "        "
   ]
  },
  {
   "cell_type": "code",
   "execution_count": 5,
   "id": "8decd523-b258-4d34-ae7b-026a34decc6d",
   "metadata": {},
   "outputs": [
    {
     "data": {
      "text/plain": [
       "('Aryav Dubey', 181112003, 'CSE')"
      ]
     },
     "execution_count": 5,
     "metadata": {},
     "output_type": "execute_result"
    }
   ],
   "source": [
    "Aryav = student(181112003,'Aryav Dubey','CSE')\n",
    "Aryav.display()"
   ]
  },
  {
   "cell_type": "markdown",
   "id": "52576c4a-9b36-40a3-95b4-c46bfdb46445",
   "metadata": {},
   "source": [
    "### ------------------------------------------------------------\n"
   ]
  },
  {
   "cell_type": "markdown",
   "id": "0c873080-f18a-4d5f-a914-0baa2bb30801",
   "metadata": {},
   "source": [
    "#### Q4. Why self is used in OOPs?"
   ]
  },
  {
   "cell_type": "raw",
   "id": "77156c33-3ad0-4a7a-a59a-6f10cf46370b",
   "metadata": {},
   "source": [
    "Self is passed as an argument to member funtion of a class so as to act as a pointer to the instance or object which has called the member function."
   ]
  },
  {
   "cell_type": "markdown",
   "id": "ac586281-0a19-4a20-895c-a14106e53d4e",
   "metadata": {},
   "source": [
    "### ------------------------------------------------------------\n"
   ]
  },
  {
   "cell_type": "markdown",
   "id": "ff01f589-e19d-4b3a-80d7-edd9767d8592",
   "metadata": {},
   "source": [
    "#### Q5. What is inheritance? Give an example for each type of inheritance."
   ]
  },
  {
   "cell_type": "raw",
   "id": "3b8e494a-38a4-4cb6-9351-8264331fd063",
   "metadata": {},
   "source": [
    "It is a mechanism that allows you to create a hierarchy of classes that share a set of properties and methods by deriving a class from another class. Parent class is the class being inherited from, also called base class. Child class is the class that inherits from another class, also called derived class."
   ]
  },
  {
   "cell_type": "code",
   "execution_count": 1,
   "id": "d1deac7e-2d8d-49e7-b9fb-7f238c1937e2",
   "metadata": {},
   "outputs": [],
   "source": [
    "                                                #EXAMPLE -  syntax\n",
    "class A:\n",
    "    pass\n",
    "    \n",
    "class DerivedClass(A):\n",
    "    pass"
   ]
  },
  {
   "cell_type": "raw",
   "id": "80dfa954-e968-4c70-917e-5892ca230df8",
   "metadata": {},
   "source": [
    "There are 5 type of inheritance in python:\n",
    "\n",
    "1) Single inheritance: When a child class inherits from only one parent class, it is called single inheritance. \n",
    "\n",
    "2) Multiple inheritances: When a child class inherits from multiple parent classes, it is called multiple inheritances. \n",
    "\n",
    "3) Multilevel inheritance: When a child class (C) inherits from a class (B) which is inturn child of another class(A)\n",
    "\n",
    "4) Hierarchical inheritance : When more than one sub-class inherits the property of a single base class.\n",
    "\n",
    "5) Hybrid inheritance: This form combines more than one form of inheritance."
   ]
  },
  {
   "cell_type": "code",
   "execution_count": 3,
   "id": "282b1951-17f6-4914-83ff-ecaeb1d856f2",
   "metadata": {},
   "outputs": [
    {
     "name": "stdout",
     "output_type": "stream",
     "text": [
      "Method of A is called\n"
     ]
    }
   ],
   "source": [
    "#Example:\n",
    "#1) Single inheritance\n",
    "\n",
    "class A:\n",
    "    def show(self):\n",
    "        print(\"Method of A is called\")\n",
    "\n",
    "class B(A):\n",
    "    pass\n",
    "\n",
    "obj = B()\n",
    "obj.show()\n",
    "        "
   ]
  },
  {
   "cell_type": "code",
   "execution_count": 8,
   "id": "17871585-f123-4258-a8be-4e370bbf8057",
   "metadata": {},
   "outputs": [
    {
     "name": "stdout",
     "output_type": "stream",
     "text": [
      "Method of A is called\n",
      "Method of B is called\n"
     ]
    }
   ],
   "source": [
    "#Example:\n",
    "#1) Multiple inheritance\n",
    "\n",
    "class A:\n",
    "    def show(self):\n",
    "        print(\"Method of A is called\")\n",
    "\n",
    "class B:\n",
    "    def display(self):\n",
    "        print(\"Method of B is called\")\n",
    "        \n",
    "class C(B,A):\n",
    "    pass\n",
    "\n",
    "obj = C()\n",
    "obj.show()\n",
    "obj.display()\n",
    "\n",
    "        "
   ]
  },
  {
   "cell_type": "code",
   "execution_count": 10,
   "id": "532bace2-b22f-432e-a663-13202c329f85",
   "metadata": {},
   "outputs": [
    {
     "name": "stdout",
     "output_type": "stream",
     "text": [
      "Method of B is called\n"
     ]
    }
   ],
   "source": [
    "#Example:\n",
    "#1) Multilevel inheritance\n",
    "\n",
    "class A:\n",
    "    def show(self):\n",
    "        print(\"Method of A is called\")\n",
    "\n",
    "class B(A):\n",
    "    def show(self):\n",
    "        print(\"Method of B is called\")\n",
    "        \n",
    "class C(B):\n",
    "    pass\n",
    "\n",
    "obj = C()\n",
    "obj.show()\n",
    "\n",
    "        "
   ]
  },
  {
   "cell_type": "code",
   "execution_count": 11,
   "id": "5654f23f-de40-4060-bba5-065f7721dea1",
   "metadata": {},
   "outputs": [
    {
     "name": "stdout",
     "output_type": "stream",
     "text": [
      "Method of A is called\n",
      "Method of A is called\n"
     ]
    }
   ],
   "source": [
    "#Example:\n",
    "#1) Hierarchial inheritance\n",
    "\n",
    "class A:\n",
    "    def show(self):\n",
    "        print(\"Method of A is called\")\n",
    "\n",
    "class B(A):\n",
    "    pass\n",
    "\n",
    "class C(A):\n",
    "    pass\n",
    "\n",
    "obj =  C()\n",
    "obj1 = B()\n",
    "obj.show()\n",
    "obj1.show()\n",
    "\n",
    "        "
   ]
  }
 ],
 "metadata": {
  "kernelspec": {
   "display_name": "Python 3 (ipykernel)",
   "language": "python",
   "name": "python3"
  },
  "language_info": {
   "codemirror_mode": {
    "name": "ipython",
    "version": 3
   },
   "file_extension": ".py",
   "mimetype": "text/x-python",
   "name": "python",
   "nbconvert_exporter": "python",
   "pygments_lexer": "ipython3",
   "version": "3.10.8"
  }
 },
 "nbformat": 4,
 "nbformat_minor": 5
}
