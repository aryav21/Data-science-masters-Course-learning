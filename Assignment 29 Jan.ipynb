{
 "cells": [
  {
   "cell_type": "markdown",
   "id": "1a9c1f40-0f91-49a7-ae09-2495330dd1bb",
   "metadata": {},
   "source": [
    "## ASSIGNMENT 29 Jan"
   ]
  },
  {
   "cell_type": "raw",
   "id": "69bdad5e-7cc2-4238-ab98-dff2e825e5ad",
   "metadata": {},
   "source": [
    "1)Guido van Rossum developed python"
   ]
  },
  {
   "cell_type": "raw",
   "id": "7f840e39-6d1b-4631-85c1-456e958b0803",
   "metadata": {},
   "source": [
    "2)Python is an interpreted programming language, supporting object-oriented, structured, and functional programming."
   ]
  },
  {
   "cell_type": "raw",
   "id": "a424a32f-8fc6-4688-988f-a2088addbb16",
   "metadata": {},
   "source": [
    "3) Yes , python is case sensetive while dealing with identifiers"
   ]
  },
  {
   "cell_type": "raw",
   "id": "2cf69bbe-604e-446e-8d45-f9c0674e2797",
   "metadata": {},
   "source": [
    "4).py or .ipynb for jupyter"
   ]
  },
  {
   "cell_type": "raw",
   "id": "6093358f-02e6-4722-a630-806e82c578dc",
   "metadata": {},
   "source": [
    "5)Python code is interpreted"
   ]
  },
  {
   "cell_type": "raw",
   "id": "a2fa8035-d019-46fc-80b3-4038f478ed36",
   "metadata": {},
   "source": [
    "6)Indentation is used to define a block of code in python"
   ]
  },
  {
   "cell_type": "raw",
   "id": "7fcbeb8b-1b00-4829-bc14-50916960cb8a",
   "metadata": {},
   "source": [
    "7)# is used for single line commenting."
   ]
  },
  {
   "cell_type": "raw",
   "id": "de654956-1d92-45fd-a08a-344b1c85b54c",
   "metadata": {},
   "source": [
    "8)python_version() function "
   ]
  },
  {
   "cell_type": "raw",
   "id": "0b094ab1-3b1f-4e33-b431-b22be729361a",
   "metadata": {},
   "source": [
    "9)Lambda "
   ]
  },
  {
   "cell_type": "raw",
   "id": "d28497f2-aaaf-4d34-acbb-499452bcad6c",
   "metadata": {},
   "source": [
    "10) Preferred Installer Program (PIP)"
   ]
  },
  {
   "cell_type": "raw",
   "id": "a0454558-7d60-4909-bf04-934ded08d9eb",
   "metadata": {},
   "source": [
    "11) print() , input() , type() etc are bulit in function in python"
   ]
  },
  {
   "cell_type": "raw",
   "id": "f103bc9b-0043-460b-908f-fe0eb9f6cd43",
   "metadata": {},
   "source": [
    "12) 79 characters"
   ]
  },
  {
   "cell_type": "raw",
   "id": "144c8831-3855-4d6d-979c-31a08da021aa",
   "metadata": {},
   "source": [
    "13) 1) Presence of large number of Libraries - 137,000 that have various application.\n",
    "    2) Open Source and free.\n",
    "    3) Easy to learn\n",
    "    4) Dynamic typing.\n",
    "    5) Has multitude of application be it in ML , Web dev , AI etc.\n",
    "\n"
   ]
  },
  {
   "cell_type": "raw",
   "id": "abe7fe25-e729-4cb9-a030-e3bec7e85db1",
   "metadata": {},
   "source": [
    "14) Steps to intall python on windows:\n",
    "    1. Download the latest version (or older based on your requirement) from https://www.python.org/downloads/\n",
    "    2. Follow all the steps of the installer.\n",
    "    3. Setting environment variables.\n",
    "         - Right-clicking This PC and going to Properties.\n",
    "         - Clicking on the Advanced system settings in the menu on the left.\n",
    "         - Clicking on the Environment Variables button on the bottom right.\n",
    "         - In the System variables section, selecting the Path variable and clicking on Edit.\n",
    "         - Clicking on New and entering Python’s install directory.\n",
    "         - Now you could access python from cmd or any IDEs\n",
    "    \n",
    "    "
   ]
  },
  {
   "cell_type": "raw",
   "id": "aa905e7d-08a0-464f-a466-d8a7802547a3",
   "metadata": {},
   "source": [
    "15) Python has a private heap that stores our program’s objects and data structures. Python memory manager takes care of the    bulk of the memory management work. There are two types of memory allocation in Python, static and dynamic.The stack data structure provides static memory allocation.Statically assigned variables are permanent; this means that they must be allocated in advance and persist for the duration of the program.We cannot reuse the memory allocated in the stack memory.Therefore, memory reusability is not possible. The dynamic memory allocation uses heap data structures in its implementation and these dynamically allocated variables are not permanent and can be changed while a program is running. Additionally, allotted memory can be relinquished and reused. However, it takes longer to complete because dynamic memory allocation occurs during program execution. Furthermore, after utilizing the allocated memory, we must release it. Otherwise, problems such as memory leaks might arise.Python also uses garbage collection to release memory blocks no longer in use."
   ]
  },
  {
   "cell_type": "raw",
   "id": "56634a8c-2cf2-46e2-abd0-103fb827150a",
   "metadata": {},
   "source": [
    "16) Indentation in Python is necessary as it indicates a block of code and defines a proper flow of execution."
   ]
  }
 ],
 "metadata": {
  "kernelspec": {
   "display_name": "Python 3 (ipykernel)",
   "language": "python",
   "name": "python3"
  },
  "language_info": {
   "codemirror_mode": {
    "name": "ipython",
    "version": 3
   },
   "file_extension": ".py",
   "mimetype": "text/x-python",
   "name": "python",
   "nbconvert_exporter": "python",
   "pygments_lexer": "ipython3",
   "version": "3.10.8"
  }
 },
 "nbformat": 4,
 "nbformat_minor": 5
}
