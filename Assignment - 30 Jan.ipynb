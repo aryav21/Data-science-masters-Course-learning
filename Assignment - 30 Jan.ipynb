{
 "cells": [
  {
   "cell_type": "markdown",
   "id": "3b47a8d5-6a0e-476a-8116-f2c25f4273f9",
   "metadata": {},
   "source": [
    "## ASSIGNMENT 30 Jan"
   ]
  },
  {
   "cell_type": "markdown",
   "id": "a0765f62-e303-44a9-aa7a-4f3ace27cb52",
   "metadata": {},
   "source": [
    "#### Q1. Write a program to accept percentage and display grade"
   ]
  },
  {
   "cell_type": "code",
   "execution_count": 1,
   "id": "5d04d894-b496-4113-9f07-5eef5930f407",
   "metadata": {},
   "outputs": [
    {
     "name": "stdin",
     "output_type": "stream",
     "text": [
      "Enter your percentage :  81\n"
     ]
    },
    {
     "name": "stdout",
     "output_type": "stream",
     "text": [
      "Grade : B\n"
     ]
    }
   ],
   "source": [
    "p = float(input(\"Enter your percentage : \"))\n",
    "if p >90:\n",
    "        print(\"Grade : A\")\n",
    "elif p<=90 and p>80:\n",
    "        print(\"Grade : B\")\n",
    "elif p<=80 and p>=60:\n",
    "        print(\"Grade : C\")\n",
    "elif p<60 and p>0:\n",
    "        print(\"Grade : D\")\n",
    "else:\n",
    "        print(\"Invalid percentage\")\n"
   ]
  },
  {
   "cell_type": "markdown",
   "id": "ca6bc9ac-8be9-4e86-8066-3ce3f34dfe38",
   "metadata": {},
   "source": [
    "#### Q2. Write a program to accept cost price and diplay road tax to be paid"
   ]
  },
  {
   "cell_type": "code",
   "execution_count": 3,
   "id": "90e6ffb8-3e93-4f42-9647-74e597a8ab28",
   "metadata": {},
   "outputs": [
    {
     "name": "stdin",
     "output_type": "stream",
     "text": [
      "Enter the price :  15000\n"
     ]
    },
    {
     "name": "stdout",
     "output_type": "stream",
     "text": [
      "Road tax :  750.0\n"
     ]
    }
   ],
   "source": [
    "cost = float(input(\"Enter the price : \"))\n",
    "if cost >100000:\n",
    "        print(\"Road tax : \",cost*0.15)\n",
    "elif cost<=100000 and cost>50000:\n",
    "        print(\"Road tax : \",cost*0.10)\n",
    "elif cost<=50000 and cost>0:\n",
    "       print(\"Road tax : \",cost*0.05)\n",
    "else:\n",
    "       print(\"Invalid input\")"
   ]
  },
  {
   "cell_type": "markdown",
   "id": "3cf172ad-b318-463f-8530-e42159d11de9",
   "metadata": {},
   "source": [
    "#### Q3. Accept city from user and display monument"
   ]
  },
  {
   "cell_type": "code",
   "execution_count": 4,
   "id": "7fc193e6-fac8-4f01-9de9-b8f2ad848a50",
   "metadata": {},
   "outputs": [
    {
     "name": "stdin",
     "output_type": "stream",
     "text": [
      "Enter the city :  Delhi\n"
     ]
    },
    {
     "name": "stdout",
     "output_type": "stream",
     "text": [
      "Monument: Red fort \n"
     ]
    }
   ],
   "source": [
    "city = (input(\"Enter the city : \"))\n",
    "match city:\n",
    "    case'Delhi':\n",
    "            print(\"Monument: Red fort \")\n",
    "            \n",
    "    case 'Jaipur':\n",
    "            print(\"Monument: Jal Mahal \")\n",
    "         \n",
    "    case 'Agra':\n",
    "            print(\"Monument: Taj Mahal \")\n",
    "            \n",
    " "
   ]
  },
  {
   "cell_type": "markdown",
   "id": "f96318cd-d490-4ab5-84e7-68ec6ae19d4f",
   "metadata": {},
   "source": [
    "#### Q4. Check how many times a number can be divided by 3 before it is less than or equal to 10"
   ]
  },
  {
   "cell_type": "code",
   "execution_count": 1,
   "id": "1248a580-fa3b-4d6c-9293-a5b600453e1d",
   "metadata": {},
   "outputs": [
    {
     "name": "stdin",
     "output_type": "stream",
     "text": [
      "Enter your number :  90\n"
     ]
    },
    {
     "name": "stdout",
     "output_type": "stream",
     "text": [
      "3\n"
     ]
    }
   ],
   "source": [
    "n = int(input(\"Enter your number : \"))\n",
    "count = 0\n",
    "while(n>=10):\n",
    "    count = count + 1\n",
    "    n/=3\n",
    "print(count)\n"
   ]
  },
  {
   "cell_type": "markdown",
   "id": "73aade66-7622-4c65-aa5b-caf4179e45ee",
   "metadata": {},
   "source": [
    "#### Q5. Why and when to use while loop with examples"
   ]
  },
  {
   "cell_type": "markdown",
   "id": "c52b6400-507a-4261-83ec-4f79e37507fc",
   "metadata": {},
   "source": [
    "While loop are used when a piece of code need to be executed again and again until a specifed codition is true.\n",
    "Ex - It can be used to generate a prompt window that keep asking for new value until the codition is true."
   ]
  },
  {
   "cell_type": "code",
   "execution_count": 5,
   "id": "abbbeea3-1905-4635-8db8-5c7875af1497",
   "metadata": {},
   "outputs": [
    {
     "name": "stdin",
     "output_type": "stream",
     "text": [
      "Enter name of participant Aryav\n"
     ]
    },
    {
     "name": "stdout",
     "output_type": "stream",
     "text": [
      "Hello  Aryav\n",
      "Welcome to Data science masters batch\n"
     ]
    },
    {
     "name": "stdin",
     "output_type": "stream",
     "text": [
      "Enter 1 for new admission and 2 to exit 1\n",
      "Enter name of participant Sachin\n"
     ]
    },
    {
     "name": "stdout",
     "output_type": "stream",
     "text": [
      "Hello  Sachin\n",
      "Welcome to Data science masters batch\n"
     ]
    },
    {
     "name": "stdin",
     "output_type": "stream",
     "text": [
      "Enter 1 for new admission and 2 to exit 0\n"
     ]
    }
   ],
   "source": [
    "permission = 1\n",
    "\n",
    "while(permission):\n",
    "    name = input(\"Enter name of participant\")\n",
    "    print(\"Hello \",name)\n",
    "    print(\"Welcome to Data science masters batch\")\n",
    "    per = int(input(\"Enter 1 for new admission and 2 to exit\"))\n",
    "    permission = per"
   ]
  },
  {
   "cell_type": "markdown",
   "id": "0fa02ace-9025-4c08-ace5-5ed994a197cc",
   "metadata": {},
   "source": [
    "#### Q6. Use nested while loop to print three sequences.\n"
   ]
  },
  {
   "cell_type": "code",
   "execution_count": 6,
   "id": "33e01fee-d937-48e4-ae38-199b9140498c",
   "metadata": {},
   "outputs": [
    {
     "name": "stdout",
     "output_type": "stream",
     "text": [
      "\n",
      "*\n",
      "**\n",
      "***\n",
      "****\n",
      "*****\n",
      "******\n",
      "*******\n",
      "********\n",
      "*********\n"
     ]
    }
   ],
   "source": [
    "n = 10\n",
    "for i in range (n):\n",
    "    for j in range (i):\n",
    "        print(\"*\",end ='')\n",
    "    print(\"\")"
   ]
  },
  {
   "cell_type": "code",
   "execution_count": 34,
   "id": "a624f7e2-74a9-4571-b185-43f640fc66fa",
   "metadata": {},
   "outputs": [
    {
     "name": "stdout",
     "output_type": "stream",
     "text": [
      "* * * * * \n",
      "* * * * * \n",
      "* * * * * \n",
      "* * * * * \n",
      "* * * * * \n"
     ]
    }
   ],
   "source": [
    "n = 5\n",
    "for i in range (n):\n",
    "    for j in range (n):\n",
    "        print(\"*\",end =' ')\n",
    "    print(\"\")"
   ]
  },
  {
   "cell_type": "code",
   "execution_count": 1,
   "id": "a85a5707-24cf-46f4-a336-fab782b89d55",
   "metadata": {},
   "outputs": [
    {
     "name": "stdout",
     "output_type": "stream",
     "text": [
      "*********\n",
      "********\n",
      "*******\n",
      "******\n",
      "*****\n",
      "****\n",
      "***\n",
      "**\n",
      "*\n",
      "\n"
     ]
    }
   ],
   "source": [
    "n = 10\n",
    "for i in range (n):\n",
    "    for j in range (n-i-1):\n",
    "        print(\"*\",end ='')\n",
    "    print(\"\")"
   ]
  },
  {
   "cell_type": "markdown",
   "id": "86ce8f0f-c71d-4576-9cf6-b28af1cc034b",
   "metadata": {},
   "source": [
    "#### Q7 & Q8 Reverse a while loop to diplay 10 to 1"
   ]
  },
  {
   "cell_type": "code",
   "execution_count": 19,
   "id": "5e20bdeb-e942-4b42-bff7-c8b62f3336ae",
   "metadata": {},
   "outputs": [
    {
     "name": "stdout",
     "output_type": "stream",
     "text": [
      "10\n",
      "9\n",
      "8\n",
      "7\n",
      "6\n",
      "5\n",
      "4\n",
      "3\n",
      "2\n",
      "1\n"
     ]
    }
   ],
   "source": [
    "i =0\n",
    "while(i<10):\n",
    "    print(10-i)\n",
    "    i = i+1"
   ]
  }
 ],
 "metadata": {
  "kernelspec": {
   "display_name": "Python 3 (ipykernel)",
   "language": "python",
   "name": "python3"
  },
  "language_info": {
   "codemirror_mode": {
    "name": "ipython",
    "version": 3
   },
   "file_extension": ".py",
   "mimetype": "text/x-python",
   "name": "python",
   "nbconvert_exporter": "python",
   "pygments_lexer": "ipython3",
   "version": "3.10.8"
  }
 },
 "nbformat": 4,
 "nbformat_minor": 5
}
