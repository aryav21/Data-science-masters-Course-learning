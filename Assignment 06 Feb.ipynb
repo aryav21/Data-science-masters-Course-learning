{
 "cells": [
  {
   "cell_type": "markdown",
   "id": "b238e114-5878-445e-b90d-adb20630ef6d",
   "metadata": {},
   "source": [
    "## ASSIGNMENT 06 Feb"
   ]
  },
  {
   "cell_type": "markdown",
   "id": "c130b019-da1e-4832-9a07-dc6af02c1aee",
   "metadata": {},
   "source": [
    "### --------------------------------------------------------------"
   ]
  },
  {
   "cell_type": "markdown",
   "id": "7f9401e9-cbfd-44e2-b065-fa6e050251cf",
   "metadata": {},
   "source": [
    "#### Q1. Create a function which will take a list as an argument and return the product of all the numbers\n",
    "#### after creating a flat list.\n",
    "#### Use the below-given list as an argument for your function.\n",
    "#### list1 = [1,2,3,4, [44,55,66, True], False, (34,56,78,89,34), {1,2,3,3,2,1}, {1:34, \"key2\": [55, 67, 78, 89], 4: (45,\n",
    "#### 22, 61, 34)}, [56, 'data science'], 'Machine Learning']\n",
    "#### Note: you must extract numeric keys and values of the dictionary also."
   ]
  },
  {
   "cell_type": "code",
   "execution_count": 114,
   "id": "91824f97-efbe-4444-8b8f-2467ce2ce49a",
   "metadata": {},
   "outputs": [],
   "source": [
    "from functools import reduce\n",
    "def lister(l):\n",
    "    l1 = []\n",
    "    for i in l:\n",
    "        if(type(i)==int):\n",
    "            l1.append(i)\n",
    "        elif(type(i)==list or type(i)==tuple):\n",
    "            for j in i:\n",
    "                if(type(j)==int):\n",
    "                    l1.append(j)\n",
    "        elif(type(i)==set):\n",
    "            l2 =list(i)*2\n",
    "            for j in l2:\n",
    "                if(type(j)==int):\n",
    "                    l1.append(j)\n",
    "        elif(type(i)==dict):\n",
    "            l3 = list(i.keys())\n",
    "            l4 = list(i.values())\n",
    "            for j in l3:\n",
    "                if(type(j)==int):\n",
    "                    l1.append(j)\n",
    "            for k in l4:\n",
    "                if(type(k)==int):\n",
    "                    l1.append(k)\n",
    "                elif(type(k)==list or type(k)==tuple):\n",
    "                    for m in k:\n",
    "                        if(type(m)==int):\n",
    "                            l1.append(m)\n",
    "                \n",
    "\n",
    "    return l1       \n",
    "                    \n",
    "def multiplier(l):\n",
    "    m = reduce(lambda a,b: a*b ,l)\n",
    "    return m"
   ]
  },
  {
   "cell_type": "code",
   "execution_count": 115,
   "id": "82120978-84d5-4923-a1ef-3e44c9e7dc9d",
   "metadata": {},
   "outputs": [
    {
     "name": "stdout",
     "output_type": "stream",
     "text": [
      "[1, 2, 3, 4, 44, 55, 66, 34, 56, 78, 89, 34, 1, 2, 3, 1, 2, 3, 1, 4, 34, 55, 67, 78, 89, 45, 22, 61, 34, 56]\n",
      "24808271033922512873003047452672000\n"
     ]
    }
   ],
   "source": [
    "list1 = [1,2,3,4, [44,55,66, True], False, (34,56,78,89,34), {1,2,3,3,2,1}, {1:34, \"key2\": [55, 67, 78, 89], 4: (45,\n",
    "22, 61, 34)}, [56, 'data science'], 'Machine Learning']\n",
    "\n",
    "l=(lister(list1))\n",
    "print(l)\n",
    "print(multiplier(l))\n"
   ]
  },
  {
   "cell_type": "markdown",
   "id": "fd06456b-f64b-4590-8a64-1ac2493a2d06",
   "metadata": {},
   "source": [
    "### --------------------------------------------------------------"
   ]
  },
  {
   "cell_type": "markdown",
   "id": "eff6bb8a-918f-4760-b2fe-f9bc35938fe7",
   "metadata": {},
   "source": [
    "#### Q2. Write a python program for encrypting a message sent to you by your friend. The logic of encryption\n",
    "#### should be such that, for a the output should be z. For b, the output should be y. For c, the output should\n",
    "#### be x respectively. Also, the whitespace should be replaced with a dollar sign. Keep the punctuation\n",
    "#### marks unchanged.\n",
    "#### Input Sentence: I want to become a Data Scientist.\n",
    "#### Encrypt the above input sentence using the program you just created.\n",
    "#### Note: Convert the given input sentence into lowercase before encrypting. The final output should be\n",
    "#### lowercase."
   ]
  },
  {
   "cell_type": "code",
   "execution_count": 116,
   "id": "26bde345-46f5-41e2-b998-db4014bae965",
   "metadata": {},
   "outputs": [],
   "source": [
    " s = 'I want to become a Data Scientist.'\n",
    "\n",
    "d = {'a':'z','b':'y','c':'x','d':'w','e':'v','f':'u','g':'t','h':'s','i':'r','j':'q','k':'p','l':'o','m':'n','n':'m','o':'l','p':'k','q':'j','r':'i','s':'h','t':'g','u':'f','v':'e','w':'d','x':'c','y':'b','z':'a','$':'$','.':'.'}\n"
   ]
  },
  {
   "cell_type": "code",
   "execution_count": 57,
   "id": "97215cd7-8d08-4be3-978a-e98e5e6ef9ce",
   "metadata": {},
   "outputs": [],
   "source": [
    "def encrypter(s):\n",
    "    str1 = s.replace(' ','$').lower()\n",
    "    for i in range(len(str1)):\n",
    "           str1 =  str1.replace(str1[i],d[str1[i]])\n",
    "    \n",
    "    return str1"
   ]
  },
  {
   "cell_type": "code",
   "execution_count": 58,
   "id": "5fb1ff3f-164d-4730-a89e-515b352677c3",
   "metadata": {},
   "outputs": [
    {
     "name": "stdout",
     "output_type": "stream",
     "text": [
      "r$wamg$go$yvcomv$a$waga$scrvmgrsg.\n"
     ]
    }
   ],
   "source": [
    "print(encrypter(strings))"
   ]
  }
 ],
 "metadata": {
  "kernelspec": {
   "display_name": "Python 3 (ipykernel)",
   "language": "python",
   "name": "python3"
  },
  "language_info": {
   "codemirror_mode": {
    "name": "ipython",
    "version": 3
   },
   "file_extension": ".py",
   "mimetype": "text/x-python",
   "name": "python",
   "nbconvert_exporter": "python",
   "pygments_lexer": "ipython3",
   "version": "3.10.8"
  }
 },
 "nbformat": 4,
 "nbformat_minor": 5
}
